{
 "cells": [
  {
   "cell_type": "code",
   "execution_count": 3,
   "id": "f2e2503a",
   "metadata": {},
   "outputs": [],
   "source": [
    "import pandas as pd\n",
    "import numpy as np\n",
    "from sklearn.model_selection import StratifiedKFold, train_test_split\n",
    "from sklearn.preprocessing import LabelEncoder, StandardScaler\n",
    "from sklearn.impute import SimpleImputer\n",
    "from sklearn.metrics import accuracy_score, f1_score, precision_score, recall_score, roc_auc_score\n",
    "from pytorch_tabnet.tab_model import TabNetClassifier\n",
    "import torch"
   ]
  },
  {
   "cell_type": "code",
   "execution_count": 2,
   "id": "28106efb",
   "metadata": {
    "collapsed": true
   },
   "outputs": [
    {
     "name": "stdout",
     "output_type": "stream",
     "text": [
      "Collecting pytorch_tabnet\n",
      "  Obtaining dependency information for pytorch_tabnet from https://files.pythonhosted.org/packages/0f/92/ed98b89b7cf5661656daa4cc88e578f712eb5eae41b8f46a56c1ece3a895/pytorch_tabnet-4.1.0-py3-none-any.whl.metadata\n",
      "  Downloading pytorch_tabnet-4.1.0-py3-none-any.whl.metadata (15 kB)\n",
      "Requirement already satisfied: numpy>=1.17 in ./anaconda3/lib/python3.11/site-packages (from pytorch_tabnet) (1.24.3)\n",
      "Requirement already satisfied: scikit_learn>0.21 in ./anaconda3/lib/python3.11/site-packages (from pytorch_tabnet) (1.6.1)\n",
      "Requirement already satisfied: scipy>1.4 in ./anaconda3/lib/python3.11/site-packages (from pytorch_tabnet) (1.11.1)\n",
      "Requirement already satisfied: torch>=1.3 in ./anaconda3/lib/python3.11/site-packages (from pytorch_tabnet) (2.1.1)\n",
      "Requirement already satisfied: tqdm>=4.36 in ./anaconda3/lib/python3.11/site-packages (from pytorch_tabnet) (4.65.0)\n",
      "Requirement already satisfied: joblib>=1.2.0 in ./anaconda3/lib/python3.11/site-packages (from scikit_learn>0.21->pytorch_tabnet) (1.2.0)\n",
      "Requirement already satisfied: threadpoolctl>=3.1.0 in ./anaconda3/lib/python3.11/site-packages (from scikit_learn>0.21->pytorch_tabnet) (3.6.0)\n",
      "Requirement already satisfied: filelock in ./anaconda3/lib/python3.11/site-packages (from torch>=1.3->pytorch_tabnet) (3.9.0)\n",
      "Requirement already satisfied: typing-extensions in ./anaconda3/lib/python3.11/site-packages (from torch>=1.3->pytorch_tabnet) (4.13.2)\n",
      "Requirement already satisfied: sympy in ./anaconda3/lib/python3.11/site-packages (from torch>=1.3->pytorch_tabnet) (1.11.1)\n",
      "Requirement already satisfied: networkx in ./anaconda3/lib/python3.11/site-packages (from torch>=1.3->pytorch_tabnet) (3.1)\n",
      "Requirement already satisfied: jinja2 in ./anaconda3/lib/python3.11/site-packages (from torch>=1.3->pytorch_tabnet) (3.1.2)\n",
      "Requirement already satisfied: fsspec in ./anaconda3/lib/python3.11/site-packages (from torch>=1.3->pytorch_tabnet) (2023.4.0)\n",
      "Requirement already satisfied: MarkupSafe>=2.0 in ./anaconda3/lib/python3.11/site-packages (from jinja2->torch>=1.3->pytorch_tabnet) (2.1.1)\n",
      "Requirement already satisfied: mpmath>=0.19 in ./anaconda3/lib/python3.11/site-packages (from sympy->torch>=1.3->pytorch_tabnet) (1.3.0)\n",
      "Downloading pytorch_tabnet-4.1.0-py3-none-any.whl (44 kB)\n",
      "\u001b[2K   \u001b[90m━━━━━━━━━━━━━━━━━━━━━━━━━━━━━━━━━━━━━━━━\u001b[0m \u001b[32m44.5/44.5 kB\u001b[0m \u001b[31m2.7 MB/s\u001b[0m eta \u001b[36m0:00:00\u001b[0m\n",
      "\u001b[?25hInstalling collected packages: pytorch_tabnet\n",
      "Successfully installed pytorch_tabnet-4.1.0\n"
     ]
    }
   ],
   "source": [
    "!pip install pytorch_tabnet"
   ]
  },
  {
   "cell_type": "code",
   "execution_count": 4,
   "id": "b1a2b360",
   "metadata": {},
   "outputs": [],
   "source": [
    "# Load dataset\n",
    "df = pd.read_csv(\"heart_disease_uci.csv\")\n",
    "df.drop(columns=[\"id\", \"dataset\"], inplace=True)\n",
    "df[\"target\"] = df[\"num\"].apply(lambda x: 1 if x > 0 else 0)\n",
    "df.drop(columns=[\"num\"], inplace=True)\n",
    "\n",
    "numerical = ['age', 'trestbps', 'chol', 'thalch', 'oldpeak', 'ca']\n",
    "categorical = ['sex', 'cp', 'fbs', 'restecg', 'exang', 'slope', 'thal']\n",
    "\n",
    "# Handle missing values and encode categorical features\n",
    "df[numerical] = SimpleImputer(strategy=\"median\").fit_transform(df[numerical])\n",
    "for col in categorical:\n",
    "    df[col] = LabelEncoder().fit_transform(df[col].astype(str))\n",
    "df[numerical] = StandardScaler().fit_transform(df[numerical])\n",
    "\n",
    "X = df[numerical + categorical].values\n",
    "y = df[\"target\"].values\n"
   ]
  },
  {
   "cell_type": "code",
   "execution_count": 5,
   "id": "df6b8158",
   "metadata": {},
   "outputs": [],
   "source": [
    "# Train-Test Split\n",
    "X_train, X_test, y_train, y_test = train_test_split(X, y, stratify=y, test_size=0.2, random_state=42)\n",
    "\n",
    "# TabNet Classifier\n",
    "tabnet = TabNetClassifier(\n",
    "    n_d=64, n_a=64, n_steps=5,\n",
    "    gamma=1.5, n_independent=2, n_shared=2,\n",
    "    momentum=0.3, \n",
    "    lambda_sparse=1e-4,\n",
    "    optimizer_fn=torch.optim.Adam,\n",
    "    optimizer_params=dict(lr=2e-2),\n",
    "    scheduler_params={\"step_size\":10, \"gamma\":0.9},\n",
    "    scheduler_fn=torch.optim.lr_scheduler.StepLR,\n",
    "    verbose=0,\n",
    "    seed=42\n",
    ")"
   ]
  },
  {
   "cell_type": "code",
   "execution_count": 6,
   "id": "bf174745",
   "metadata": {},
   "outputs": [
    {
     "name": "stdout",
     "output_type": "stream",
     "text": [
      "\n",
      "Early stopping occurred at epoch 69 with best_epoch = 49 and best_val_auc = 0.90423\n"
     ]
    },
    {
     "name": "stderr",
     "output_type": "stream",
     "text": [
      "/Users/savalideshmukh/anaconda3/lib/python3.11/site-packages/pytorch_tabnet/callbacks.py:172: UserWarning: Best weights from best epoch are automatically used!\n",
      "  warnings.warn(wrn_msg)\n"
     ]
    }
   ],
   "source": [
    "# Fit TabNet\n",
    "tabnet.fit(\n",
    "    X_train, y_train,\n",
    "    eval_set=[(X_test, y_test)],\n",
    "    eval_name=['val'],\n",
    "    eval_metric=['auc'],\n",
    "    max_epochs=200,\n",
    "    patience=20,\n",
    "    batch_size=256,\n",
    "    virtual_batch_size=128,\n",
    "    num_workers=0,\n",
    "    drop_last=False\n",
    ")\n",
    "\n",
    "# Predictions\n",
    "y_pred_proba = tabnet.predict_proba(X_test)[:, 1]\n",
    "y_pred = (y_pred_proba > 0.5).astype(int)"
   ]
  },
  {
   "cell_type": "code",
   "execution_count": 7,
   "id": "21f85ca6",
   "metadata": {},
   "outputs": [
    {
     "name": "stdout",
     "output_type": "stream",
     "text": [
      "\n",
      "📊 Final Evaluation Metrics for TabNet:\n",
      "Model: TabNet\n",
      "Accuracy: 0.8533\n",
      "F1 Score: 0.8643\n",
      "Precision: 0.8866\n",
      "Recall: 0.8431\n",
      "ROC AUC: 0.9042\n"
     ]
    }
   ],
   "source": [
    "# Metrics\n",
    "results = {\n",
    "    'Model': \"TabNet\",\n",
    "    'Accuracy': accuracy_score(y_test, y_pred),\n",
    "    'F1 Score': f1_score(y_test, y_pred),\n",
    "    'Precision': precision_score(y_test, y_pred),\n",
    "    'Recall': recall_score(y_test, y_pred),\n",
    "    'ROC AUC': roc_auc_score(y_test, y_pred_proba)\n",
    "}\n",
    "\n",
    "print(\"\\n📊 Final Evaluation Metrics for TabNet:\")\n",
    "for k, v in results.items():\n",
    "    print(f\"{k}: {v:.4f}\" if isinstance(v, float) else f\"{k}: {v}\")\n"
   ]
  },
  {
   "cell_type": "markdown",
   "id": "d4235de2",
   "metadata": {},
   "source": [
    "# attempt 2"
   ]
  },
  {
   "cell_type": "code",
   "execution_count": 1,
   "id": "3d045a71",
   "metadata": {},
   "outputs": [],
   "source": [
    "import pandas as pd\n",
    "import numpy as np\n",
    "import optuna\n",
    "from sklearn.model_selection import train_test_split, StratifiedKFold\n",
    "from sklearn.preprocessing import LabelEncoder, StandardScaler\n",
    "from sklearn.impute import SimpleImputer\n",
    "from sklearn.feature_selection import mutual_info_classif, SelectKBest\n",
    "from sklearn.metrics import accuracy_score, f1_score, precision_score, recall_score, roc_auc_score\n",
    "from pytorch_tabnet.tab_model import TabNetClassifier\n",
    "import torch"
   ]
  },
  {
   "cell_type": "code",
   "execution_count": 2,
   "id": "d2085329",
   "metadata": {},
   "outputs": [],
   "source": [
    "# Load and preprocess dataset\n",
    "df = pd.read_csv(\"heart_disease_uci.csv\")\n",
    "df.drop(columns=[\"id\", \"dataset\"], inplace=True)\n",
    "df[\"target\"] = df[\"num\"].apply(lambda x: 1 if x > 0 else 0)\n",
    "df.drop(columns=[\"num\"], inplace=True)\n",
    "\n",
    "numerical = ['age', 'trestbps', 'chol', 'thalch', 'oldpeak', 'ca']\n",
    "categorical = ['sex', 'cp', 'fbs', 'restecg', 'exang', 'slope', 'thal']\n",
    "\n",
    "df[numerical] = SimpleImputer(strategy=\"median\").fit_transform(df[numerical])\n",
    "for col in categorical:\n",
    "    df[col] = LabelEncoder().fit_transform(df[col].astype(str))\n",
    "df[numerical] = StandardScaler().fit_transform(df[numerical])\n",
    "\n",
    "X_full = df[numerical + categorical].values\n",
    "y_full = df[\"target\"].values\n",
    "\n",
    "# Feature Selection using Mutual Information\n",
    "selector = SelectKBest(mutual_info_classif, k=10)\n",
    "X = selector.fit_transform(X_full, y_full)\n",
    "y = y_full"
   ]
  },
  {
   "cell_type": "code",
   "execution_count": 3,
   "id": "4c7bd576",
   "metadata": {},
   "outputs": [],
   "source": [
    "# Train-Test Split\n",
    "X_train, X_test, y_train, y_test = train_test_split(X, y, stratify=y, test_size=0.2, random_state=42)\n",
    "\n",
    "def objective(trial):\n",
    "    params = {\n",
    "        \"n_d\": trial.suggest_int(\"n_d\", 32, 128),\n",
    "        \"n_a\": trial.suggest_int(\"n_a\", 32, 128),\n",
    "        \"n_steps\": trial.suggest_int(\"n_steps\", 3, 10),\n",
    "        \"gamma\": trial.suggest_float(\"gamma\", 1.0, 2.0),\n",
    "        \"lambda_sparse\": trial.suggest_float(\"lambda_sparse\", 1e-5, 1e-3, log=True),\n",
    "        \"momentum\": trial.suggest_float(\"momentum\", 0.01, 0.4),\n",
    "        \"optimizer_params\": dict(lr=trial.suggest_float(\"lr\", 1e-3, 1e-1, log=True)),\n",
    "        \"n_independent\": trial.suggest_int(\"n_independent\", 1, 3),\n",
    "        \"n_shared\": trial.suggest_int(\"n_shared\", 1, 3)\n",
    "    }\n",
    "\n",
    "    tabnet = TabNetClassifier(\n",
    "        **params,\n",
    "        optimizer_fn=torch.optim.Adam,\n",
    "        scheduler_params={\"step_size\": 10, \"gamma\": 0.9},\n",
    "        scheduler_fn=torch.optim.lr_scheduler.StepLR,\n",
    "        verbose=0,\n",
    "        seed=42\n",
    "    )\n",
    "\n",
    "    cv = StratifiedKFold(n_splits=5, shuffle=True, random_state=42)\n",
    "    aucs = []\n",
    "\n",
    "    for train_idx, val_idx in cv.split(X_train, y_train):\n",
    "        X_t, X_v = X_train[train_idx], X_train[val_idx]\n",
    "        y_t, y_v = y_train[train_idx], y_train[val_idx]\n",
    "\n",
    "        tabnet.fit(\n",
    "            X_t, y_t,\n",
    "            eval_set=[(X_v, y_v)],\n",
    "            eval_metric=[\"auc\"],\n",
    "            max_epochs=200,\n",
    "            patience=30,\n",
    "            batch_size=256,\n",
    "            virtual_batch_size=128,\n",
    "            num_workers=0,\n",
    "            drop_last=False\n",
    "        )\n",
    "\n",
    "        y_pred_proba = tabnet.predict_proba(X_v)[:, 1]\n",
    "        auc = roc_auc_score(y_v, y_pred_proba)\n",
    "        aucs.append(auc)\n",
    "\n",
    "    return np.mean(aucs)"
   ]
  },
  {
   "cell_type": "code",
   "execution_count": 4,
   "id": "0cad9e17",
   "metadata": {
    "scrolled": true
   },
   "outputs": [
    {
     "name": "stderr",
     "output_type": "stream",
     "text": [
      "[I 2025-05-09 23:49:07,207] A new study created in memory with name: no-name-af889f8b-0184-4efc-9aaa-b28ca5e629d5\n"
     ]
    },
    {
     "name": "stdout",
     "output_type": "stream",
     "text": [
      "\n",
      "Early stopping occurred at epoch 41 with best_epoch = 11 and best_val_0_auc = 0.85735\n"
     ]
    },
    {
     "name": "stderr",
     "output_type": "stream",
     "text": [
      "/Users/savalideshmukh/anaconda3/lib/python3.11/site-packages/pytorch_tabnet/callbacks.py:172: UserWarning: Best weights from best epoch are automatically used!\n",
      "  warnings.warn(wrn_msg)\n"
     ]
    },
    {
     "name": "stdout",
     "output_type": "stream",
     "text": [
      "\n",
      "Early stopping occurred at epoch 94 with best_epoch = 64 and best_val_0_auc = 0.82308\n"
     ]
    },
    {
     "name": "stderr",
     "output_type": "stream",
     "text": [
      "/Users/savalideshmukh/anaconda3/lib/python3.11/site-packages/pytorch_tabnet/callbacks.py:172: UserWarning: Best weights from best epoch are automatically used!\n",
      "  warnings.warn(wrn_msg)\n"
     ]
    },
    {
     "name": "stdout",
     "output_type": "stream",
     "text": [
      "\n",
      "Early stopping occurred at epoch 122 with best_epoch = 92 and best_val_0_auc = 0.89001\n"
     ]
    },
    {
     "name": "stderr",
     "output_type": "stream",
     "text": [
      "/Users/savalideshmukh/anaconda3/lib/python3.11/site-packages/pytorch_tabnet/callbacks.py:172: UserWarning: Best weights from best epoch are automatically used!\n",
      "  warnings.warn(wrn_msg)\n"
     ]
    },
    {
     "name": "stdout",
     "output_type": "stream",
     "text": [
      "\n",
      "Early stopping occurred at epoch 80 with best_epoch = 50 and best_val_0_auc = 0.84886\n"
     ]
    },
    {
     "name": "stderr",
     "output_type": "stream",
     "text": [
      "/Users/savalideshmukh/anaconda3/lib/python3.11/site-packages/pytorch_tabnet/callbacks.py:172: UserWarning: Best weights from best epoch are automatically used!\n",
      "  warnings.warn(wrn_msg)\n",
      "/Users/savalideshmukh/anaconda3/lib/python3.11/site-packages/pytorch_tabnet/callbacks.py:172: UserWarning: Best weights from best epoch are automatically used!\n",
      "  warnings.warn(wrn_msg)\n",
      "[I 2025-05-09 23:50:06,099] Trial 0 finished with value: 0.8666510985752177 and parameters: {'n_d': 98, 'n_a': 81, 'n_steps': 6, 'gamma': 1.8157382758502874, 'lambda_sparse': 1.597912488799129e-05, 'momentum': 0.28606356093792956, 'lr': 0.002456514992685794, 'n_independent': 1, 'n_shared': 2}. Best is trial 0 with value: 0.8666510985752177.\n"
     ]
    },
    {
     "name": "stdout",
     "output_type": "stream",
     "text": [
      "\n",
      "Early stopping occurred at epoch 48 with best_epoch = 18 and best_val_0_auc = 0.91395\n",
      "\n",
      "Early stopping occurred at epoch 58 with best_epoch = 28 and best_val_0_auc = 0.80746\n"
     ]
    },
    {
     "name": "stderr",
     "output_type": "stream",
     "text": [
      "/Users/savalideshmukh/anaconda3/lib/python3.11/site-packages/pytorch_tabnet/callbacks.py:172: UserWarning: Best weights from best epoch are automatically used!\n",
      "  warnings.warn(wrn_msg)\n"
     ]
    },
    {
     "name": "stdout",
     "output_type": "stream",
     "text": [
      "\n",
      "Early stopping occurred at epoch 154 with best_epoch = 124 and best_val_0_auc = 0.85872\n"
     ]
    },
    {
     "name": "stderr",
     "output_type": "stream",
     "text": [
      "/Users/savalideshmukh/anaconda3/lib/python3.11/site-packages/pytorch_tabnet/callbacks.py:172: UserWarning: Best weights from best epoch are automatically used!\n",
      "  warnings.warn(wrn_msg)\n"
     ]
    },
    {
     "name": "stdout",
     "output_type": "stream",
     "text": [
      "\n",
      "Early stopping occurred at epoch 150 with best_epoch = 120 and best_val_0_auc = 0.91582\n"
     ]
    },
    {
     "name": "stderr",
     "output_type": "stream",
     "text": [
      "/Users/savalideshmukh/anaconda3/lib/python3.11/site-packages/pytorch_tabnet/callbacks.py:172: UserWarning: Best weights from best epoch are automatically used!\n",
      "  warnings.warn(wrn_msg)\n"
     ]
    },
    {
     "name": "stdout",
     "output_type": "stream",
     "text": [
      "\n",
      "Early stopping occurred at epoch 46 with best_epoch = 16 and best_val_0_auc = 0.79555\n"
     ]
    },
    {
     "name": "stderr",
     "output_type": "stream",
     "text": [
      "/Users/savalideshmukh/anaconda3/lib/python3.11/site-packages/pytorch_tabnet/callbacks.py:172: UserWarning: Best weights from best epoch are automatically used!\n",
      "  warnings.warn(wrn_msg)\n",
      "/Users/savalideshmukh/anaconda3/lib/python3.11/site-packages/pytorch_tabnet/callbacks.py:172: UserWarning: Best weights from best epoch are automatically used!\n",
      "  warnings.warn(wrn_msg)\n",
      "[I 2025-05-09 23:51:01,309] Trial 1 finished with value: 0.8545621737491655 and parameters: {'n_d': 93, 'n_a': 62, 'n_steps': 6, 'gamma': 1.833499004178282, 'lambda_sparse': 0.0005199010426970332, 'momentum': 0.1498101273112227, 'lr': 0.0021245902865586206, 'n_independent': 1, 'n_shared': 1}. Best is trial 0 with value: 0.8666510985752177.\n"
     ]
    },
    {
     "name": "stdout",
     "output_type": "stream",
     "text": [
      "\n",
      "Early stopping occurred at epoch 108 with best_epoch = 78 and best_val_0_auc = 0.89525\n",
      "\n",
      "Early stopping occurred at epoch 57 with best_epoch = 27 and best_val_0_auc = 0.82215\n"
     ]
    },
    {
     "name": "stderr",
     "output_type": "stream",
     "text": [
      "/Users/savalideshmukh/anaconda3/lib/python3.11/site-packages/pytorch_tabnet/callbacks.py:172: UserWarning: Best weights from best epoch are automatically used!\n",
      "  warnings.warn(wrn_msg)\n"
     ]
    },
    {
     "name": "stdout",
     "output_type": "stream",
     "text": [
      "\n",
      "Early stopping occurred at epoch 40 with best_epoch = 10 and best_val_0_auc = 0.80713\n"
     ]
    },
    {
     "name": "stderr",
     "output_type": "stream",
     "text": [
      "/Users/savalideshmukh/anaconda3/lib/python3.11/site-packages/pytorch_tabnet/callbacks.py:172: UserWarning: Best weights from best epoch are automatically used!\n",
      "  warnings.warn(wrn_msg)\n"
     ]
    },
    {
     "name": "stdout",
     "output_type": "stream",
     "text": [
      "\n",
      "Early stopping occurred at epoch 89 with best_epoch = 59 and best_val_0_auc = 0.88664\n"
     ]
    },
    {
     "name": "stderr",
     "output_type": "stream",
     "text": [
      "/Users/savalideshmukh/anaconda3/lib/python3.11/site-packages/pytorch_tabnet/callbacks.py:172: UserWarning: Best weights from best epoch are automatically used!\n",
      "  warnings.warn(wrn_msg)\n"
     ]
    },
    {
     "name": "stdout",
     "output_type": "stream",
     "text": [
      "\n",
      "Early stopping occurred at epoch 90 with best_epoch = 60 and best_val_0_auc = 0.84484\n"
     ]
    },
    {
     "name": "stderr",
     "output_type": "stream",
     "text": [
      "/Users/savalideshmukh/anaconda3/lib/python3.11/site-packages/pytorch_tabnet/callbacks.py:172: UserWarning: Best weights from best epoch are automatically used!\n",
      "  warnings.warn(wrn_msg)\n",
      "/Users/savalideshmukh/anaconda3/lib/python3.11/site-packages/pytorch_tabnet/callbacks.py:172: UserWarning: Best weights from best epoch are automatically used!\n",
      "  warnings.warn(wrn_msg)\n",
      "[I 2025-05-09 23:51:37,765] Trial 2 finished with value: 0.8465264450494802 and parameters: {'n_d': 89, 'n_a': 37, 'n_steps': 7, 'gamma': 1.9592168927029991, 'lambda_sparse': 0.0009137340253298695, 'momentum': 0.045341860293658096, 'lr': 0.001997506897656537, 'n_independent': 1, 'n_shared': 1}. Best is trial 0 with value: 0.8666510985752177.\n"
     ]
    },
    {
     "name": "stdout",
     "output_type": "stream",
     "text": [
      "\n",
      "Early stopping occurred at epoch 39 with best_epoch = 9 and best_val_0_auc = 0.87187\n",
      "\n",
      "Early stopping occurred at epoch 79 with best_epoch = 49 and best_val_0_auc = 0.84996\n"
     ]
    },
    {
     "name": "stderr",
     "output_type": "stream",
     "text": [
      "/Users/savalideshmukh/anaconda3/lib/python3.11/site-packages/pytorch_tabnet/callbacks.py:172: UserWarning: Best weights from best epoch are automatically used!\n",
      "  warnings.warn(wrn_msg)\n"
     ]
    },
    {
     "name": "stdout",
     "output_type": "stream",
     "text": [
      "\n",
      "Early stopping occurred at epoch 32 with best_epoch = 2 and best_val_0_auc = 0.756\n"
     ]
    },
    {
     "name": "stderr",
     "output_type": "stream",
     "text": [
      "/Users/savalideshmukh/anaconda3/lib/python3.11/site-packages/pytorch_tabnet/callbacks.py:172: UserWarning: Best weights from best epoch are automatically used!\n",
      "  warnings.warn(wrn_msg)\n"
     ]
    },
    {
     "name": "stdout",
     "output_type": "stream",
     "text": [
      "\n",
      "Early stopping occurred at epoch 50 with best_epoch = 20 and best_val_0_auc = 0.8945\n"
     ]
    },
    {
     "name": "stderr",
     "output_type": "stream",
     "text": [
      "/Users/savalideshmukh/anaconda3/lib/python3.11/site-packages/pytorch_tabnet/callbacks.py:172: UserWarning: Best weights from best epoch are automatically used!\n",
      "  warnings.warn(wrn_msg)\n"
     ]
    },
    {
     "name": "stdout",
     "output_type": "stream",
     "text": [
      "\n",
      "Early stopping occurred at epoch 52 with best_epoch = 22 and best_val_0_auc = 0.81313\n"
     ]
    },
    {
     "name": "stderr",
     "output_type": "stream",
     "text": [
      "/Users/savalideshmukh/anaconda3/lib/python3.11/site-packages/pytorch_tabnet/callbacks.py:172: UserWarning: Best weights from best epoch are automatically used!\n",
      "  warnings.warn(wrn_msg)\n",
      "/Users/savalideshmukh/anaconda3/lib/python3.11/site-packages/pytorch_tabnet/callbacks.py:172: UserWarning: Best weights from best epoch are automatically used!\n",
      "  warnings.warn(wrn_msg)\n",
      "[I 2025-05-09 23:52:14,844] Trial 3 finished with value: 0.8386643658459377 and parameters: {'n_d': 108, 'n_a': 97, 'n_steps': 6, 'gamma': 1.731492980675382, 'lambda_sparse': 0.00028901267337235175, 'momentum': 0.03271228241132967, 'lr': 0.0030334234381763255, 'n_independent': 1, 'n_shared': 1}. Best is trial 0 with value: 0.8666510985752177.\n"
     ]
    },
    {
     "name": "stdout",
     "output_type": "stream",
     "text": [
      "\n",
      "Early stopping occurred at epoch 101 with best_epoch = 71 and best_val_0_auc = 0.87972\n",
      "\n",
      "Early stopping occurred at epoch 80 with best_epoch = 50 and best_val_0_auc = 0.8374\n"
     ]
    },
    {
     "name": "stderr",
     "output_type": "stream",
     "text": [
      "/Users/savalideshmukh/anaconda3/lib/python3.11/site-packages/pytorch_tabnet/callbacks.py:172: UserWarning: Best weights from best epoch are automatically used!\n",
      "  warnings.warn(wrn_msg)\n"
     ]
    },
    {
     "name": "stdout",
     "output_type": "stream",
     "text": [
      "\n",
      "Early stopping occurred at epoch 75 with best_epoch = 45 and best_val_0_auc = 0.86154\n"
     ]
    },
    {
     "name": "stderr",
     "output_type": "stream",
     "text": [
      "/Users/savalideshmukh/anaconda3/lib/python3.11/site-packages/pytorch_tabnet/callbacks.py:172: UserWarning: Best weights from best epoch are automatically used!\n",
      "  warnings.warn(wrn_msg)\n"
     ]
    },
    {
     "name": "stdout",
     "output_type": "stream",
     "text": [
      "\n",
      "Early stopping occurred at epoch 109 with best_epoch = 79 and best_val_0_auc = 0.91452\n"
     ]
    },
    {
     "name": "stderr",
     "output_type": "stream",
     "text": [
      "/Users/savalideshmukh/anaconda3/lib/python3.11/site-packages/pytorch_tabnet/callbacks.py:172: UserWarning: Best weights from best epoch are automatically used!\n",
      "  warnings.warn(wrn_msg)\n"
     ]
    },
    {
     "name": "stdout",
     "output_type": "stream",
     "text": [
      "\n",
      "Early stopping occurred at epoch 81 with best_epoch = 51 and best_val_0_auc = 0.85933\n"
     ]
    },
    {
     "name": "stderr",
     "output_type": "stream",
     "text": [
      "/Users/savalideshmukh/anaconda3/lib/python3.11/site-packages/pytorch_tabnet/callbacks.py:172: UserWarning: Best weights from best epoch are automatically used!\n",
      "  warnings.warn(wrn_msg)\n",
      "/Users/savalideshmukh/anaconda3/lib/python3.11/site-packages/pytorch_tabnet/callbacks.py:172: UserWarning: Best weights from best epoch are automatically used!\n",
      "  warnings.warn(wrn_msg)\n",
      "[I 2025-05-09 23:54:09,535] Trial 4 finished with value: 0.8733825784774293 and parameters: {'n_d': 78, 'n_a': 105, 'n_steps': 10, 'gamma': 1.4167443323746403, 'lambda_sparse': 3.289395709292082e-05, 'momentum': 0.24562326643080945, 'lr': 0.005495589522841477, 'n_independent': 2, 'n_shared': 1}. Best is trial 4 with value: 0.8733825784774293.\n"
     ]
    },
    {
     "name": "stdout",
     "output_type": "stream",
     "text": [
      "\n",
      "Early stopping occurred at epoch 118 with best_epoch = 88 and best_val_0_auc = 0.89413\n",
      "\n",
      "Early stopping occurred at epoch 102 with best_epoch = 72 and best_val_0_auc = 0.83167\n"
     ]
    },
    {
     "name": "stderr",
     "output_type": "stream",
     "text": [
      "/Users/savalideshmukh/anaconda3/lib/python3.11/site-packages/pytorch_tabnet/callbacks.py:172: UserWarning: Best weights from best epoch are automatically used!\n",
      "  warnings.warn(wrn_msg)\n"
     ]
    },
    {
     "name": "stdout",
     "output_type": "stream",
     "text": [
      "\n",
      "Early stopping occurred at epoch 123 with best_epoch = 93 and best_val_0_auc = 0.86829\n"
     ]
    },
    {
     "name": "stderr",
     "output_type": "stream",
     "text": [
      "/Users/savalideshmukh/anaconda3/lib/python3.11/site-packages/pytorch_tabnet/callbacks.py:172: UserWarning: Best weights from best epoch are automatically used!\n",
      "  warnings.warn(wrn_msg)\n"
     ]
    },
    {
     "name": "stdout",
     "output_type": "stream",
     "text": [
      "\n",
      "Early stopping occurred at epoch 97 with best_epoch = 67 and best_val_0_auc = 0.89899\n"
     ]
    },
    {
     "name": "stderr",
     "output_type": "stream",
     "text": [
      "/Users/savalideshmukh/anaconda3/lib/python3.11/site-packages/pytorch_tabnet/callbacks.py:172: UserWarning: Best weights from best epoch are automatically used!\n",
      "  warnings.warn(wrn_msg)\n"
     ]
    },
    {
     "name": "stdout",
     "output_type": "stream",
     "text": [
      "\n",
      "Early stopping occurred at epoch 64 with best_epoch = 34 and best_val_0_auc = 0.88328\n"
     ]
    },
    {
     "name": "stderr",
     "output_type": "stream",
     "text": [
      "/Users/savalideshmukh/anaconda3/lib/python3.11/site-packages/pytorch_tabnet/callbacks.py:172: UserWarning: Best weights from best epoch are automatically used!\n",
      "  warnings.warn(wrn_msg)\n",
      "/Users/savalideshmukh/anaconda3/lib/python3.11/site-packages/pytorch_tabnet/callbacks.py:172: UserWarning: Best weights from best epoch are automatically used!\n",
      "  warnings.warn(wrn_msg)\n",
      "[I 2025-05-09 23:56:08,009] Trial 5 finished with value: 0.8738871095781665 and parameters: {'n_d': 69, 'n_a': 71, 'n_steps': 9, 'gamma': 1.969998194721736, 'lambda_sparse': 0.0003074521830850223, 'momentum': 0.20559033866711923, 'lr': 0.044492746427733904, 'n_independent': 1, 'n_shared': 3}. Best is trial 5 with value: 0.8738871095781665.\n"
     ]
    },
    {
     "name": "stdout",
     "output_type": "stream",
     "text": [
      "\n",
      "Early stopping occurred at epoch 80 with best_epoch = 50 and best_val_0_auc = 0.88721\n",
      "\n",
      "Early stopping occurred at epoch 92 with best_epoch = 62 and best_val_0_auc = 0.87435\n"
     ]
    },
    {
     "name": "stderr",
     "output_type": "stream",
     "text": [
      "/Users/savalideshmukh/anaconda3/lib/python3.11/site-packages/pytorch_tabnet/callbacks.py:172: UserWarning: Best weights from best epoch are automatically used!\n",
      "  warnings.warn(wrn_msg)\n"
     ]
    },
    {
     "name": "stdout",
     "output_type": "stream",
     "text": [
      "\n",
      "Early stopping occurred at epoch 60 with best_epoch = 30 and best_val_0_auc = 0.85572\n"
     ]
    },
    {
     "name": "stderr",
     "output_type": "stream",
     "text": [
      "/Users/savalideshmukh/anaconda3/lib/python3.11/site-packages/pytorch_tabnet/callbacks.py:172: UserWarning: Best weights from best epoch are automatically used!\n",
      "  warnings.warn(wrn_msg)\n"
     ]
    },
    {
     "name": "stdout",
     "output_type": "stream",
     "text": [
      "\n",
      "Early stopping occurred at epoch 59 with best_epoch = 29 and best_val_0_auc = 0.89974\n"
     ]
    },
    {
     "name": "stderr",
     "output_type": "stream",
     "text": [
      "/Users/savalideshmukh/anaconda3/lib/python3.11/site-packages/pytorch_tabnet/callbacks.py:172: UserWarning: Best weights from best epoch are automatically used!\n",
      "  warnings.warn(wrn_msg)\n"
     ]
    },
    {
     "name": "stdout",
     "output_type": "stream",
     "text": [
      "\n",
      "Early stopping occurred at epoch 32 with best_epoch = 2 and best_val_0_auc = 0.82342\n"
     ]
    },
    {
     "name": "stderr",
     "output_type": "stream",
     "text": [
      "/Users/savalideshmukh/anaconda3/lib/python3.11/site-packages/pytorch_tabnet/callbacks.py:172: UserWarning: Best weights from best epoch are automatically used!\n",
      "  warnings.warn(wrn_msg)\n",
      "/Users/savalideshmukh/anaconda3/lib/python3.11/site-packages/pytorch_tabnet/callbacks.py:172: UserWarning: Best weights from best epoch are automatically used!\n",
      "  warnings.warn(wrn_msg)\n",
      "[I 2025-05-09 23:56:45,392] Trial 6 finished with value: 0.8719036378656974 and parameters: {'n_d': 83, 'n_a': 113, 'n_steps': 6, 'gamma': 1.1439198054624211, 'lambda_sparse': 5.7509942514505516e-05, 'momentum': 0.11443890558053564, 'lr': 0.09079387322278071, 'n_independent': 1, 'n_shared': 1}. Best is trial 5 with value: 0.8738871095781665.\n"
     ]
    },
    {
     "name": "stdout",
     "output_type": "stream",
     "text": [
      "\n",
      "Early stopping occurred at epoch 92 with best_epoch = 62 and best_val_0_auc = 0.90629\n",
      "\n",
      "Early stopping occurred at epoch 32 with best_epoch = 2 and best_val_0_auc = 0.84035\n"
     ]
    },
    {
     "name": "stderr",
     "output_type": "stream",
     "text": [
      "/Users/savalideshmukh/anaconda3/lib/python3.11/site-packages/pytorch_tabnet/callbacks.py:172: UserWarning: Best weights from best epoch are automatically used!\n",
      "  warnings.warn(wrn_msg)\n"
     ]
    },
    {
     "name": "stdout",
     "output_type": "stream",
     "text": [
      "\n",
      "Early stopping occurred at epoch 103 with best_epoch = 73 and best_val_0_auc = 0.8364\n"
     ]
    },
    {
     "name": "stderr",
     "output_type": "stream",
     "text": [
      "/Users/savalideshmukh/anaconda3/lib/python3.11/site-packages/pytorch_tabnet/callbacks.py:172: UserWarning: Best weights from best epoch are automatically used!\n",
      "  warnings.warn(wrn_msg)\n"
     ]
    },
    {
     "name": "stdout",
     "output_type": "stream",
     "text": [
      "\n",
      "Early stopping occurred at epoch 65 with best_epoch = 35 and best_val_0_auc = 0.87636\n"
     ]
    },
    {
     "name": "stderr",
     "output_type": "stream",
     "text": [
      "/Users/savalideshmukh/anaconda3/lib/python3.11/site-packages/pytorch_tabnet/callbacks.py:172: UserWarning: Best weights from best epoch are automatically used!\n",
      "  warnings.warn(wrn_msg)\n"
     ]
    },
    {
     "name": "stdout",
     "output_type": "stream",
     "text": [
      "\n",
      "Early stopping occurred at epoch 41 with best_epoch = 11 and best_val_0_auc = 0.81818\n"
     ]
    },
    {
     "name": "stderr",
     "output_type": "stream",
     "text": [
      "/Users/savalideshmukh/anaconda3/lib/python3.11/site-packages/pytorch_tabnet/callbacks.py:172: UserWarning: Best weights from best epoch are automatically used!\n",
      "  warnings.warn(wrn_msg)\n",
      "/Users/savalideshmukh/anaconda3/lib/python3.11/site-packages/pytorch_tabnet/callbacks.py:172: UserWarning: Best weights from best epoch are automatically used!\n",
      "  warnings.warn(wrn_msg)\n",
      "[I 2025-05-09 23:57:25,437] Trial 7 finished with value: 0.8419722764438212 and parameters: {'n_d': 77, 'n_a': 69, 'n_steps': 3, 'gamma': 1.1847904803704665, 'lambda_sparse': 0.000441526667273522, 'momentum': 0.18755144103756974, 'lr': 0.0015856102587068766, 'n_independent': 3, 'n_shared': 2}. Best is trial 5 with value: 0.8738871095781665.\n"
     ]
    },
    {
     "name": "stdout",
     "output_type": "stream",
     "text": [
      "\n",
      "Early stopping occurred at epoch 82 with best_epoch = 52 and best_val_0_auc = 0.83857\n",
      "\n",
      "Early stopping occurred at epoch 69 with best_epoch = 39 and best_val_0_auc = 0.84978\n"
     ]
    },
    {
     "name": "stderr",
     "output_type": "stream",
     "text": [
      "/Users/savalideshmukh/anaconda3/lib/python3.11/site-packages/pytorch_tabnet/callbacks.py:172: UserWarning: Best weights from best epoch are automatically used!\n",
      "  warnings.warn(wrn_msg)\n"
     ]
    },
    {
     "name": "stdout",
     "output_type": "stream",
     "text": [
      "\n",
      "Early stopping occurred at epoch 30 with best_epoch = 0 and best_val_0_auc = 0.83133\n"
     ]
    },
    {
     "name": "stderr",
     "output_type": "stream",
     "text": [
      "/Users/savalideshmukh/anaconda3/lib/python3.11/site-packages/pytorch_tabnet/callbacks.py:172: UserWarning: Best weights from best epoch are automatically used!\n",
      "  warnings.warn(wrn_msg)\n"
     ]
    },
    {
     "name": "stdout",
     "output_type": "stream",
     "text": [
      "\n",
      "Early stopping occurred at epoch 105 with best_epoch = 75 and best_val_0_auc = 0.87579\n"
     ]
    },
    {
     "name": "stderr",
     "output_type": "stream",
     "text": [
      "/Users/savalideshmukh/anaconda3/lib/python3.11/site-packages/pytorch_tabnet/callbacks.py:172: UserWarning: Best weights from best epoch are automatically used!\n",
      "  warnings.warn(wrn_msg)\n"
     ]
    },
    {
     "name": "stdout",
     "output_type": "stream",
     "text": [
      "\n",
      "Early stopping occurred at epoch 75 with best_epoch = 45 and best_val_0_auc = 0.86532\n"
     ]
    },
    {
     "name": "stderr",
     "output_type": "stream",
     "text": [
      "/Users/savalideshmukh/anaconda3/lib/python3.11/site-packages/pytorch_tabnet/callbacks.py:172: UserWarning: Best weights from best epoch are automatically used!\n",
      "  warnings.warn(wrn_msg)\n",
      "/Users/savalideshmukh/anaconda3/lib/python3.11/site-packages/pytorch_tabnet/callbacks.py:172: UserWarning: Best weights from best epoch are automatically used!\n",
      "  warnings.warn(wrn_msg)\n",
      "[I 2025-05-09 23:58:00,670] Trial 8 finished with value: 0.863232919845386 and parameters: {'n_d': 70, 'n_a': 88, 'n_steps': 3, 'gamma': 1.978797968143359, 'lambda_sparse': 7.678936618302386e-05, 'momentum': 0.2953957792750705, 'lr': 0.04442253435155537, 'n_independent': 1, 'n_shared': 2}. Best is trial 5 with value: 0.8738871095781665.\n"
     ]
    },
    {
     "name": "stdout",
     "output_type": "stream",
     "text": [
      "\n",
      "Early stopping occurred at epoch 117 with best_epoch = 87 and best_val_0_auc = 0.89394\n",
      "\n",
      "Early stopping occurred at epoch 118 with best_epoch = 88 and best_val_0_auc = 0.82428\n"
     ]
    },
    {
     "name": "stderr",
     "output_type": "stream",
     "text": [
      "/Users/savalideshmukh/anaconda3/lib/python3.11/site-packages/pytorch_tabnet/callbacks.py:172: UserWarning: Best weights from best epoch are automatically used!\n",
      "  warnings.warn(wrn_msg)\n"
     ]
    },
    {
     "name": "stdout",
     "output_type": "stream",
     "text": [
      "\n",
      "Early stopping occurred at epoch 68 with best_epoch = 38 and best_val_0_auc = 0.83752\n"
     ]
    },
    {
     "name": "stderr",
     "output_type": "stream",
     "text": [
      "/Users/savalideshmukh/anaconda3/lib/python3.11/site-packages/pytorch_tabnet/callbacks.py:172: UserWarning: Best weights from best epoch are automatically used!\n",
      "  warnings.warn(wrn_msg)\n"
     ]
    },
    {
     "name": "stdout",
     "output_type": "stream",
     "text": [
      "\n",
      "Early stopping occurred at epoch 31 with best_epoch = 1 and best_val_0_auc = 0.85073\n"
     ]
    },
    {
     "name": "stderr",
     "output_type": "stream",
     "text": [
      "/Users/savalideshmukh/anaconda3/lib/python3.11/site-packages/pytorch_tabnet/callbacks.py:172: UserWarning: Best weights from best epoch are automatically used!\n",
      "  warnings.warn(wrn_msg)\n"
     ]
    },
    {
     "name": "stdout",
     "output_type": "stream",
     "text": [
      "\n",
      "Early stopping occurred at epoch 49 with best_epoch = 19 and best_val_0_auc = 0.82903\n"
     ]
    },
    {
     "name": "stderr",
     "output_type": "stream",
     "text": [
      "/Users/savalideshmukh/anaconda3/lib/python3.11/site-packages/pytorch_tabnet/callbacks.py:172: UserWarning: Best weights from best epoch are automatically used!\n",
      "  warnings.warn(wrn_msg)\n",
      "/Users/savalideshmukh/anaconda3/lib/python3.11/site-packages/pytorch_tabnet/callbacks.py:172: UserWarning: Best weights from best epoch are automatically used!\n",
      "  warnings.warn(wrn_msg)\n",
      "[I 2025-05-09 23:58:33,537] Trial 9 finished with value: 0.845884696453802 and parameters: {'n_d': 66, 'n_a': 88, 'n_steps': 3, 'gamma': 1.030551569870048, 'lambda_sparse': 0.00010927410507571749, 'momentum': 0.34821079161005225, 'lr': 0.012079601808432268, 'n_independent': 1, 'n_shared': 2}. Best is trial 5 with value: 0.8738871095781665.\n"
     ]
    },
    {
     "name": "stdout",
     "output_type": "stream",
     "text": [
      "\n",
      "Early stopping occurred at epoch 108 with best_epoch = 78 and best_val_0_auc = 0.88786\n",
      "\n",
      "Early stopping occurred at epoch 85 with best_epoch = 55 and best_val_0_auc = 0.87398\n"
     ]
    },
    {
     "name": "stderr",
     "output_type": "stream",
     "text": [
      "/Users/savalideshmukh/anaconda3/lib/python3.11/site-packages/pytorch_tabnet/callbacks.py:172: UserWarning: Best weights from best epoch are automatically used!\n",
      "  warnings.warn(wrn_msg)\n"
     ]
    },
    {
     "name": "stdout",
     "output_type": "stream",
     "text": [
      "\n",
      "Early stopping occurred at epoch 64 with best_epoch = 34 and best_val_0_auc = 0.81576\n"
     ]
    },
    {
     "name": "stderr",
     "output_type": "stream",
     "text": [
      "/Users/savalideshmukh/anaconda3/lib/python3.11/site-packages/pytorch_tabnet/callbacks.py:172: UserWarning: Best weights from best epoch are automatically used!\n",
      "  warnings.warn(wrn_msg)\n"
     ]
    },
    {
     "name": "stdout",
     "output_type": "stream",
     "text": [
      "\n",
      "Early stopping occurred at epoch 93 with best_epoch = 63 and best_val_0_auc = 0.90348\n"
     ]
    },
    {
     "name": "stderr",
     "output_type": "stream",
     "text": [
      "/Users/savalideshmukh/anaconda3/lib/python3.11/site-packages/pytorch_tabnet/callbacks.py:172: UserWarning: Best weights from best epoch are automatically used!\n",
      "  warnings.warn(wrn_msg)\n"
     ]
    },
    {
     "name": "stdout",
     "output_type": "stream",
     "text": [
      "\n",
      "Early stopping occurred at epoch 82 with best_epoch = 52 and best_val_0_auc = 0.88739\n"
     ]
    },
    {
     "name": "stderr",
     "output_type": "stream",
     "text": [
      "/Users/savalideshmukh/anaconda3/lib/python3.11/site-packages/pytorch_tabnet/callbacks.py:172: UserWarning: Best weights from best epoch are automatically used!\n",
      "  warnings.warn(wrn_msg)\n",
      "/Users/savalideshmukh/anaconda3/lib/python3.11/site-packages/pytorch_tabnet/callbacks.py:172: UserWarning: Best weights from best epoch are automatically used!\n",
      "  warnings.warn(wrn_msg)\n",
      "[I 2025-05-10 00:01:04,234] Trial 10 finished with value: 0.8815701171256725 and parameters: {'n_d': 37, 'n_a': 126, 'n_steps': 10, 'gamma': 1.5542134392623266, 'lambda_sparse': 0.00021172524703572685, 'momentum': 0.3969103023162251, 'lr': 0.01863077262907836, 'n_independent': 2, 'n_shared': 3}. Best is trial 10 with value: 0.8815701171256725.\n"
     ]
    },
    {
     "name": "stdout",
     "output_type": "stream",
     "text": [
      "\n",
      "Early stopping occurred at epoch 74 with best_epoch = 44 and best_val_0_auc = 0.92724\n",
      "\n",
      "Early stopping occurred at epoch 48 with best_epoch = 18 and best_val_0_auc = 0.87158\n"
     ]
    },
    {
     "name": "stderr",
     "output_type": "stream",
     "text": [
      "/Users/savalideshmukh/anaconda3/lib/python3.11/site-packages/pytorch_tabnet/callbacks.py:172: UserWarning: Best weights from best epoch are automatically used!\n",
      "  warnings.warn(wrn_msg)\n"
     ]
    },
    {
     "name": "stdout",
     "output_type": "stream",
     "text": [
      "\n",
      "Early stopping occurred at epoch 102 with best_epoch = 72 and best_val_0_auc = 0.85854\n"
     ]
    },
    {
     "name": "stderr",
     "output_type": "stream",
     "text": [
      "/Users/savalideshmukh/anaconda3/lib/python3.11/site-packages/pytorch_tabnet/callbacks.py:172: UserWarning: Best weights from best epoch are automatically used!\n",
      "  warnings.warn(wrn_msg)\n"
     ]
    },
    {
     "name": "stdout",
     "output_type": "stream",
     "text": [
      "\n",
      "Early stopping occurred at epoch 57 with best_epoch = 27 and best_val_0_auc = 0.89618\n"
     ]
    },
    {
     "name": "stderr",
     "output_type": "stream",
     "text": [
      "/Users/savalideshmukh/anaconda3/lib/python3.11/site-packages/pytorch_tabnet/callbacks.py:172: UserWarning: Best weights from best epoch are automatically used!\n",
      "  warnings.warn(wrn_msg)\n"
     ]
    },
    {
     "name": "stdout",
     "output_type": "stream",
     "text": [
      "\n",
      "Early stopping occurred at epoch 89 with best_epoch = 59 and best_val_0_auc = 0.89357\n"
     ]
    },
    {
     "name": "stderr",
     "output_type": "stream",
     "text": [
      "/Users/savalideshmukh/anaconda3/lib/python3.11/site-packages/pytorch_tabnet/callbacks.py:172: UserWarning: Best weights from best epoch are automatically used!\n",
      "  warnings.warn(wrn_msg)\n",
      "/Users/savalideshmukh/anaconda3/lib/python3.11/site-packages/pytorch_tabnet/callbacks.py:172: UserWarning: Best weights from best epoch are automatically used!\n",
      "  warnings.warn(wrn_msg)\n",
      "[I 2025-05-10 00:03:06,017] Trial 11 finished with value: 0.8739323679432079 and parameters: {'n_d': 35, 'n_a': 123, 'n_steps': 10, 'gamma': 1.5744338950239998, 'lambda_sparse': 0.00017852558353988364, 'momentum': 0.392475560256468, 'lr': 0.02324140816766293, 'n_independent': 2, 'n_shared': 3}. Best is trial 10 with value: 0.8815701171256725.\n"
     ]
    },
    {
     "name": "stdout",
     "output_type": "stream",
     "text": [
      "\n",
      "Early stopping occurred at epoch 36 with best_epoch = 6 and best_val_0_auc = 0.84979\n",
      "\n",
      "Early stopping occurred at epoch 104 with best_epoch = 74 and best_val_0_auc = 0.88008\n"
     ]
    },
    {
     "name": "stderr",
     "output_type": "stream",
     "text": [
      "/Users/savalideshmukh/anaconda3/lib/python3.11/site-packages/pytorch_tabnet/callbacks.py:172: UserWarning: Best weights from best epoch are automatically used!\n",
      "  warnings.warn(wrn_msg)\n"
     ]
    },
    {
     "name": "stdout",
     "output_type": "stream",
     "text": [
      "\n",
      "Early stopping occurred at epoch 113 with best_epoch = 83 and best_val_0_auc = 0.86473\n"
     ]
    },
    {
     "name": "stderr",
     "output_type": "stream",
     "text": [
      "/Users/savalideshmukh/anaconda3/lib/python3.11/site-packages/pytorch_tabnet/callbacks.py:172: UserWarning: Best weights from best epoch are automatically used!\n",
      "  warnings.warn(wrn_msg)\n"
     ]
    },
    {
     "name": "stdout",
     "output_type": "stream",
     "text": [
      "\n",
      "Early stopping occurred at epoch 59 with best_epoch = 29 and best_val_0_auc = 0.88047\n"
     ]
    },
    {
     "name": "stderr",
     "output_type": "stream",
     "text": [
      "/Users/savalideshmukh/anaconda3/lib/python3.11/site-packages/pytorch_tabnet/callbacks.py:172: UserWarning: Best weights from best epoch are automatically used!\n",
      "  warnings.warn(wrn_msg)\n"
     ]
    },
    {
     "name": "stdout",
     "output_type": "stream",
     "text": [
      "\n",
      "Early stopping occurred at epoch 86 with best_epoch = 56 and best_val_0_auc = 0.89955\n"
     ]
    },
    {
     "name": "stderr",
     "output_type": "stream",
     "text": [
      "/Users/savalideshmukh/anaconda3/lib/python3.11/site-packages/pytorch_tabnet/callbacks.py:172: UserWarning: Best weights from best epoch are automatically used!\n",
      "  warnings.warn(wrn_msg)\n",
      "/Users/savalideshmukh/anaconda3/lib/python3.11/site-packages/pytorch_tabnet/callbacks.py:172: UserWarning: Best weights from best epoch are automatically used!\n",
      "  warnings.warn(wrn_msg)\n",
      "[I 2025-05-10 00:07:24,980] Trial 12 finished with value: 0.8848017314412978 and parameters: {'n_d': 36, 'n_a': 128, 'n_steps': 10, 'gamma': 1.530158700027477, 'lambda_sparse': 0.00015784720012436288, 'momentum': 0.39629648784113414, 'lr': 0.01415008826669103, 'n_independent': 2, 'n_shared': 3}. Best is trial 12 with value: 0.8848017314412978.\n"
     ]
    },
    {
     "name": "stdout",
     "output_type": "stream",
     "text": [
      "\n",
      "Early stopping occurred at epoch 89 with best_epoch = 59 and best_val_0_auc = 0.89918\n",
      "\n",
      "Early stopping occurred at epoch 47 with best_epoch = 17 and best_val_0_auc = 0.84571\n"
     ]
    },
    {
     "name": "stderr",
     "output_type": "stream",
     "text": [
      "/Users/savalideshmukh/anaconda3/lib/python3.11/site-packages/pytorch_tabnet/callbacks.py:172: UserWarning: Best weights from best epoch are automatically used!\n",
      "  warnings.warn(wrn_msg)\n"
     ]
    },
    {
     "name": "stdout",
     "output_type": "stream",
     "text": [
      "\n",
      "Early stopping occurred at epoch 60 with best_epoch = 30 and best_val_0_auc = 0.83771\n"
     ]
    },
    {
     "name": "stderr",
     "output_type": "stream",
     "text": [
      "/Users/savalideshmukh/anaconda3/lib/python3.11/site-packages/pytorch_tabnet/callbacks.py:172: UserWarning: Best weights from best epoch are automatically used!\n",
      "  warnings.warn(wrn_msg)\n"
     ]
    },
    {
     "name": "stdout",
     "output_type": "stream",
     "text": [
      "\n",
      "Early stopping occurred at epoch 90 with best_epoch = 60 and best_val_0_auc = 0.88515\n"
     ]
    },
    {
     "name": "stderr",
     "output_type": "stream",
     "text": [
      "/Users/savalideshmukh/anaconda3/lib/python3.11/site-packages/pytorch_tabnet/callbacks.py:172: UserWarning: Best weights from best epoch are automatically used!\n",
      "  warnings.warn(wrn_msg)\n"
     ]
    },
    {
     "name": "stdout",
     "output_type": "stream",
     "text": [
      "\n",
      "Early stopping occurred at epoch 74 with best_epoch = 44 and best_val_0_auc = 0.85933\n"
     ]
    },
    {
     "name": "stderr",
     "output_type": "stream",
     "text": [
      "/Users/savalideshmukh/anaconda3/lib/python3.11/site-packages/pytorch_tabnet/callbacks.py:172: UserWarning: Best weights from best epoch are automatically used!\n",
      "  warnings.warn(wrn_msg)\n",
      "/Users/savalideshmukh/anaconda3/lib/python3.11/site-packages/pytorch_tabnet/callbacks.py:172: UserWarning: Best weights from best epoch are automatically used!\n",
      "  warnings.warn(wrn_msg)\n",
      "[I 2025-05-10 00:09:40,114] Trial 13 finished with value: 0.8664641340793102 and parameters: {'n_d': 32, 'n_a': 127, 'n_steps': 8, 'gamma': 1.4417440612093193, 'lambda_sparse': 0.00016315464805777228, 'momentum': 0.3973207383451246, 'lr': 0.011567782374951362, 'n_independent': 3, 'n_shared': 3}. Best is trial 12 with value: 0.8848017314412978.\n"
     ]
    },
    {
     "name": "stdout",
     "output_type": "stream",
     "text": [
      "\n",
      "Early stopping occurred at epoch 99 with best_epoch = 69 and best_val_0_auc = 0.90441\n",
      "\n",
      "Early stopping occurred at epoch 62 with best_epoch = 32 and best_val_0_auc = 0.87786\n"
     ]
    },
    {
     "name": "stderr",
     "output_type": "stream",
     "text": [
      "/Users/savalideshmukh/anaconda3/lib/python3.11/site-packages/pytorch_tabnet/callbacks.py:172: UserWarning: Best weights from best epoch are automatically used!\n",
      "  warnings.warn(wrn_msg)\n"
     ]
    },
    {
     "name": "stdout",
     "output_type": "stream",
     "text": [
      "\n",
      "Early stopping occurred at epoch 51 with best_epoch = 21 and best_val_0_auc = 0.88218\n"
     ]
    },
    {
     "name": "stderr",
     "output_type": "stream",
     "text": [
      "/Users/savalideshmukh/anaconda3/lib/python3.11/site-packages/pytorch_tabnet/callbacks.py:172: UserWarning: Best weights from best epoch are automatically used!\n",
      "  warnings.warn(wrn_msg)\n"
     ]
    },
    {
     "name": "stdout",
     "output_type": "stream",
     "text": [
      "\n",
      "Early stopping occurred at epoch 72 with best_epoch = 42 and best_val_0_auc = 0.88085\n"
     ]
    },
    {
     "name": "stderr",
     "output_type": "stream",
     "text": [
      "/Users/savalideshmukh/anaconda3/lib/python3.11/site-packages/pytorch_tabnet/callbacks.py:172: UserWarning: Best weights from best epoch are automatically used!\n",
      "  warnings.warn(wrn_msg)\n"
     ]
    },
    {
     "name": "stdout",
     "output_type": "stream",
     "text": [
      "\n",
      "Early stopping occurred at epoch 74 with best_epoch = 44 and best_val_0_auc = 0.83979\n"
     ]
    },
    {
     "name": "stderr",
     "output_type": "stream",
     "text": [
      "/Users/savalideshmukh/anaconda3/lib/python3.11/site-packages/pytorch_tabnet/callbacks.py:172: UserWarning: Best weights from best epoch are automatically used!\n",
      "  warnings.warn(wrn_msg)\n",
      "/Users/savalideshmukh/anaconda3/lib/python3.11/site-packages/pytorch_tabnet/callbacks.py:172: UserWarning: Best weights from best epoch are automatically used!\n",
      "  warnings.warn(wrn_msg)\n",
      "[I 2025-05-10 00:11:23,836] Trial 14 finished with value: 0.8684876841516408 and parameters: {'n_d': 51, 'n_a': 113, 'n_steps': 9, 'gamma': 1.5890895054453424, 'lambda_sparse': 3.681578832022727e-05, 'momentum': 0.3268441181935185, 'lr': 0.020967663487011522, 'n_independent': 2, 'n_shared': 3}. Best is trial 12 with value: 0.8848017314412978.\n"
     ]
    },
    {
     "name": "stdout",
     "output_type": "stream",
     "text": [
      "\n",
      "Early stopping occurred at epoch 34 with best_epoch = 4 and best_val_0_auc = 0.86177\n",
      "\n",
      "Early stopping occurred at epoch 47 with best_epoch = 17 and best_val_0_auc = 0.81874\n"
     ]
    },
    {
     "name": "stderr",
     "output_type": "stream",
     "text": [
      "/Users/savalideshmukh/anaconda3/lib/python3.11/site-packages/pytorch_tabnet/callbacks.py:172: UserWarning: Best weights from best epoch are automatically used!\n",
      "  warnings.warn(wrn_msg)\n"
     ]
    },
    {
     "name": "stdout",
     "output_type": "stream",
     "text": [
      "\n",
      "Early stopping occurred at epoch 56 with best_epoch = 26 and best_val_0_auc = 0.82533\n"
     ]
    },
    {
     "name": "stderr",
     "output_type": "stream",
     "text": [
      "/Users/savalideshmukh/anaconda3/lib/python3.11/site-packages/pytorch_tabnet/callbacks.py:172: UserWarning: Best weights from best epoch are automatically used!\n",
      "  warnings.warn(wrn_msg)\n"
     ]
    },
    {
     "name": "stdout",
     "output_type": "stream",
     "text": [
      "\n",
      "Early stopping occurred at epoch 80 with best_epoch = 50 and best_val_0_auc = 0.89974\n"
     ]
    },
    {
     "name": "stderr",
     "output_type": "stream",
     "text": [
      "/Users/savalideshmukh/anaconda3/lib/python3.11/site-packages/pytorch_tabnet/callbacks.py:172: UserWarning: Best weights from best epoch are automatically used!\n",
      "  warnings.warn(wrn_msg)\n"
     ]
    },
    {
     "name": "stdout",
     "output_type": "stream",
     "text": [
      "\n",
      "Early stopping occurred at epoch 67 with best_epoch = 37 and best_val_0_auc = 0.8584\n"
     ]
    },
    {
     "name": "stderr",
     "output_type": "stream",
     "text": [
      "/Users/savalideshmukh/anaconda3/lib/python3.11/site-packages/pytorch_tabnet/callbacks.py:172: UserWarning: Best weights from best epoch are automatically used!\n",
      "  warnings.warn(wrn_msg)\n",
      "/Users/savalideshmukh/anaconda3/lib/python3.11/site-packages/pytorch_tabnet/callbacks.py:172: UserWarning: Best weights from best epoch are automatically used!\n",
      "  warnings.warn(wrn_msg)\n",
      "[I 2025-05-10 00:13:22,729] Trial 15 finished with value: 0.8593403916168143 and parameters: {'n_d': 48, 'n_a': 127, 'n_steps': 8, 'gamma': 1.3545941785121254, 'lambda_sparse': 0.00015314237760485837, 'momentum': 0.3470404030909383, 'lr': 0.005391988808046155, 'n_independent': 2, 'n_shared': 3}. Best is trial 12 with value: 0.8848017314412978.\n"
     ]
    },
    {
     "name": "stdout",
     "output_type": "stream",
     "text": [
      "\n",
      "Early stopping occurred at epoch 128 with best_epoch = 98 and best_val_0_auc = 0.8945\n",
      "\n",
      "Early stopping occurred at epoch 89 with best_epoch = 59 and best_val_0_auc = 0.84146\n"
     ]
    },
    {
     "name": "stderr",
     "output_type": "stream",
     "text": [
      "/Users/savalideshmukh/anaconda3/lib/python3.11/site-packages/pytorch_tabnet/callbacks.py:172: UserWarning: Best weights from best epoch are automatically used!\n",
      "  warnings.warn(wrn_msg)\n"
     ]
    },
    {
     "name": "stdout",
     "output_type": "stream",
     "text": [
      "\n",
      "Early stopping occurred at epoch 55 with best_epoch = 25 and best_val_0_auc = 0.81257\n"
     ]
    },
    {
     "name": "stderr",
     "output_type": "stream",
     "text": [
      "/Users/savalideshmukh/anaconda3/lib/python3.11/site-packages/pytorch_tabnet/callbacks.py:172: UserWarning: Best weights from best epoch are automatically used!\n",
      "  warnings.warn(wrn_msg)\n"
     ]
    },
    {
     "name": "stdout",
     "output_type": "stream",
     "text": [
      "\n",
      "Early stopping occurred at epoch 60 with best_epoch = 30 and best_val_0_auc = 0.89076\n"
     ]
    },
    {
     "name": "stderr",
     "output_type": "stream",
     "text": [
      "/Users/savalideshmukh/anaconda3/lib/python3.11/site-packages/pytorch_tabnet/callbacks.py:172: UserWarning: Best weights from best epoch are automatically used!\n",
      "  warnings.warn(wrn_msg)\n"
     ]
    },
    {
     "name": "stdout",
     "output_type": "stream",
     "text": [
      "\n",
      "Early stopping occurred at epoch 49 with best_epoch = 19 and best_val_0_auc = 0.83539\n"
     ]
    },
    {
     "name": "stderr",
     "output_type": "stream",
     "text": [
      "/Users/savalideshmukh/anaconda3/lib/python3.11/site-packages/pytorch_tabnet/callbacks.py:172: UserWarning: Best weights from best epoch are automatically used!\n",
      "  warnings.warn(wrn_msg)\n",
      "/Users/savalideshmukh/anaconda3/lib/python3.11/site-packages/pytorch_tabnet/callbacks.py:172: UserWarning: Best weights from best epoch are automatically used!\n",
      "  warnings.warn(wrn_msg)\n",
      "[I 2025-05-10 00:16:14,628] Trial 16 finished with value: 0.8596133385835282 and parameters: {'n_d': 128, 'n_a': 112, 'n_steps': 10, 'gamma': 1.6383428716443729, 'lambda_sparse': 1.0933171379999563e-05, 'momentum': 0.39749449718113855, 'lr': 0.022527361636876048, 'n_independent': 3, 'n_shared': 3}. Best is trial 12 with value: 0.8848017314412978.\n"
     ]
    },
    {
     "name": "stdout",
     "output_type": "stream",
     "text": [
      "\n",
      "Early stopping occurred at epoch 93 with best_epoch = 63 and best_val_0_auc = 0.91788\n",
      "\n",
      "Early stopping occurred at epoch 62 with best_epoch = 32 and best_val_0_auc = 0.85902\n"
     ]
    },
    {
     "name": "stderr",
     "output_type": "stream",
     "text": [
      "/Users/savalideshmukh/anaconda3/lib/python3.11/site-packages/pytorch_tabnet/callbacks.py:172: UserWarning: Best weights from best epoch are automatically used!\n",
      "  warnings.warn(wrn_msg)\n"
     ]
    },
    {
     "name": "stdout",
     "output_type": "stream",
     "text": [
      "\n",
      "Early stopping occurred at epoch 32 with best_epoch = 2 and best_val_0_auc = 0.76698\n"
     ]
    },
    {
     "name": "stderr",
     "output_type": "stream",
     "text": [
      "/Users/savalideshmukh/anaconda3/lib/python3.11/site-packages/pytorch_tabnet/callbacks.py:172: UserWarning: Best weights from best epoch are automatically used!\n",
      "  warnings.warn(wrn_msg)\n"
     ]
    },
    {
     "name": "stdout",
     "output_type": "stream",
     "text": [
      "\n",
      "Early stopping occurred at epoch 96 with best_epoch = 66 and best_val_0_auc = 0.88908\n"
     ]
    },
    {
     "name": "stderr",
     "output_type": "stream",
     "text": [
      "/Users/savalideshmukh/anaconda3/lib/python3.11/site-packages/pytorch_tabnet/callbacks.py:172: UserWarning: Best weights from best epoch are automatically used!\n",
      "  warnings.warn(wrn_msg)\n"
     ]
    },
    {
     "name": "stdout",
     "output_type": "stream",
     "text": [
      "\n",
      "Early stopping occurred at epoch 82 with best_epoch = 52 and best_val_0_auc = 0.84848\n"
     ]
    },
    {
     "name": "stderr",
     "output_type": "stream",
     "text": [
      "/Users/savalideshmukh/anaconda3/lib/python3.11/site-packages/pytorch_tabnet/callbacks.py:172: UserWarning: Best weights from best epoch are automatically used!\n",
      "  warnings.warn(wrn_msg)\n",
      "/Users/savalideshmukh/anaconda3/lib/python3.11/site-packages/pytorch_tabnet/callbacks.py:172: UserWarning: Best weights from best epoch are automatically used!\n",
      "  warnings.warn(wrn_msg)\n",
      "[I 2025-05-10 00:17:53,756] Trial 17 finished with value: 0.8451394144348073 and parameters: {'n_d': 52, 'n_a': 49, 'n_steps': 9, 'gamma': 1.3011650468307197, 'lambda_sparse': 0.0002546221968074286, 'momentum': 0.28367102229835905, 'lr': 0.006539564016571413, 'n_independent': 2, 'n_shared': 3}. Best is trial 12 with value: 0.8848017314412978.\n"
     ]
    },
    {
     "name": "stdout",
     "output_type": "stream",
     "text": [
      "\n",
      "Early stopping occurred at epoch 54 with best_epoch = 24 and best_val_0_auc = 0.86214\n",
      "\n",
      "Early stopping occurred at epoch 77 with best_epoch = 47 and best_val_0_auc = 0.84109\n"
     ]
    },
    {
     "name": "stderr",
     "output_type": "stream",
     "text": [
      "/Users/savalideshmukh/anaconda3/lib/python3.11/site-packages/pytorch_tabnet/callbacks.py:172: UserWarning: Best weights from best epoch are automatically used!\n",
      "  warnings.warn(wrn_msg)\n"
     ]
    },
    {
     "name": "stdout",
     "output_type": "stream",
     "text": [
      "\n",
      "Early stopping occurred at epoch 52 with best_epoch = 22 and best_val_0_auc = 0.84428\n"
     ]
    },
    {
     "name": "stderr",
     "output_type": "stream",
     "text": [
      "/Users/savalideshmukh/anaconda3/lib/python3.11/site-packages/pytorch_tabnet/callbacks.py:172: UserWarning: Best weights from best epoch are automatically used!\n",
      "  warnings.warn(wrn_msg)\n"
     ]
    },
    {
     "name": "stdout",
     "output_type": "stream",
     "text": [
      "\n",
      "Early stopping occurred at epoch 87 with best_epoch = 57 and best_val_0_auc = 0.90947\n"
     ]
    },
    {
     "name": "stderr",
     "output_type": "stream",
     "text": [
      "/Users/savalideshmukh/anaconda3/lib/python3.11/site-packages/pytorch_tabnet/callbacks.py:172: UserWarning: Best weights from best epoch are automatically used!\n",
      "  warnings.warn(wrn_msg)\n"
     ]
    },
    {
     "name": "stdout",
     "output_type": "stream",
     "text": [
      "\n",
      "Early stopping occurred at epoch 82 with best_epoch = 52 and best_val_0_auc = 0.86083\n"
     ]
    },
    {
     "name": "stderr",
     "output_type": "stream",
     "text": [
      "/Users/savalideshmukh/anaconda3/lib/python3.11/site-packages/pytorch_tabnet/callbacks.py:172: UserWarning: Best weights from best epoch are automatically used!\n",
      "  warnings.warn(wrn_msg)\n",
      "/Users/savalideshmukh/anaconda3/lib/python3.11/site-packages/pytorch_tabnet/callbacks.py:172: UserWarning: Best weights from best epoch are automatically used!\n",
      "  warnings.warn(wrn_msg)\n",
      "[I 2025-05-10 00:19:25,105] Trial 18 finished with value: 0.8692104843866361 and parameters: {'n_d': 45, 'n_a': 101, 'n_steps': 8, 'gamma': 1.5283593818368506, 'lambda_sparse': 8.705858164646369e-05, 'momentum': 0.2436100905227882, 'lr': 0.039623795552567675, 'n_independent': 2, 'n_shared': 2}. Best is trial 12 with value: 0.8848017314412978.\n"
     ]
    },
    {
     "name": "stdout",
     "output_type": "stream",
     "text": [
      "\n",
      "Early stopping occurred at epoch 82 with best_epoch = 52 and best_val_0_auc = 0.89039\n",
      "\n",
      "Early stopping occurred at epoch 62 with best_epoch = 32 and best_val_0_auc = 0.84257\n"
     ]
    },
    {
     "name": "stderr",
     "output_type": "stream",
     "text": [
      "/Users/savalideshmukh/anaconda3/lib/python3.11/site-packages/pytorch_tabnet/callbacks.py:172: UserWarning: Best weights from best epoch are automatically used!\n",
      "  warnings.warn(wrn_msg)\n"
     ]
    },
    {
     "name": "stdout",
     "output_type": "stream",
     "text": [
      "\n",
      "Early stopping occurred at epoch 63 with best_epoch = 33 and best_val_0_auc = 0.78837\n"
     ]
    },
    {
     "name": "stderr",
     "output_type": "stream",
     "text": [
      "/Users/savalideshmukh/anaconda3/lib/python3.11/site-packages/pytorch_tabnet/callbacks.py:172: UserWarning: Best weights from best epoch are automatically used!\n",
      "  warnings.warn(wrn_msg)\n"
     ]
    },
    {
     "name": "stdout",
     "output_type": "stream",
     "text": [
      "\n",
      "Early stopping occurred at epoch 77 with best_epoch = 47 and best_val_0_auc = 0.87907\n"
     ]
    },
    {
     "name": "stderr",
     "output_type": "stream",
     "text": [
      "/Users/savalideshmukh/anaconda3/lib/python3.11/site-packages/pytorch_tabnet/callbacks.py:172: UserWarning: Best weights from best epoch are automatically used!\n",
      "  warnings.warn(wrn_msg)\n"
     ]
    },
    {
     "name": "stdout",
     "output_type": "stream",
     "text": [
      "\n",
      "Early stopping occurred at epoch 50 with best_epoch = 20 and best_val_0_auc = 0.85672\n"
     ]
    },
    {
     "name": "stderr",
     "output_type": "stream",
     "text": [
      "/Users/savalideshmukh/anaconda3/lib/python3.11/site-packages/pytorch_tabnet/callbacks.py:172: UserWarning: Best weights from best epoch are automatically used!\n",
      "  warnings.warn(wrn_msg)\n",
      "/Users/savalideshmukh/anaconda3/lib/python3.11/site-packages/pytorch_tabnet/callbacks.py:172: UserWarning: Best weights from best epoch are automatically used!\n",
      "  warnings.warn(wrn_msg)\n",
      "[I 2025-05-10 00:20:33,853] Trial 19 finished with value: 0.8459223392285724 and parameters: {'n_d': 58, 'n_a': 120, 'n_steps': 4, 'gamma': 1.7231124803174973, 'lambda_sparse': 0.0007090019901638499, 'momentum': 0.35502826568292, 'lr': 0.009137840106284007, 'n_independent': 3, 'n_shared': 3}. Best is trial 12 with value: 0.8848017314412978.\n"
     ]
    },
    {
     "name": "stdout",
     "output_type": "stream",
     "text": [
      "\n",
      "Early stopping occurred at epoch 92 with best_epoch = 62 and best_val_0_auc = 0.86289\n",
      "\n",
      "Early stopping occurred at epoch 99 with best_epoch = 69 and best_val_0_auc = 0.83343\n"
     ]
    },
    {
     "name": "stderr",
     "output_type": "stream",
     "text": [
      "/Users/savalideshmukh/anaconda3/lib/python3.11/site-packages/pytorch_tabnet/callbacks.py:172: UserWarning: Best weights from best epoch are automatically used!\n",
      "  warnings.warn(wrn_msg)\n"
     ]
    },
    {
     "name": "stdout",
     "output_type": "stream",
     "text": [
      "\n",
      "Early stopping occurred at epoch 36 with best_epoch = 6 and best_val_0_auc = 0.79784\n"
     ]
    },
    {
     "name": "stderr",
     "output_type": "stream",
     "text": [
      "/Users/savalideshmukh/anaconda3/lib/python3.11/site-packages/pytorch_tabnet/callbacks.py:172: UserWarning: Best weights from best epoch are automatically used!\n",
      "  warnings.warn(wrn_msg)\n"
     ]
    },
    {
     "name": "stdout",
     "output_type": "stream",
     "text": [
      "\n",
      "Early stopping occurred at epoch 71 with best_epoch = 41 and best_val_0_auc = 0.90909\n"
     ]
    },
    {
     "name": "stderr",
     "output_type": "stream",
     "text": [
      "/Users/savalideshmukh/anaconda3/lib/python3.11/site-packages/pytorch_tabnet/callbacks.py:172: UserWarning: Best weights from best epoch are automatically used!\n",
      "  warnings.warn(wrn_msg)\n"
     ]
    },
    {
     "name": "stdout",
     "output_type": "stream",
     "text": [
      "\n",
      "Early stopping occurred at epoch 61 with best_epoch = 31 and best_val_0_auc = 0.87692\n"
     ]
    },
    {
     "name": "stderr",
     "output_type": "stream",
     "text": [
      "/Users/savalideshmukh/anaconda3/lib/python3.11/site-packages/pytorch_tabnet/callbacks.py:172: UserWarning: Best weights from best epoch are automatically used!\n",
      "  warnings.warn(wrn_msg)\n",
      "/Users/savalideshmukh/anaconda3/lib/python3.11/site-packages/pytorch_tabnet/callbacks.py:172: UserWarning: Best weights from best epoch are automatically used!\n",
      "  warnings.warn(wrn_msg)\n",
      "[I 2025-05-10 00:21:29,564] Trial 20 finished with value: 0.8591380239754223 and parameters: {'n_d': 40, 'n_a': 96, 'n_steps': 5, 'gamma': 1.2817473496948404, 'lambda_sparse': 4.2595075251148406e-05, 'momentum': 0.08156894740036669, 'lr': 0.08402110448565019, 'n_independent': 2, 'n_shared': 3}. Best is trial 12 with value: 0.8848017314412978.\n"
     ]
    },
    {
     "name": "stdout",
     "output_type": "stream",
     "text": [
      "\n",
      "Early stopping occurred at epoch 36 with best_epoch = 6 and best_val_0_auc = 0.87841\n",
      "\n",
      "Early stopping occurred at epoch 75 with best_epoch = 45 and best_val_0_auc = 0.86807\n"
     ]
    },
    {
     "name": "stderr",
     "output_type": "stream",
     "text": [
      "/Users/savalideshmukh/anaconda3/lib/python3.11/site-packages/pytorch_tabnet/callbacks.py:172: UserWarning: Best weights from best epoch are automatically used!\n",
      "  warnings.warn(wrn_msg)\n"
     ]
    },
    {
     "name": "stdout",
     "output_type": "stream",
     "text": [
      "\n",
      "Early stopping occurred at epoch 94 with best_epoch = 64 and best_val_0_auc = 0.87448\n"
     ]
    },
    {
     "name": "stderr",
     "output_type": "stream",
     "text": [
      "/Users/savalideshmukh/anaconda3/lib/python3.11/site-packages/pytorch_tabnet/callbacks.py:172: UserWarning: Best weights from best epoch are automatically used!\n",
      "  warnings.warn(wrn_msg)\n"
     ]
    },
    {
     "name": "stdout",
     "output_type": "stream",
     "text": [
      "\n",
      "Early stopping occurred at epoch 83 with best_epoch = 53 and best_val_0_auc = 0.89749\n"
     ]
    },
    {
     "name": "stderr",
     "output_type": "stream",
     "text": [
      "/Users/savalideshmukh/anaconda3/lib/python3.11/site-packages/pytorch_tabnet/callbacks.py:172: UserWarning: Best weights from best epoch are automatically used!\n",
      "  warnings.warn(wrn_msg)\n"
     ]
    },
    {
     "name": "stdout",
     "output_type": "stream",
     "text": [
      "\n",
      "Early stopping occurred at epoch 58 with best_epoch = 28 and best_val_0_auc = 0.87486\n"
     ]
    },
    {
     "name": "stderr",
     "output_type": "stream",
     "text": [
      "/Users/savalideshmukh/anaconda3/lib/python3.11/site-packages/pytorch_tabnet/callbacks.py:172: UserWarning: Best weights from best epoch are automatically used!\n",
      "  warnings.warn(wrn_msg)\n",
      "/Users/savalideshmukh/anaconda3/lib/python3.11/site-packages/pytorch_tabnet/callbacks.py:172: UserWarning: Best weights from best epoch are automatically used!\n",
      "  warnings.warn(wrn_msg)\n",
      "[I 2025-05-10 00:24:11,631] Trial 21 finished with value: 0.8809464669627272 and parameters: {'n_d': 32, 'n_a': 126, 'n_steps': 10, 'gamma': 1.5193766782187779, 'lambda_sparse': 0.00017088144713908816, 'momentum': 0.399673746898164, 'lr': 0.023209545387982335, 'n_independent': 2, 'n_shared': 3}. Best is trial 12 with value: 0.8848017314412978.\n"
     ]
    },
    {
     "name": "stdout",
     "output_type": "stream",
     "text": [
      "\n",
      "Early stopping occurred at epoch 136 with best_epoch = 106 and best_val_0_auc = 0.88982\n",
      "\n",
      "Early stopping occurred at epoch 64 with best_epoch = 34 and best_val_0_auc = 0.85883\n"
     ]
    },
    {
     "name": "stderr",
     "output_type": "stream",
     "text": [
      "/Users/savalideshmukh/anaconda3/lib/python3.11/site-packages/pytorch_tabnet/callbacks.py:172: UserWarning: Best weights from best epoch are automatically used!\n",
      "  warnings.warn(wrn_msg)\n"
     ]
    },
    {
     "name": "stdout",
     "output_type": "stream",
     "text": [
      "\n",
      "Early stopping occurred at epoch 77 with best_epoch = 47 and best_val_0_auc = 0.83096\n"
     ]
    },
    {
     "name": "stderr",
     "output_type": "stream",
     "text": [
      "/Users/savalideshmukh/anaconda3/lib/python3.11/site-packages/pytorch_tabnet/callbacks.py:172: UserWarning: Best weights from best epoch are automatically used!\n",
      "  warnings.warn(wrn_msg)\n"
     ]
    },
    {
     "name": "stdout",
     "output_type": "stream",
     "text": [
      "\n",
      "Early stopping occurred at epoch 79 with best_epoch = 49 and best_val_0_auc = 0.90722\n"
     ]
    },
    {
     "name": "stderr",
     "output_type": "stream",
     "text": [
      "/Users/savalideshmukh/anaconda3/lib/python3.11/site-packages/pytorch_tabnet/callbacks.py:172: UserWarning: Best weights from best epoch are automatically used!\n",
      "  warnings.warn(wrn_msg)\n"
     ]
    },
    {
     "name": "stdout",
     "output_type": "stream",
     "text": [
      "\n",
      "Early stopping occurred at epoch 72 with best_epoch = 42 and best_val_0_auc = 0.86756\n"
     ]
    },
    {
     "name": "stderr",
     "output_type": "stream",
     "text": [
      "/Users/savalideshmukh/anaconda3/lib/python3.11/site-packages/pytorch_tabnet/callbacks.py:172: UserWarning: Best weights from best epoch are automatically used!\n",
      "  warnings.warn(wrn_msg)\n",
      "/Users/savalideshmukh/anaconda3/lib/python3.11/site-packages/pytorch_tabnet/callbacks.py:172: UserWarning: Best weights from best epoch are automatically used!\n",
      "  warnings.warn(wrn_msg)\n",
      "[I 2025-05-10 00:26:39,450] Trial 22 finished with value: 0.8749574404316952 and parameters: {'n_d': 38, 'n_a': 117, 'n_steps': 10, 'gamma': 1.4710364400604534, 'lambda_sparse': 0.0001324177366640961, 'momentum': 0.3756228233233519, 'lr': 0.015864292889333317, 'n_independent': 2, 'n_shared': 3}. Best is trial 12 with value: 0.8848017314412978.\n"
     ]
    },
    {
     "name": "stdout",
     "output_type": "stream",
     "text": [
      "\n",
      "Early stopping occurred at epoch 112 with best_epoch = 82 and best_val_0_auc = 0.91021\n",
      "\n",
      "Early stopping occurred at epoch 66 with best_epoch = 36 and best_val_0_auc = 0.87398\n"
     ]
    },
    {
     "name": "stderr",
     "output_type": "stream",
     "text": [
      "/Users/savalideshmukh/anaconda3/lib/python3.11/site-packages/pytorch_tabnet/callbacks.py:172: UserWarning: Best weights from best epoch are automatically used!\n",
      "  warnings.warn(wrn_msg)\n"
     ]
    },
    {
     "name": "stdout",
     "output_type": "stream",
     "text": [
      "\n",
      "Early stopping occurred at epoch 95 with best_epoch = 65 and best_val_0_auc = 0.84184\n"
     ]
    },
    {
     "name": "stderr",
     "output_type": "stream",
     "text": [
      "/Users/savalideshmukh/anaconda3/lib/python3.11/site-packages/pytorch_tabnet/callbacks.py:172: UserWarning: Best weights from best epoch are automatically used!\n",
      "  warnings.warn(wrn_msg)\n"
     ]
    },
    {
     "name": "stdout",
     "output_type": "stream",
     "text": [
      "\n",
      "Early stopping occurred at epoch 84 with best_epoch = 54 and best_val_0_auc = 0.88908\n"
     ]
    },
    {
     "name": "stderr",
     "output_type": "stream",
     "text": [
      "/Users/savalideshmukh/anaconda3/lib/python3.11/site-packages/pytorch_tabnet/callbacks.py:172: UserWarning: Best weights from best epoch are automatically used!\n",
      "  warnings.warn(wrn_msg)\n"
     ]
    },
    {
     "name": "stdout",
     "output_type": "stream",
     "text": [
      "\n",
      "Early stopping occurred at epoch 98 with best_epoch = 68 and best_val_0_auc = 0.86569\n"
     ]
    },
    {
     "name": "stderr",
     "output_type": "stream",
     "text": [
      "/Users/savalideshmukh/anaconda3/lib/python3.11/site-packages/pytorch_tabnet/callbacks.py:172: UserWarning: Best weights from best epoch are automatically used!\n",
      "  warnings.warn(wrn_msg)\n",
      "/Users/savalideshmukh/anaconda3/lib/python3.11/site-packages/pytorch_tabnet/callbacks.py:172: UserWarning: Best weights from best epoch are automatically used!\n",
      "  warnings.warn(wrn_msg)\n",
      "[I 2025-05-10 00:28:46,644] Trial 23 finished with value: 0.8782935462610257 and parameters: {'n_d': 59, 'n_a': 128, 'n_steps': 9, 'gamma': 1.664231608239111, 'lambda_sparse': 0.00021493689634576144, 'momentum': 0.3275044822547448, 'lr': 0.03164163059306976, 'n_independent': 2, 'n_shared': 2}. Best is trial 12 with value: 0.8848017314412978.\n"
     ]
    },
    {
     "name": "stdout",
     "output_type": "stream",
     "text": [
      "\n",
      "Early stopping occurred at epoch 99 with best_epoch = 69 and best_val_0_auc = 0.92088\n",
      "\n",
      "Early stopping occurred at epoch 142 with best_epoch = 112 and best_val_0_auc = 0.8653\n"
     ]
    },
    {
     "name": "stderr",
     "output_type": "stream",
     "text": [
      "/Users/savalideshmukh/anaconda3/lib/python3.11/site-packages/pytorch_tabnet/callbacks.py:172: UserWarning: Best weights from best epoch are automatically used!\n",
      "  warnings.warn(wrn_msg)\n"
     ]
    },
    {
     "name": "stdout",
     "output_type": "stream",
     "text": [
      "\n",
      "Early stopping occurred at epoch 84 with best_epoch = 54 and best_val_0_auc = 0.85253\n"
     ]
    },
    {
     "name": "stderr",
     "output_type": "stream",
     "text": [
      "/Users/savalideshmukh/anaconda3/lib/python3.11/site-packages/pytorch_tabnet/callbacks.py:172: UserWarning: Best weights from best epoch are automatically used!\n",
      "  warnings.warn(wrn_msg)\n"
     ]
    },
    {
     "name": "stdout",
     "output_type": "stream",
     "text": [
      "\n",
      "Early stopping occurred at epoch 72 with best_epoch = 42 and best_val_0_auc = 0.87879\n"
     ]
    },
    {
     "name": "stderr",
     "output_type": "stream",
     "text": [
      "/Users/savalideshmukh/anaconda3/lib/python3.11/site-packages/pytorch_tabnet/callbacks.py:172: UserWarning: Best weights from best epoch are automatically used!\n",
      "  warnings.warn(wrn_msg)\n"
     ]
    },
    {
     "name": "stdout",
     "output_type": "stream",
     "text": [
      "\n",
      "Early stopping occurred at epoch 74 with best_epoch = 44 and best_val_0_auc = 0.87093\n"
     ]
    },
    {
     "name": "stderr",
     "output_type": "stream",
     "text": [
      "/Users/savalideshmukh/anaconda3/lib/python3.11/site-packages/pytorch_tabnet/callbacks.py:172: UserWarning: Best weights from best epoch are automatically used!\n",
      "  warnings.warn(wrn_msg)\n",
      "/Users/savalideshmukh/anaconda3/lib/python3.11/site-packages/pytorch_tabnet/callbacks.py:172: UserWarning: Best weights from best epoch are automatically used!\n",
      "  warnings.warn(wrn_msg)\n",
      "[I 2025-05-10 00:31:29,629] Trial 24 finished with value: 0.8749543871766093 and parameters: {'n_d': 43, 'n_a': 108, 'n_steps': 10, 'gamma': 1.525885664082547, 'lambda_sparse': 0.00038406803992165, 'momentum': 0.3134420117398159, 'lr': 0.008077566025579021, 'n_independent': 2, 'n_shared': 3}. Best is trial 12 with value: 0.8848017314412978.\n"
     ]
    },
    {
     "name": "stdout",
     "output_type": "stream",
     "text": [
      "\n",
      "Early stopping occurred at epoch 80 with best_epoch = 50 and best_val_0_auc = 0.90722\n",
      "\n",
      "Early stopping occurred at epoch 34 with best_epoch = 4 and best_val_0_auc = 0.84885\n"
     ]
    },
    {
     "name": "stderr",
     "output_type": "stream",
     "text": [
      "/Users/savalideshmukh/anaconda3/lib/python3.11/site-packages/pytorch_tabnet/callbacks.py:172: UserWarning: Best weights from best epoch are automatically used!\n",
      "  warnings.warn(wrn_msg)\n"
     ]
    },
    {
     "name": "stdout",
     "output_type": "stream",
     "text": [
      "\n",
      "Early stopping occurred at epoch 84 with best_epoch = 54 and best_val_0_auc = 0.86248\n"
     ]
    },
    {
     "name": "stderr",
     "output_type": "stream",
     "text": [
      "/Users/savalideshmukh/anaconda3/lib/python3.11/site-packages/pytorch_tabnet/callbacks.py:172: UserWarning: Best weights from best epoch are automatically used!\n",
      "  warnings.warn(wrn_msg)\n"
     ]
    },
    {
     "name": "stdout",
     "output_type": "stream",
     "text": [
      "\n",
      "Early stopping occurred at epoch 84 with best_epoch = 54 and best_val_0_auc = 0.90797\n"
     ]
    },
    {
     "name": "stderr",
     "output_type": "stream",
     "text": [
      "/Users/savalideshmukh/anaconda3/lib/python3.11/site-packages/pytorch_tabnet/callbacks.py:172: UserWarning: Best weights from best epoch are automatically used!\n",
      "  warnings.warn(wrn_msg)\n"
     ]
    },
    {
     "name": "stdout",
     "output_type": "stream",
     "text": [
      "\n",
      "Early stopping occurred at epoch 86 with best_epoch = 56 and best_val_0_auc = 0.85615\n"
     ]
    },
    {
     "name": "stderr",
     "output_type": "stream",
     "text": [
      "/Users/savalideshmukh/anaconda3/lib/python3.11/site-packages/pytorch_tabnet/callbacks.py:172: UserWarning: Best weights from best epoch are automatically used!\n",
      "  warnings.warn(wrn_msg)\n",
      "/Users/savalideshmukh/anaconda3/lib/python3.11/site-packages/pytorch_tabnet/callbacks.py:172: UserWarning: Best weights from best epoch are automatically used!\n",
      "  warnings.warn(wrn_msg)\n",
      "[I 2025-05-10 00:33:40,552] Trial 25 finished with value: 0.8832688078758538 and parameters: {'n_d': 32, 'n_a': 119, 'n_steps': 9, 'gamma': 1.3683172452949106, 'lambda_sparse': 0.00010858860453546277, 'momentum': 0.3707194180802707, 'lr': 0.014610793514857326, 'n_independent': 2, 'n_shared': 3}. Best is trial 12 with value: 0.8848017314412978.\n"
     ]
    },
    {
     "name": "stdout",
     "output_type": "stream",
     "text": [
      "\n",
      "Early stopping occurred at epoch 114 with best_epoch = 84 and best_val_0_auc = 0.94089\n",
      "\n",
      "Early stopping occurred at epoch 65 with best_epoch = 35 and best_val_0_auc = 0.86622\n"
     ]
    },
    {
     "name": "stderr",
     "output_type": "stream",
     "text": [
      "/Users/savalideshmukh/anaconda3/lib/python3.11/site-packages/pytorch_tabnet/callbacks.py:172: UserWarning: Best weights from best epoch are automatically used!\n",
      "  warnings.warn(wrn_msg)\n"
     ]
    },
    {
     "name": "stdout",
     "output_type": "stream",
     "text": [
      "\n",
      "Early stopping occurred at epoch 84 with best_epoch = 54 and best_val_0_auc = 0.81764\n"
     ]
    },
    {
     "name": "stderr",
     "output_type": "stream",
     "text": [
      "/Users/savalideshmukh/anaconda3/lib/python3.11/site-packages/pytorch_tabnet/callbacks.py:172: UserWarning: Best weights from best epoch are automatically used!\n",
      "  warnings.warn(wrn_msg)\n"
     ]
    },
    {
     "name": "stdout",
     "output_type": "stream",
     "text": [
      "\n",
      "Early stopping occurred at epoch 70 with best_epoch = 40 and best_val_0_auc = 0.86869\n"
     ]
    },
    {
     "name": "stderr",
     "output_type": "stream",
     "text": [
      "/Users/savalideshmukh/anaconda3/lib/python3.11/site-packages/pytorch_tabnet/callbacks.py:172: UserWarning: Best weights from best epoch are automatically used!\n",
      "  warnings.warn(wrn_msg)\n"
     ]
    },
    {
     "name": "stdout",
     "output_type": "stream",
     "text": [
      "\n",
      "Early stopping occurred at epoch 58 with best_epoch = 28 and best_val_0_auc = 0.82305\n"
     ]
    },
    {
     "name": "stderr",
     "output_type": "stream",
     "text": [
      "/Users/savalideshmukh/anaconda3/lib/python3.11/site-packages/pytorch_tabnet/callbacks.py:172: UserWarning: Best weights from best epoch are automatically used!\n",
      "  warnings.warn(wrn_msg)\n",
      "/Users/savalideshmukh/anaconda3/lib/python3.11/site-packages/pytorch_tabnet/callbacks.py:172: UserWarning: Best weights from best epoch are automatically used!\n",
      "  warnings.warn(wrn_msg)\n",
      "[I 2025-05-10 00:35:38,271] Trial 26 finished with value: 0.8540183855089005 and parameters: {'n_d': 56, 'n_a': 118, 'n_steps': 9, 'gamma': 1.3697793982393944, 'lambda_sparse': 5.7432626409551015e-05, 'momentum': 0.36006890569423744, 'lr': 0.003944043520760066, 'n_independent': 3, 'n_shared': 2}. Best is trial 12 with value: 0.8848017314412978.\n"
     ]
    },
    {
     "name": "stdout",
     "output_type": "stream",
     "text": [
      "\n",
      "Early stopping occurred at epoch 68 with best_epoch = 38 and best_val_0_auc = 0.8945\n",
      "\n",
      "Early stopping occurred at epoch 55 with best_epoch = 25 and best_val_0_auc = 0.86419\n"
     ]
    },
    {
     "name": "stderr",
     "output_type": "stream",
     "text": [
      "/Users/savalideshmukh/anaconda3/lib/python3.11/site-packages/pytorch_tabnet/callbacks.py:172: UserWarning: Best weights from best epoch are automatically used!\n",
      "  warnings.warn(wrn_msg)\n"
     ]
    },
    {
     "name": "stdout",
     "output_type": "stream",
     "text": [
      "\n",
      "Early stopping occurred at epoch 50 with best_epoch = 20 and best_val_0_auc = 0.82439\n"
     ]
    },
    {
     "name": "stderr",
     "output_type": "stream",
     "text": [
      "/Users/savalideshmukh/anaconda3/lib/python3.11/site-packages/pytorch_tabnet/callbacks.py:172: UserWarning: Best weights from best epoch are automatically used!\n",
      "  warnings.warn(wrn_msg)\n"
     ]
    },
    {
     "name": "stdout",
     "output_type": "stream",
     "text": [
      "\n",
      "Early stopping occurred at epoch 70 with best_epoch = 40 and best_val_0_auc = 0.88066\n"
     ]
    },
    {
     "name": "stderr",
     "output_type": "stream",
     "text": [
      "/Users/savalideshmukh/anaconda3/lib/python3.11/site-packages/pytorch_tabnet/callbacks.py:172: UserWarning: Best weights from best epoch are automatically used!\n",
      "  warnings.warn(wrn_msg)\n"
     ]
    },
    {
     "name": "stdout",
     "output_type": "stream",
     "text": [
      "\n",
      "Early stopping occurred at epoch 62 with best_epoch = 32 and best_val_0_auc = 0.8642\n"
     ]
    },
    {
     "name": "stderr",
     "output_type": "stream",
     "text": [
      "/Users/savalideshmukh/anaconda3/lib/python3.11/site-packages/pytorch_tabnet/callbacks.py:172: UserWarning: Best weights from best epoch are automatically used!\n",
      "  warnings.warn(wrn_msg)\n",
      "/Users/savalideshmukh/anaconda3/lib/python3.11/site-packages/pytorch_tabnet/callbacks.py:172: UserWarning: Best weights from best epoch are automatically used!\n",
      "  warnings.warn(wrn_msg)\n",
      "[I 2025-05-10 00:36:56,198] Trial 27 finished with value: 0.86285647805973 and parameters: {'n_d': 43, 'n_a': 107, 'n_steps': 7, 'gamma': 1.2216547237341775, 'lambda_sparse': 0.00010551820571379843, 'momentum': 0.2687831886902813, 'lr': 0.014631569742427712, 'n_independent': 2, 'n_shared': 3}. Best is trial 12 with value: 0.8848017314412978.\n"
     ]
    },
    {
     "name": "stdout",
     "output_type": "stream",
     "text": [
      "\n",
      "Early stopping occurred at epoch 59 with best_epoch = 29 and best_val_0_auc = 0.88085\n",
      "\n",
      "Early stopping occurred at epoch 60 with best_epoch = 30 and best_val_0_auc = 0.84978\n"
     ]
    },
    {
     "name": "stderr",
     "output_type": "stream",
     "text": [
      "/Users/savalideshmukh/anaconda3/lib/python3.11/site-packages/pytorch_tabnet/callbacks.py:172: UserWarning: Best weights from best epoch are automatically used!\n",
      "  warnings.warn(wrn_msg)\n"
     ]
    },
    {
     "name": "stdout",
     "output_type": "stream",
     "text": [
      "\n",
      "Early stopping occurred at epoch 92 with best_epoch = 62 and best_val_0_auc = 0.83602\n"
     ]
    },
    {
     "name": "stderr",
     "output_type": "stream",
     "text": [
      "/Users/savalideshmukh/anaconda3/lib/python3.11/site-packages/pytorch_tabnet/callbacks.py:172: UserWarning: Best weights from best epoch are automatically used!\n",
      "  warnings.warn(wrn_msg)\n"
     ]
    },
    {
     "name": "stdout",
     "output_type": "stream",
     "text": [
      "\n",
      "Early stopping occurred at epoch 42 with best_epoch = 12 and best_val_0_auc = 0.88085\n"
     ]
    },
    {
     "name": "stderr",
     "output_type": "stream",
     "text": [
      "/Users/savalideshmukh/anaconda3/lib/python3.11/site-packages/pytorch_tabnet/callbacks.py:172: UserWarning: Best weights from best epoch are automatically used!\n",
      "  warnings.warn(wrn_msg)\n"
     ]
    },
    {
     "name": "stdout",
     "output_type": "stream",
     "text": [
      "\n",
      "Early stopping occurred at epoch 53 with best_epoch = 23 and best_val_0_auc = 0.85354\n"
     ]
    },
    {
     "name": "stderr",
     "output_type": "stream",
     "text": [
      "/Users/savalideshmukh/anaconda3/lib/python3.11/site-packages/pytorch_tabnet/callbacks.py:172: UserWarning: Best weights from best epoch are automatically used!\n",
      "  warnings.warn(wrn_msg)\n",
      "/Users/savalideshmukh/anaconda3/lib/python3.11/site-packages/pytorch_tabnet/callbacks.py:172: UserWarning: Best weights from best epoch are automatically used!\n",
      "  warnings.warn(wrn_msg)\n",
      "[I 2025-05-10 00:38:53,346] Trial 28 finished with value: 0.8630860828421802 and parameters: {'n_d': 39, 'n_a': 120, 'n_steps': 8, 'gamma': 1.4124742779689154, 'lambda_sparse': 2.3360574895023188e-05, 'momentum': 0.3728043373363265, 'lr': 0.06537574092755788, 'n_independent': 3, 'n_shared': 3}. Best is trial 12 with value: 0.8848017314412978.\n"
     ]
    },
    {
     "name": "stdout",
     "output_type": "stream",
     "text": [
      "\n",
      "Early stopping occurred at epoch 86 with best_epoch = 56 and best_val_0_auc = 0.89525\n",
      "\n",
      "Early stopping occurred at epoch 73 with best_epoch = 43 and best_val_0_auc = 0.8374\n"
     ]
    },
    {
     "name": "stderr",
     "output_type": "stream",
     "text": [
      "/Users/savalideshmukh/anaconda3/lib/python3.11/site-packages/pytorch_tabnet/callbacks.py:172: UserWarning: Best weights from best epoch are automatically used!\n",
      "  warnings.warn(wrn_msg)\n"
     ]
    },
    {
     "name": "stdout",
     "output_type": "stream",
     "text": [
      "\n",
      "Early stopping occurred at epoch 154 with best_epoch = 124 and best_val_0_auc = 0.88105\n"
     ]
    },
    {
     "name": "stderr",
     "output_type": "stream",
     "text": [
      "/Users/savalideshmukh/anaconda3/lib/python3.11/site-packages/pytorch_tabnet/callbacks.py:172: UserWarning: Best weights from best epoch are automatically used!\n",
      "  warnings.warn(wrn_msg)\n"
     ]
    },
    {
     "name": "stdout",
     "output_type": "stream",
     "text": [
      "\n",
      "Early stopping occurred at epoch 60 with best_epoch = 30 and best_val_0_auc = 0.88571\n"
     ]
    },
    {
     "name": "stderr",
     "output_type": "stream",
     "text": [
      "/Users/savalideshmukh/anaconda3/lib/python3.11/site-packages/pytorch_tabnet/callbacks.py:172: UserWarning: Best weights from best epoch are automatically used!\n",
      "  warnings.warn(wrn_msg)\n"
     ]
    },
    {
     "name": "stdout",
     "output_type": "stream",
     "text": [
      "\n",
      "Early stopping occurred at epoch 79 with best_epoch = 49 and best_val_0_auc = 0.8786\n"
     ]
    },
    {
     "name": "stderr",
     "output_type": "stream",
     "text": [
      "/Users/savalideshmukh/anaconda3/lib/python3.11/site-packages/pytorch_tabnet/callbacks.py:172: UserWarning: Best weights from best epoch are automatically used!\n",
      "  warnings.warn(wrn_msg)\n",
      "/Users/savalideshmukh/anaconda3/lib/python3.11/site-packages/pytorch_tabnet/callbacks.py:172: UserWarning: Best weights from best epoch are automatically used!\n",
      "  warnings.warn(wrn_msg)\n",
      "[I 2025-05-10 00:41:15,441] Trial 29 finished with value: 0.8772850175018198 and parameters: {'n_d': 103, 'n_a': 90, 'n_steps': 9, 'gamma': 1.7959386151917167, 'lambda_sparse': 6.403704361953742e-05, 'momentum': 0.3101185821590587, 'lr': 0.014799343820458446, 'n_independent': 2, 'n_shared': 2}. Best is trial 12 with value: 0.8848017314412978.\n"
     ]
    },
    {
     "name": "stdout",
     "output_type": "stream",
     "text": [
      "\n",
      "Early stopping occurred at epoch 123 with best_epoch = 93 and best_val_0_auc = 0.90367\n",
      "\n",
      "✅ Best Hyperparameters Found:\n",
      "n_d: 36\n",
      "n_a: 128\n",
      "n_steps: 10\n",
      "gamma: 1.530158700027477\n",
      "lambda_sparse: 0.00015784720012436288\n",
      "momentum: 0.39629648784113414\n",
      "lr: 0.01415008826669103\n",
      "n_independent: 2\n",
      "n_shared: 3\n"
     ]
    }
   ],
   "source": [
    "# Run Optuna\n",
    "study = optuna.create_study(direction=\"maximize\")\n",
    "study.optimize(objective, n_trials=30)\n",
    "\n",
    "best_params = study.best_params\n",
    "print(\"\\n✅ Best Hyperparameters Found:\")\n",
    "for k, v in best_params.items():\n",
    "    print(f\"{k}: {v}\")\n"
   ]
  },
  {
   "cell_type": "code",
   "execution_count": 6,
   "id": "8225b407",
   "metadata": {
    "scrolled": true
   },
   "outputs": [
    {
     "name": "stderr",
     "output_type": "stream",
     "text": [
      "/Users/savalideshmukh/anaconda3/lib/python3.11/site-packages/pytorch_tabnet/abstract_model.py:82: UserWarning: Device used : cpu\n",
      "  warnings.warn(f\"Device used : {self.device}\")\n"
     ]
    },
    {
     "name": "stdout",
     "output_type": "stream",
     "text": [
      "epoch 0  | loss: 1.69004 | val_0_auc: 0.77846 |  0:00:00s\n",
      "epoch 1  | loss: 0.80325 | val_0_auc: 0.83226 |  0:00:00s\n",
      "epoch 2  | loss: 0.98771 | val_0_auc: 0.65555 |  0:00:01s\n",
      "epoch 3  | loss: 0.92311 | val_0_auc: 0.69201 |  0:00:01s\n",
      "epoch 4  | loss: 0.95697 | val_0_auc: 0.76309 |  0:00:02s\n",
      "epoch 5  | loss: 0.89131 | val_0_auc: 0.74271 |  0:00:02s\n",
      "epoch 6  | loss: 0.78384 | val_0_auc: 0.76327 |  0:00:02s\n",
      "epoch 7  | loss: 0.66402 | val_0_auc: 0.71353 |  0:00:03s\n",
      "epoch 8  | loss: 0.7121  | val_0_auc: 0.77499 |  0:00:03s\n",
      "epoch 9  | loss: 0.54359 | val_0_auc: 0.79962 |  0:00:04s\n",
      "epoch 10 | loss: 0.5907  | val_0_auc: 0.79352 |  0:00:04s\n",
      "epoch 11 | loss: 0.6592  | val_0_auc: 0.80906 |  0:00:04s\n",
      "epoch 12 | loss: 0.63364 | val_0_auc: 0.79675 |  0:00:05s\n",
      "epoch 13 | loss: 0.90621 | val_0_auc: 0.85473 |  0:00:05s\n",
      "epoch 14 | loss: 0.72469 | val_0_auc: 0.79962 |  0:00:06s\n",
      "epoch 15 | loss: 0.63839 | val_0_auc: 0.75598 |  0:00:06s\n",
      "epoch 16 | loss: 0.59319 | val_0_auc: 0.71533 |  0:00:07s\n",
      "epoch 17 | loss: 0.54754 | val_0_auc: 0.80763 |  0:00:07s\n",
      "epoch 18 | loss: 0.47652 | val_0_auc: 0.86143 |  0:00:07s\n",
      "epoch 19 | loss: 0.47829 | val_0_auc: 0.85043 |  0:00:08s\n",
      "epoch 20 | loss: 0.47893 | val_0_auc: 0.84122 |  0:00:08s\n",
      "epoch 21 | loss: 0.45582 | val_0_auc: 0.83286 |  0:00:09s\n",
      "epoch 22 | loss: 0.46045 | val_0_auc: 0.88797 |  0:00:09s\n",
      "epoch 23 | loss: 0.52792 | val_0_auc: 0.88749 |  0:00:09s\n",
      "epoch 24 | loss: 0.46639 | val_0_auc: 0.84421 |  0:00:10s\n",
      "epoch 25 | loss: 0.44637 | val_0_auc: 0.81982 |  0:00:10s\n",
      "epoch 26 | loss: 0.48119 | val_0_auc: 0.82628 |  0:00:11s\n",
      "epoch 27 | loss: 0.42698 | val_0_auc: 0.85868 |  0:00:11s\n",
      "epoch 28 | loss: 0.42435 | val_0_auc: 0.85462 |  0:00:12s\n",
      "epoch 29 | loss: 0.42431 | val_0_auc: 0.85246 |  0:00:12s\n",
      "epoch 30 | loss: 0.46778 | val_0_auc: 0.88725 |  0:00:12s\n",
      "epoch 31 | loss: 0.43858 | val_0_auc: 0.87733 |  0:00:13s\n",
      "epoch 32 | loss: 0.41548 | val_0_auc: 0.84302 |  0:00:13s\n",
      "epoch 33 | loss: 0.42699 | val_0_auc: 0.8466  |  0:00:14s\n",
      "epoch 34 | loss: 0.40458 | val_0_auc: 0.84338 |  0:00:14s\n",
      "epoch 35 | loss: 0.40923 | val_0_auc: 0.84577 |  0:00:14s\n",
      "epoch 36 | loss: 0.40652 | val_0_auc: 0.86813 |  0:00:15s\n",
      "epoch 37 | loss: 0.40702 | val_0_auc: 0.87231 |  0:00:15s\n",
      "epoch 38 | loss: 0.41375 | val_0_auc: 0.88989 |  0:00:16s\n",
      "epoch 39 | loss: 0.41283 | val_0_auc: 0.86777 |  0:00:16s\n",
      "epoch 40 | loss: 0.41618 | val_0_auc: 0.87805 |  0:00:17s\n",
      "epoch 41 | loss: 0.40659 | val_0_auc: 0.86322 |  0:00:17s\n",
      "epoch 42 | loss: 0.42472 | val_0_auc: 0.88809 |  0:00:17s\n",
      "epoch 43 | loss: 0.42144 | val_0_auc: 0.88594 |  0:00:18s\n",
      "epoch 44 | loss: 0.42377 | val_0_auc: 0.89742 |  0:00:18s\n",
      "epoch 45 | loss: 0.3998  | val_0_auc: 0.87901 |  0:00:19s\n",
      "epoch 46 | loss: 0.38941 | val_0_auc: 0.85605 |  0:00:19s\n",
      "epoch 47 | loss: 0.42608 | val_0_auc: 0.86502 |  0:00:19s\n",
      "epoch 48 | loss: 0.43976 | val_0_auc: 0.87219 |  0:00:20s\n",
      "epoch 49 | loss: 0.41846 | val_0_auc: 0.86741 |  0:00:20s\n",
      "epoch 50 | loss: 0.4236  | val_0_auc: 0.88403 |  0:00:21s\n",
      "epoch 51 | loss: 0.42128 | val_0_auc: 0.87614 |  0:00:21s\n",
      "epoch 52 | loss: 0.40593 | val_0_auc: 0.8594  |  0:00:22s\n",
      "epoch 53 | loss: 0.43571 | val_0_auc: 0.86848 |  0:00:22s\n",
      "epoch 54 | loss: 0.40401 | val_0_auc: 0.86549 |  0:00:22s\n",
      "epoch 55 | loss: 0.40687 | val_0_auc: 0.87721 |  0:00:23s\n",
      "epoch 56 | loss: 0.38697 | val_0_auc: 0.88606 |  0:00:23s\n",
      "epoch 57 | loss: 0.37692 | val_0_auc: 0.87626 |  0:00:24s\n",
      "epoch 58 | loss: 0.38262 | val_0_auc: 0.87578 |  0:00:24s\n",
      "epoch 59 | loss: 0.37232 | val_0_auc: 0.89264 |  0:00:24s\n",
      "epoch 60 | loss: 0.37082 | val_0_auc: 0.89574 |  0:00:25s\n",
      "epoch 61 | loss: 0.39281 | val_0_auc: 0.88606 |  0:00:25s\n",
      "epoch 62 | loss: 0.39374 | val_0_auc: 0.87386 |  0:00:26s\n",
      "epoch 63 | loss: 0.43341 | val_0_auc: 0.87984 |  0:00:26s\n",
      "epoch 64 | loss: 0.40253 | val_0_auc: 0.88319 |  0:00:27s\n",
      "epoch 65 | loss: 0.39892 | val_0_auc: 0.88797 |  0:00:27s\n",
      "epoch 66 | loss: 0.37588 | val_0_auc: 0.88881 |  0:00:27s\n",
      "epoch 67 | loss: 0.39475 | val_0_auc: 0.88821 |  0:00:28s\n",
      "epoch 68 | loss: 0.3911  | val_0_auc: 0.89694 |  0:00:28s\n",
      "epoch 69 | loss: 0.41148 | val_0_auc: 0.89383 |  0:00:29s\n",
      "epoch 70 | loss: 0.38728 | val_0_auc: 0.88199 |  0:00:29s\n",
      "epoch 71 | loss: 0.39742 | val_0_auc: 0.89156 |  0:00:30s\n",
      "epoch 72 | loss: 0.39865 | val_0_auc: 0.90053 |  0:00:30s\n",
      "epoch 73 | loss: 0.39808 | val_0_auc: 0.89969 |  0:00:30s\n",
      "epoch 74 | loss: 0.41212 | val_0_auc: 0.89909 |  0:00:31s\n",
      "epoch 75 | loss: 0.39296 | val_0_auc: 0.89419 |  0:00:31s\n",
      "epoch 76 | loss: 0.38885 | val_0_auc: 0.88881 |  0:00:32s\n",
      "epoch 77 | loss: 0.38631 | val_0_auc: 0.87996 |  0:00:32s\n",
      "epoch 78 | loss: 0.39036 | val_0_auc: 0.87745 |  0:00:33s\n",
      "epoch 79 | loss: 0.38344 | val_0_auc: 0.86789 |  0:00:33s\n",
      "epoch 80 | loss: 0.36499 | val_0_auc: 0.8814  |  0:00:33s\n",
      "epoch 81 | loss: 0.40716 | val_0_auc: 0.89503 |  0:00:34s\n",
      "epoch 82 | loss: 0.38438 | val_0_auc: 0.8814  |  0:00:34s\n",
      "epoch 83 | loss: 0.38882 | val_0_auc: 0.88941 |  0:00:35s\n",
      "epoch 84 | loss: 0.39141 | val_0_auc: 0.89813 |  0:00:35s\n",
      "epoch 85 | loss: 0.37578 | val_0_auc: 0.9065  |  0:00:35s\n",
      "epoch 86 | loss: 0.36848 | val_0_auc: 0.90387 |  0:00:36s\n",
      "epoch 87 | loss: 0.37519 | val_0_auc: 0.8692  |  0:00:36s\n",
      "epoch 88 | loss: 0.38383 | val_0_auc: 0.88295 |  0:00:37s\n",
      "epoch 89 | loss: 0.37809 | val_0_auc: 0.88379 |  0:00:37s\n",
      "epoch 90 | loss: 0.38292 | val_0_auc: 0.88642 |  0:00:37s\n",
      "epoch 91 | loss: 0.40605 | val_0_auc: 0.86131 |  0:00:38s\n",
      "epoch 92 | loss: 0.39125 | val_0_auc: 0.88247 |  0:00:38s\n",
      "epoch 93 | loss: 0.39528 | val_0_auc: 0.89347 |  0:00:39s\n",
      "epoch 94 | loss: 0.38668 | val_0_auc: 0.90375 |  0:00:39s\n",
      "epoch 95 | loss: 0.39421 | val_0_auc: 0.88989 |  0:00:39s\n",
      "epoch 96 | loss: 0.38865 | val_0_auc: 0.88929 |  0:00:40s\n",
      "epoch 97 | loss: 0.38274 | val_0_auc: 0.89024 |  0:00:40s\n",
      "epoch 98 | loss: 0.3824  | val_0_auc: 0.89252 |  0:00:41s\n",
      "epoch 99 | loss: 0.38336 | val_0_auc: 0.88809 |  0:00:41s\n",
      "epoch 100| loss: 0.38484 | val_0_auc: 0.90041 |  0:00:42s\n",
      "epoch 101| loss: 0.39262 | val_0_auc: 0.89538 |  0:00:42s\n",
      "epoch 102| loss: 0.39107 | val_0_auc: 0.89096 |  0:00:42s\n",
      "epoch 103| loss: 0.39639 | val_0_auc: 0.87877 |  0:00:43s\n",
      "epoch 104| loss: 0.37996 | val_0_auc: 0.89096 |  0:00:43s\n",
      "epoch 105| loss: 0.37844 | val_0_auc: 0.89204 |  0:00:44s\n",
      "epoch 106| loss: 0.37312 | val_0_auc: 0.88845 |  0:00:44s\n",
      "epoch 107| loss: 0.37102 | val_0_auc: 0.88893 |  0:00:45s\n",
      "epoch 108| loss: 0.35577 | val_0_auc: 0.89096 |  0:00:45s\n",
      "epoch 109| loss: 0.35777 | val_0_auc: 0.88749 |  0:00:45s\n",
      "epoch 110| loss: 0.37324 | val_0_auc: 0.88929 |  0:00:46s\n",
      "epoch 111| loss: 0.37399 | val_0_auc: 0.88259 |  0:00:46s\n",
      "epoch 112| loss: 0.37446 | val_0_auc: 0.88977 |  0:00:47s\n",
      "epoch 113| loss: 0.38518 | val_0_auc: 0.88725 |  0:00:47s\n",
      "epoch 114| loss: 0.38019 | val_0_auc: 0.88379 |  0:00:47s\n",
      "epoch 115| loss: 0.36626 | val_0_auc: 0.88199 |  0:00:48s\n",
      "\n",
      "Early stopping occurred at epoch 115 with best_epoch = 85 and best_val_0_auc = 0.9065\n"
     ]
    },
    {
     "name": "stderr",
     "output_type": "stream",
     "text": [
      "/Users/savalideshmukh/anaconda3/lib/python3.11/site-packages/pytorch_tabnet/callbacks.py:172: UserWarning: Best weights from best epoch are automatically used!\n",
      "  warnings.warn(wrn_msg)\n"
     ]
    }
   ],
   "source": [
    "# Final Model Training with Best Hyperparameters\n",
    "final_tabnet = TabNetClassifier(\n",
    "    n_d=best_params['n_d'],\n",
    "    n_a=best_params['n_a'],\n",
    "    n_steps=best_params['n_steps'],\n",
    "    gamma=best_params['gamma'],\n",
    "    lambda_sparse=best_params['lambda_sparse'],\n",
    "    momentum=best_params['momentum'],\n",
    "    n_independent=best_params['n_independent'],\n",
    "    n_shared=best_params['n_shared'],\n",
    "    optimizer_fn=torch.optim.Adam,\n",
    "    optimizer_params={'lr': best_params['lr']},\n",
    "    scheduler_params={\"step_size\": 10, \"gamma\": 0.9},\n",
    "    scheduler_fn=torch.optim.lr_scheduler.StepLR,\n",
    "    verbose=1,\n",
    "    seed=42\n",
    ")\n",
    "\n",
    "\n",
    "final_tabnet.fit(\n",
    "    X_train, y_train,\n",
    "    eval_set=[(X_test, y_test)],\n",
    "    eval_metric=[\"auc\"],\n",
    "    max_epochs=300,\n",
    "    patience=30,\n",
    "    batch_size=256,\n",
    "    virtual_batch_size=128,\n",
    "    num_workers=0,\n",
    "    drop_last=False\n",
    ")\n",
    "\n",
    "# Evaluation\n",
    "y_pred_proba = final_tabnet.predict_proba(X_test)[:, 1]\n",
    "y_pred = (y_pred_proba > 0.5).astype(int)"
   ]
  },
  {
   "cell_type": "code",
   "execution_count": 7,
   "id": "fef6a433",
   "metadata": {},
   "outputs": [
    {
     "name": "stdout",
     "output_type": "stream",
     "text": [
      "\n",
      "📊 Final Evaluation Metrics for Tuned TabNet:\n",
      "Model: TabNet (Optuna Tuned)\n",
      "Accuracy: 0.8261\n",
      "F1 Score: 0.8545\n",
      "Precision: 0.7966\n",
      "Recall: 0.9216\n",
      "ROC AUC: 0.9065\n"
     ]
    }
   ],
   "source": [
    "results = {\n",
    "    'Model': \"TabNet (Optuna Tuned)\",\n",
    "    'Accuracy': accuracy_score(y_test, y_pred),\n",
    "    'F1 Score': f1_score(y_test, y_pred),\n",
    "    'Precision': precision_score(y_test, y_pred),\n",
    "    'Recall': recall_score(y_test, y_pred),\n",
    "    'ROC AUC': roc_auc_score(y_test, y_pred_proba)\n",
    "}\n",
    "\n",
    "print(\"\\n📊 Final Evaluation Metrics for Tuned TabNet:\")\n",
    "for k, v in results.items():\n",
    "    print(f\"{k}: {v:.4f}\" if isinstance(v, float) else f\"{k}: {v}\")"
   ]
  },
  {
   "cell_type": "markdown",
   "id": "5012a1fb",
   "metadata": {},
   "source": [
    "# Attempt 3"
   ]
  },
  {
   "cell_type": "code",
   "execution_count": 1,
   "id": "742795b3",
   "metadata": {},
   "outputs": [],
   "source": [
    "import pandas as pd\n",
    "import numpy as np\n",
    "import optuna\n",
    "from sklearn.model_selection import train_test_split, StratifiedKFold\n",
    "from sklearn.preprocessing import LabelEncoder, StandardScaler\n",
    "from sklearn.impute import SimpleImputer\n",
    "from sklearn.feature_selection import mutual_info_classif, SelectKBest\n",
    "from sklearn.decomposition import PCA\n",
    "from sklearn.metrics import accuracy_score, f1_score, precision_score, recall_score, roc_auc_score\n",
    "from pytorch_tabnet.tab_model import TabNetClassifier\n",
    "import torch"
   ]
  },
  {
   "cell_type": "code",
   "execution_count": 2,
   "id": "05392200",
   "metadata": {},
   "outputs": [],
   "source": [
    "# Load and preprocess dataset\n",
    "df = pd.read_csv(\"heart_disease_uci.csv\")\n",
    "df.drop(columns=[\"id\", \"dataset\"], inplace=True)\n",
    "df[\"target\"] = df[\"num\"].apply(lambda x: 1 if x > 0 else 0)\n",
    "df.drop(columns=[\"num\"], inplace=True)\n",
    "\n",
    "numerical = ['age', 'trestbps', 'chol', 'thalch', 'oldpeak', 'ca']\n",
    "categorical = ['sex', 'cp', 'fbs', 'restecg', 'exang', 'slope', 'thal']\n",
    "\n",
    "df[numerical] = SimpleImputer(strategy=\"median\").fit_transform(df[numerical])\n",
    "for col in categorical:\n",
    "    df[col] = LabelEncoder().fit_transform(df[col].astype(str))\n",
    "df[numerical] = StandardScaler().fit_transform(df[numerical])\n",
    "\n",
    "X_full = df[numerical + categorical].values\n",
    "y_full = df[\"target\"].values\n",
    "\n",
    "# Feature Selection + PCA\n",
    "selector = SelectKBest(mutual_info_classif, k=10)\n",
    "X_selected = selector.fit_transform(X_full, y_full)\n",
    "pca = PCA(n_components=8)\n",
    "X_pca = pca.fit_transform(X_selected)\n",
    "X = X_pca\n",
    "y = y_full\n",
    "\n",
    "# Train-Test Split\n",
    "X_train, X_test, y_train, y_test = train_test_split(X, y, stratify=y, test_size=0.2, random_state=42)\n"
   ]
  },
  {
   "cell_type": "code",
   "execution_count": 3,
   "id": "be5bb034",
   "metadata": {},
   "outputs": [],
   "source": [
    "def objective(trial):\n",
    "    params = {\n",
    "        \"n_d\": trial.suggest_int(\"n_d\", 32, 128),\n",
    "        \"n_a\": trial.suggest_int(\"n_a\", 32, 128),\n",
    "        \"n_steps\": trial.suggest_int(\"n_steps\", 3, 8),\n",
    "        \"gamma\": trial.suggest_float(\"gamma\", 1.0, 2.0),\n",
    "        \"lambda_sparse\": trial.suggest_float(\"lambda_sparse\", 1e-5, 1e-3, log=True),\n",
    "        \"momentum\": trial.suggest_float(\"momentum\", 0.01, 0.4),\n",
    "        \"optimizer_params\": {\"lr\": trial.suggest_float(\"lr\", 1e-3, 1e-1, log=True)},\n",
    "        \"n_independent\": trial.suggest_int(\"n_independent\", 1, 3),\n",
    "        \"n_shared\": trial.suggest_int(\"n_shared\", 1, 3)\n",
    "    }\n",
    "\n",
    "    tabnet = TabNetClassifier(\n",
    "        **params,\n",
    "        optimizer_fn=torch.optim.Adam,\n",
    "        scheduler_params={\"step_size\": 10, \"gamma\": 0.9},\n",
    "        scheduler_fn=torch.optim.lr_scheduler.StepLR,\n",
    "        verbose=0,\n",
    "        seed=42\n",
    "    )\n",
    "\n",
    "    cv = StratifiedKFold(n_splits=5, shuffle=True, random_state=42)\n",
    "    aucs = []\n",
    "\n",
    "    for train_idx, val_idx in cv.split(X_train, y_train):\n",
    "        X_t, X_v = X_train[train_idx], X_train[val_idx]\n",
    "        y_t, y_v = y_train[train_idx], y_train[val_idx]\n",
    "\n",
    "        tabnet.fit(\n",
    "            X_t, y_t,\n",
    "            eval_set=[(X_v, y_v)],\n",
    "            eval_metric=[\"auc\"],\n",
    "            max_epochs=300,\n",
    "            patience=30,\n",
    "            batch_size=256,\n",
    "            virtual_batch_size=128,\n",
    "            num_workers=0,\n",
    "            drop_last=False\n",
    "        )\n",
    "\n",
    "        y_pred_proba = tabnet.predict_proba(X_v)[:, 1]\n",
    "        auc = roc_auc_score(y_v, y_pred_proba)\n",
    "        aucs.append(auc)\n",
    "\n",
    "    return np.mean(aucs)"
   ]
  },
  {
   "cell_type": "code",
   "execution_count": 4,
   "id": "6e5979b1",
   "metadata": {
    "scrolled": true
   },
   "outputs": [
    {
     "name": "stderr",
     "output_type": "stream",
     "text": [
      "[I 2025-05-10 16:14:51,332] A new study created in memory with name: no-name-ac1be953-aaec-4823-8c6c-ae85517d6946\n"
     ]
    },
    {
     "name": "stdout",
     "output_type": "stream",
     "text": [
      "\n",
      "Early stopping occurred at epoch 44 with best_epoch = 14 and best_val_0_auc = 0.86641\n"
     ]
    },
    {
     "name": "stderr",
     "output_type": "stream",
     "text": [
      "/Users/savalideshmukh/anaconda3/lib/python3.11/site-packages/pytorch_tabnet/callbacks.py:172: UserWarning: Best weights from best epoch are automatically used!\n",
      "  warnings.warn(wrn_msg)\n"
     ]
    },
    {
     "name": "stdout",
     "output_type": "stream",
     "text": [
      "\n",
      "Early stopping occurred at epoch 35 with best_epoch = 5 and best_val_0_auc = 0.83959\n"
     ]
    },
    {
     "name": "stderr",
     "output_type": "stream",
     "text": [
      "/Users/savalideshmukh/anaconda3/lib/python3.11/site-packages/pytorch_tabnet/callbacks.py:172: UserWarning: Best weights from best epoch are automatically used!\n",
      "  warnings.warn(wrn_msg)\n"
     ]
    },
    {
     "name": "stdout",
     "output_type": "stream",
     "text": [
      "\n",
      "Early stopping occurred at epoch 46 with best_epoch = 16 and best_val_0_auc = 0.857\n"
     ]
    },
    {
     "name": "stderr",
     "output_type": "stream",
     "text": [
      "/Users/savalideshmukh/anaconda3/lib/python3.11/site-packages/pytorch_tabnet/callbacks.py:172: UserWarning: Best weights from best epoch are automatically used!\n",
      "  warnings.warn(wrn_msg)\n"
     ]
    },
    {
     "name": "stdout",
     "output_type": "stream",
     "text": [
      "\n",
      "Early stopping occurred at epoch 42 with best_epoch = 12 and best_val_0_auc = 0.83427\n"
     ]
    },
    {
     "name": "stderr",
     "output_type": "stream",
     "text": [
      "/Users/savalideshmukh/anaconda3/lib/python3.11/site-packages/pytorch_tabnet/callbacks.py:172: UserWarning: Best weights from best epoch are automatically used!\n",
      "  warnings.warn(wrn_msg)\n",
      "/Users/savalideshmukh/anaconda3/lib/python3.11/site-packages/pytorch_tabnet/callbacks.py:172: UserWarning: Best weights from best epoch are automatically used!\n",
      "  warnings.warn(wrn_msg)\n",
      "[I 2025-05-10 16:15:32,001] Trial 0 finished with value: 0.856107387543702 and parameters: {'n_d': 87, 'n_a': 123, 'n_steps': 5, 'gamma': 1.5767870313792685, 'lambda_sparse': 0.0005255665069821284, 'momentum': 0.2176372969707478, 'lr': 0.0017042609508685469, 'n_independent': 1, 'n_shared': 3}. Best is trial 0 with value: 0.856107387543702.\n"
     ]
    },
    {
     "name": "stdout",
     "output_type": "stream",
     "text": [
      "\n",
      "Early stopping occurred at epoch 53 with best_epoch = 23 and best_val_0_auc = 0.88328\n",
      "\n",
      "Early stopping occurred at epoch 48 with best_epoch = 18 and best_val_0_auc = 0.85421\n"
     ]
    },
    {
     "name": "stderr",
     "output_type": "stream",
     "text": [
      "/Users/savalideshmukh/anaconda3/lib/python3.11/site-packages/pytorch_tabnet/callbacks.py:172: UserWarning: Best weights from best epoch are automatically used!\n",
      "  warnings.warn(wrn_msg)\n"
     ]
    },
    {
     "name": "stdout",
     "output_type": "stream",
     "text": [
      "\n",
      "Early stopping occurred at epoch 61 with best_epoch = 31 and best_val_0_auc = 0.82833\n"
     ]
    },
    {
     "name": "stderr",
     "output_type": "stream",
     "text": [
      "/Users/savalideshmukh/anaconda3/lib/python3.11/site-packages/pytorch_tabnet/callbacks.py:172: UserWarning: Best weights from best epoch are automatically used!\n",
      "  warnings.warn(wrn_msg)\n"
     ]
    },
    {
     "name": "stdout",
     "output_type": "stream",
     "text": [
      "\n",
      "Early stopping occurred at epoch 47 with best_epoch = 17 and best_val_0_auc = 0.88085\n"
     ]
    },
    {
     "name": "stderr",
     "output_type": "stream",
     "text": [
      "/Users/savalideshmukh/anaconda3/lib/python3.11/site-packages/pytorch_tabnet/callbacks.py:172: UserWarning: Best weights from best epoch are automatically used!\n",
      "  warnings.warn(wrn_msg)\n"
     ]
    },
    {
     "name": "stdout",
     "output_type": "stream",
     "text": [
      "\n",
      "Early stopping occurred at epoch 41 with best_epoch = 11 and best_val_0_auc = 0.84138\n"
     ]
    },
    {
     "name": "stderr",
     "output_type": "stream",
     "text": [
      "/Users/savalideshmukh/anaconda3/lib/python3.11/site-packages/pytorch_tabnet/callbacks.py:172: UserWarning: Best weights from best epoch are automatically used!\n",
      "  warnings.warn(wrn_msg)\n",
      "/Users/savalideshmukh/anaconda3/lib/python3.11/site-packages/pytorch_tabnet/callbacks.py:172: UserWarning: Best weights from best epoch are automatically used!\n",
      "  warnings.warn(wrn_msg)\n",
      "[I 2025-05-10 16:16:10,073] Trial 1 finished with value: 0.8584689575204478 and parameters: {'n_d': 47, 'n_a': 68, 'n_steps': 6, 'gamma': 1.853969178043891, 'lambda_sparse': 1.8014991229612416e-05, 'momentum': 0.04257499526361218, 'lr': 0.002489109755067002, 'n_independent': 2, 'n_shared': 1}. Best is trial 1 with value: 0.8584689575204478.\n"
     ]
    },
    {
     "name": "stdout",
     "output_type": "stream",
     "text": [
      "\n",
      "Early stopping occurred at epoch 67 with best_epoch = 37 and best_val_0_auc = 0.88758\n",
      "\n",
      "Early stopping occurred at epoch 45 with best_epoch = 15 and best_val_0_auc = 0.8677\n"
     ]
    },
    {
     "name": "stderr",
     "output_type": "stream",
     "text": [
      "/Users/savalideshmukh/anaconda3/lib/python3.11/site-packages/pytorch_tabnet/callbacks.py:172: UserWarning: Best weights from best epoch are automatically used!\n",
      "  warnings.warn(wrn_msg)\n"
     ]
    },
    {
     "name": "stdout",
     "output_type": "stream",
     "text": [
      "\n",
      "Early stopping occurred at epoch 69 with best_epoch = 39 and best_val_0_auc = 0.86285\n"
     ]
    },
    {
     "name": "stderr",
     "output_type": "stream",
     "text": [
      "/Users/savalideshmukh/anaconda3/lib/python3.11/site-packages/pytorch_tabnet/callbacks.py:172: UserWarning: Best weights from best epoch are automatically used!\n",
      "  warnings.warn(wrn_msg)\n"
     ]
    },
    {
     "name": "stdout",
     "output_type": "stream",
     "text": [
      "\n",
      "Early stopping occurred at epoch 95 with best_epoch = 65 and best_val_0_auc = 0.86756\n"
     ]
    },
    {
     "name": "stderr",
     "output_type": "stream",
     "text": [
      "/Users/savalideshmukh/anaconda3/lib/python3.11/site-packages/pytorch_tabnet/callbacks.py:172: UserWarning: Best weights from best epoch are automatically used!\n",
      "  warnings.warn(wrn_msg)\n"
     ]
    },
    {
     "name": "stdout",
     "output_type": "stream",
     "text": [
      "\n",
      "Early stopping occurred at epoch 41 with best_epoch = 11 and best_val_0_auc = 0.84437\n"
     ]
    },
    {
     "name": "stderr",
     "output_type": "stream",
     "text": [
      "/Users/savalideshmukh/anaconda3/lib/python3.11/site-packages/pytorch_tabnet/callbacks.py:172: UserWarning: Best weights from best epoch are automatically used!\n",
      "  warnings.warn(wrn_msg)\n",
      "/Users/savalideshmukh/anaconda3/lib/python3.11/site-packages/pytorch_tabnet/callbacks.py:172: UserWarning: Best weights from best epoch are automatically used!\n",
      "  warnings.warn(wrn_msg)\n",
      "[I 2025-05-10 16:17:13,413] Trial 2 finished with value: 0.8663874798292142 and parameters: {'n_d': 111, 'n_a': 69, 'n_steps': 7, 'gamma': 1.0685260531930036, 'lambda_sparse': 0.00022039102082621362, 'momentum': 0.323457674254146, 'lr': 0.0013403782780216646, 'n_independent': 2, 'n_shared': 2}. Best is trial 2 with value: 0.8663874798292142.\n"
     ]
    },
    {
     "name": "stdout",
     "output_type": "stream",
     "text": [
      "\n",
      "Early stopping occurred at epoch 35 with best_epoch = 5 and best_val_0_auc = 0.88945\n",
      "\n",
      "Early stopping occurred at epoch 110 with best_epoch = 80 and best_val_0_auc = 0.83352\n"
     ]
    },
    {
     "name": "stderr",
     "output_type": "stream",
     "text": [
      "/Users/savalideshmukh/anaconda3/lib/python3.11/site-packages/pytorch_tabnet/callbacks.py:172: UserWarning: Best weights from best epoch are automatically used!\n",
      "  warnings.warn(wrn_msg)\n"
     ]
    },
    {
     "name": "stdout",
     "output_type": "stream",
     "text": [
      "\n",
      "Early stopping occurred at epoch 104 with best_epoch = 74 and best_val_0_auc = 0.83659\n"
     ]
    },
    {
     "name": "stderr",
     "output_type": "stream",
     "text": [
      "/Users/savalideshmukh/anaconda3/lib/python3.11/site-packages/pytorch_tabnet/callbacks.py:172: UserWarning: Best weights from best epoch are automatically used!\n",
      "  warnings.warn(wrn_msg)\n"
     ]
    },
    {
     "name": "stdout",
     "output_type": "stream",
     "text": [
      "\n",
      "Early stopping occurred at epoch 56 with best_epoch = 26 and best_val_0_auc = 0.8425\n"
     ]
    },
    {
     "name": "stderr",
     "output_type": "stream",
     "text": [
      "/Users/savalideshmukh/anaconda3/lib/python3.11/site-packages/pytorch_tabnet/callbacks.py:172: UserWarning: Best weights from best epoch are automatically used!\n",
      "  warnings.warn(wrn_msg)\n"
     ]
    },
    {
     "name": "stdout",
     "output_type": "stream",
     "text": [
      "\n",
      "Early stopping occurred at epoch 71 with best_epoch = 41 and best_val_0_auc = 0.84792\n"
     ]
    },
    {
     "name": "stderr",
     "output_type": "stream",
     "text": [
      "/Users/savalideshmukh/anaconda3/lib/python3.11/site-packages/pytorch_tabnet/callbacks.py:172: UserWarning: Best weights from best epoch are automatically used!\n",
      "  warnings.warn(wrn_msg)\n",
      "/Users/savalideshmukh/anaconda3/lib/python3.11/site-packages/pytorch_tabnet/callbacks.py:172: UserWarning: Best weights from best epoch are automatically used!\n",
      "  warnings.warn(wrn_msg)\n",
      "[I 2025-05-10 16:18:30,788] Trial 3 finished with value: 0.8467404852499703 and parameters: {'n_d': 55, 'n_a': 45, 'n_steps': 7, 'gamma': 1.100549795570704, 'lambda_sparse': 4.3781623831418705e-05, 'momentum': 0.13870104015126258, 'lr': 0.0012779608771412746, 'n_independent': 1, 'n_shared': 3}. Best is trial 2 with value: 0.8663874798292142.\n"
     ]
    },
    {
     "name": "stdout",
     "output_type": "stream",
     "text": [
      "\n",
      "Early stopping occurred at epoch 49 with best_epoch = 19 and best_val_0_auc = 0.87318\n",
      "\n",
      "Early stopping occurred at epoch 44 with best_epoch = 14 and best_val_0_auc = 0.86068\n"
     ]
    },
    {
     "name": "stderr",
     "output_type": "stream",
     "text": [
      "/Users/savalideshmukh/anaconda3/lib/python3.11/site-packages/pytorch_tabnet/callbacks.py:172: UserWarning: Best weights from best epoch are automatically used!\n",
      "  warnings.warn(wrn_msg)\n"
     ]
    },
    {
     "name": "stdout",
     "output_type": "stream",
     "text": [
      "\n",
      "Early stopping occurred at epoch 41 with best_epoch = 11 and best_val_0_auc = 0.84784\n"
     ]
    },
    {
     "name": "stderr",
     "output_type": "stream",
     "text": [
      "/Users/savalideshmukh/anaconda3/lib/python3.11/site-packages/pytorch_tabnet/callbacks.py:172: UserWarning: Best weights from best epoch are automatically used!\n",
      "  warnings.warn(wrn_msg)\n"
     ]
    },
    {
     "name": "stdout",
     "output_type": "stream",
     "text": [
      "\n",
      "Early stopping occurred at epoch 66 with best_epoch = 36 and best_val_0_auc = 0.89151\n"
     ]
    },
    {
     "name": "stderr",
     "output_type": "stream",
     "text": [
      "/Users/savalideshmukh/anaconda3/lib/python3.11/site-packages/pytorch_tabnet/callbacks.py:172: UserWarning: Best weights from best epoch are automatically used!\n",
      "  warnings.warn(wrn_msg)\n"
     ]
    },
    {
     "name": "stdout",
     "output_type": "stream",
     "text": [
      "\n",
      "Early stopping occurred at epoch 42 with best_epoch = 12 and best_val_0_auc = 0.87579\n"
     ]
    },
    {
     "name": "stderr",
     "output_type": "stream",
     "text": [
      "/Users/savalideshmukh/anaconda3/lib/python3.11/site-packages/pytorch_tabnet/callbacks.py:172: UserWarning: Best weights from best epoch are automatically used!\n",
      "  warnings.warn(wrn_msg)\n",
      "/Users/savalideshmukh/anaconda3/lib/python3.11/site-packages/pytorch_tabnet/callbacks.py:172: UserWarning: Best weights from best epoch are automatically used!\n",
      "  warnings.warn(wrn_msg)\n",
      "[I 2025-05-10 16:19:21,746] Trial 4 finished with value: 0.8725686719182653 and parameters: {'n_d': 69, 'n_a': 66, 'n_steps': 7, 'gamma': 1.0746048697397625, 'lambda_sparse': 0.0003725105711280564, 'momentum': 0.26725877206830717, 'lr': 0.03340656438035686, 'n_independent': 1, 'n_shared': 3}. Best is trial 4 with value: 0.8725686719182653.\n"
     ]
    },
    {
     "name": "stdout",
     "output_type": "stream",
     "text": [
      "\n",
      "Early stopping occurred at epoch 50 with best_epoch = 20 and best_val_0_auc = 0.88702\n",
      "\n",
      "Early stopping occurred at epoch 38 with best_epoch = 8 and best_val_0_auc = 0.84516\n"
     ]
    },
    {
     "name": "stderr",
     "output_type": "stream",
     "text": [
      "/Users/savalideshmukh/anaconda3/lib/python3.11/site-packages/pytorch_tabnet/callbacks.py:172: UserWarning: Best weights from best epoch are automatically used!\n",
      "  warnings.warn(wrn_msg)\n"
     ]
    },
    {
     "name": "stdout",
     "output_type": "stream",
     "text": [
      "\n",
      "Early stopping occurred at epoch 38 with best_epoch = 8 and best_val_0_auc = 0.82233\n"
     ]
    },
    {
     "name": "stderr",
     "output_type": "stream",
     "text": [
      "/Users/savalideshmukh/anaconda3/lib/python3.11/site-packages/pytorch_tabnet/callbacks.py:172: UserWarning: Best weights from best epoch are automatically used!\n",
      "  warnings.warn(wrn_msg)\n"
     ]
    },
    {
     "name": "stdout",
     "output_type": "stream",
     "text": [
      "\n",
      "Early stopping occurred at epoch 44 with best_epoch = 14 and best_val_0_auc = 0.86326\n"
     ]
    },
    {
     "name": "stderr",
     "output_type": "stream",
     "text": [
      "/Users/savalideshmukh/anaconda3/lib/python3.11/site-packages/pytorch_tabnet/callbacks.py:172: UserWarning: Best weights from best epoch are automatically used!\n",
      "  warnings.warn(wrn_msg)\n"
     ]
    },
    {
     "name": "stdout",
     "output_type": "stream",
     "text": [
      "\n",
      "Early stopping occurred at epoch 38 with best_epoch = 8 and best_val_0_auc = 0.84792\n"
     ]
    },
    {
     "name": "stderr",
     "output_type": "stream",
     "text": [
      "/Users/savalideshmukh/anaconda3/lib/python3.11/site-packages/pytorch_tabnet/callbacks.py:172: UserWarning: Best weights from best epoch are automatically used!\n",
      "  warnings.warn(wrn_msg)\n",
      "/Users/savalideshmukh/anaconda3/lib/python3.11/site-packages/pytorch_tabnet/callbacks.py:172: UserWarning: Best weights from best epoch are automatically used!\n",
      "  warnings.warn(wrn_msg)\n",
      "[I 2025-05-10 16:19:56,981] Trial 5 finished with value: 0.853324980750455 and parameters: {'n_d': 52, 'n_a': 59, 'n_steps': 6, 'gamma': 1.4354907883930037, 'lambda_sparse': 1.8035817229021318e-05, 'momentum': 0.19972372419653006, 'lr': 0.003487119317081118, 'n_independent': 1, 'n_shared': 3}. Best is trial 4 with value: 0.8725686719182653.\n"
     ]
    },
    {
     "name": "stdout",
     "output_type": "stream",
     "text": [
      "\n",
      "Early stopping occurred at epoch 45 with best_epoch = 15 and best_val_0_auc = 0.88795\n",
      "\n",
      "Early stopping occurred at epoch 36 with best_epoch = 6 and best_val_0_auc = 0.84313\n"
     ]
    },
    {
     "name": "stderr",
     "output_type": "stream",
     "text": [
      "/Users/savalideshmukh/anaconda3/lib/python3.11/site-packages/pytorch_tabnet/callbacks.py:172: UserWarning: Best weights from best epoch are automatically used!\n",
      "  warnings.warn(wrn_msg)\n"
     ]
    },
    {
     "name": "stdout",
     "output_type": "stream",
     "text": [
      "\n",
      "Early stopping occurred at epoch 39 with best_epoch = 9 and best_val_0_auc = 0.83565\n"
     ]
    },
    {
     "name": "stderr",
     "output_type": "stream",
     "text": [
      "/Users/savalideshmukh/anaconda3/lib/python3.11/site-packages/pytorch_tabnet/callbacks.py:172: UserWarning: Best weights from best epoch are automatically used!\n",
      "  warnings.warn(wrn_msg)\n"
     ]
    },
    {
     "name": "stdout",
     "output_type": "stream",
     "text": [
      "\n",
      "Early stopping occurred at epoch 40 with best_epoch = 10 and best_val_0_auc = 0.87131\n"
     ]
    },
    {
     "name": "stderr",
     "output_type": "stream",
     "text": [
      "/Users/savalideshmukh/anaconda3/lib/python3.11/site-packages/pytorch_tabnet/callbacks.py:172: UserWarning: Best weights from best epoch are automatically used!\n",
      "  warnings.warn(wrn_msg)\n"
     ]
    },
    {
     "name": "stdout",
     "output_type": "stream",
     "text": [
      "\n",
      "Early stopping occurred at epoch 50 with best_epoch = 20 and best_val_0_auc = 0.85802\n"
     ]
    },
    {
     "name": "stderr",
     "output_type": "stream",
     "text": [
      "/Users/savalideshmukh/anaconda3/lib/python3.11/site-packages/pytorch_tabnet/callbacks.py:172: UserWarning: Best weights from best epoch are automatically used!\n",
      "  warnings.warn(wrn_msg)\n",
      "/Users/savalideshmukh/anaconda3/lib/python3.11/site-packages/pytorch_tabnet/callbacks.py:172: UserWarning: Best weights from best epoch are automatically used!\n",
      "  warnings.warn(wrn_msg)\n",
      "[I 2025-05-10 16:20:50,324] Trial 6 finished with value: 0.8504199032925319 and parameters: {'n_d': 108, 'n_a': 98, 'n_steps': 8, 'gamma': 1.9462736087370394, 'lambda_sparse': 0.00014318771698881307, 'momentum': 0.1596650623656119, 'lr': 0.0020678128166291858, 'n_independent': 1, 'n_shared': 3}. Best is trial 4 with value: 0.8725686719182653.\n"
     ]
    },
    {
     "name": "stdout",
     "output_type": "stream",
     "text": [
      "\n",
      "Early stopping occurred at epoch 33 with best_epoch = 3 and best_val_0_auc = 0.844\n",
      "\n",
      "Early stopping occurred at epoch 118 with best_epoch = 88 and best_val_0_auc = 0.87639\n"
     ]
    },
    {
     "name": "stderr",
     "output_type": "stream",
     "text": [
      "/Users/savalideshmukh/anaconda3/lib/python3.11/site-packages/pytorch_tabnet/callbacks.py:172: UserWarning: Best weights from best epoch are automatically used!\n",
      "  warnings.warn(wrn_msg)\n"
     ]
    },
    {
     "name": "stdout",
     "output_type": "stream",
     "text": [
      "\n",
      "Early stopping occurred at epoch 57 with best_epoch = 27 and best_val_0_auc = 0.86829\n"
     ]
    },
    {
     "name": "stderr",
     "output_type": "stream",
     "text": [
      "/Users/savalideshmukh/anaconda3/lib/python3.11/site-packages/pytorch_tabnet/callbacks.py:172: UserWarning: Best weights from best epoch are automatically used!\n",
      "  warnings.warn(wrn_msg)\n"
     ]
    },
    {
     "name": "stdout",
     "output_type": "stream",
     "text": [
      "\n",
      "Early stopping occurred at epoch 81 with best_epoch = 51 and best_val_0_auc = 0.87767\n"
     ]
    },
    {
     "name": "stderr",
     "output_type": "stream",
     "text": [
      "/Users/savalideshmukh/anaconda3/lib/python3.11/site-packages/pytorch_tabnet/callbacks.py:172: UserWarning: Best weights from best epoch are automatically used!\n",
      "  warnings.warn(wrn_msg)\n"
     ]
    },
    {
     "name": "stdout",
     "output_type": "stream",
     "text": [
      "\n",
      "Early stopping occurred at epoch 77 with best_epoch = 47 and best_val_0_auc = 0.86831\n"
     ]
    },
    {
     "name": "stderr",
     "output_type": "stream",
     "text": [
      "/Users/savalideshmukh/anaconda3/lib/python3.11/site-packages/pytorch_tabnet/callbacks.py:172: UserWarning: Best weights from best epoch are automatically used!\n",
      "  warnings.warn(wrn_msg)\n",
      "/Users/savalideshmukh/anaconda3/lib/python3.11/site-packages/pytorch_tabnet/callbacks.py:172: UserWarning: Best weights from best epoch are automatically used!\n",
      "  warnings.warn(wrn_msg)\n",
      "[I 2025-05-10 16:21:52,597] Trial 7 finished with value: 0.8760213699780095 and parameters: {'n_d': 64, 'n_a': 82, 'n_steps': 5, 'gamma': 1.517715377567389, 'lambda_sparse': 0.00014535864947518015, 'momentum': 0.10991238063257999, 'lr': 0.018027608314333126, 'n_independent': 1, 'n_shared': 3}. Best is trial 7 with value: 0.8760213699780095.\n"
     ]
    },
    {
     "name": "stdout",
     "output_type": "stream",
     "text": [
      "\n",
      "Early stopping occurred at epoch 64 with best_epoch = 34 and best_val_0_auc = 0.88945\n",
      "\n",
      "Early stopping occurred at epoch 34 with best_epoch = 4 and best_val_0_auc = 0.852\n"
     ]
    },
    {
     "name": "stderr",
     "output_type": "stream",
     "text": [
      "/Users/savalideshmukh/anaconda3/lib/python3.11/site-packages/pytorch_tabnet/callbacks.py:172: UserWarning: Best weights from best epoch are automatically used!\n",
      "  warnings.warn(wrn_msg)\n"
     ]
    },
    {
     "name": "stdout",
     "output_type": "stream",
     "text": [
      "\n",
      "Early stopping occurred at epoch 50 with best_epoch = 20 and best_val_0_auc = 0.84203\n"
     ]
    },
    {
     "name": "stderr",
     "output_type": "stream",
     "text": [
      "/Users/savalideshmukh/anaconda3/lib/python3.11/site-packages/pytorch_tabnet/callbacks.py:172: UserWarning: Best weights from best epoch are automatically used!\n",
      "  warnings.warn(wrn_msg)\n"
     ]
    },
    {
     "name": "stdout",
     "output_type": "stream",
     "text": [
      "\n",
      "Early stopping occurred at epoch 45 with best_epoch = 15 and best_val_0_auc = 0.88683\n"
     ]
    },
    {
     "name": "stderr",
     "output_type": "stream",
     "text": [
      "/Users/savalideshmukh/anaconda3/lib/python3.11/site-packages/pytorch_tabnet/callbacks.py:172: UserWarning: Best weights from best epoch are automatically used!\n",
      "  warnings.warn(wrn_msg)\n"
     ]
    },
    {
     "name": "stdout",
     "output_type": "stream",
     "text": [
      "\n",
      "Early stopping occurred at epoch 48 with best_epoch = 18 and best_val_0_auc = 0.85503\n"
     ]
    },
    {
     "name": "stderr",
     "output_type": "stream",
     "text": [
      "/Users/savalideshmukh/anaconda3/lib/python3.11/site-packages/pytorch_tabnet/callbacks.py:172: UserWarning: Best weights from best epoch are automatically used!\n",
      "  warnings.warn(wrn_msg)\n",
      "/Users/savalideshmukh/anaconda3/lib/python3.11/site-packages/pytorch_tabnet/callbacks.py:172: UserWarning: Best weights from best epoch are automatically used!\n",
      "  warnings.warn(wrn_msg)\n",
      "[I 2025-05-10 16:22:47,809] Trial 8 finished with value: 0.8603531879141635 and parameters: {'n_d': 106, 'n_a': 100, 'n_steps': 7, 'gamma': 1.1052980565816928, 'lambda_sparse': 0.00017161112900392387, 'momentum': 0.28742742407678185, 'lr': 0.01210020938804415, 'n_independent': 3, 'n_shared': 1}. Best is trial 7 with value: 0.8760213699780095.\n"
     ]
    },
    {
     "name": "stdout",
     "output_type": "stream",
     "text": [
      "\n",
      "Early stopping occurred at epoch 53 with best_epoch = 23 and best_val_0_auc = 0.86588\n",
      "\n",
      "Early stopping occurred at epoch 53 with best_epoch = 23 and best_val_0_auc = 0.87066\n"
     ]
    },
    {
     "name": "stderr",
     "output_type": "stream",
     "text": [
      "/Users/savalideshmukh/anaconda3/lib/python3.11/site-packages/pytorch_tabnet/callbacks.py:172: UserWarning: Best weights from best epoch are automatically used!\n",
      "  warnings.warn(wrn_msg)\n"
     ]
    },
    {
     "name": "stdout",
     "output_type": "stream",
     "text": [
      "\n",
      "Early stopping occurred at epoch 58 with best_epoch = 28 and best_val_0_auc = 0.83602\n"
     ]
    },
    {
     "name": "stderr",
     "output_type": "stream",
     "text": [
      "/Users/savalideshmukh/anaconda3/lib/python3.11/site-packages/pytorch_tabnet/callbacks.py:172: UserWarning: Best weights from best epoch are automatically used!\n",
      "  warnings.warn(wrn_msg)\n"
     ]
    },
    {
     "name": "stdout",
     "output_type": "stream",
     "text": [
      "\n",
      "Early stopping occurred at epoch 51 with best_epoch = 21 and best_val_0_auc = 0.88234\n"
     ]
    },
    {
     "name": "stderr",
     "output_type": "stream",
     "text": [
      "/Users/savalideshmukh/anaconda3/lib/python3.11/site-packages/pytorch_tabnet/callbacks.py:172: UserWarning: Best weights from best epoch are automatically used!\n",
      "  warnings.warn(wrn_msg)\n"
     ]
    },
    {
     "name": "stdout",
     "output_type": "stream",
     "text": [
      "\n",
      "Early stopping occurred at epoch 35 with best_epoch = 5 and best_val_0_auc = 0.86345\n"
     ]
    },
    {
     "name": "stderr",
     "output_type": "stream",
     "text": [
      "/Users/savalideshmukh/anaconda3/lib/python3.11/site-packages/pytorch_tabnet/callbacks.py:172: UserWarning: Best weights from best epoch are automatically used!\n",
      "  warnings.warn(wrn_msg)\n",
      "/Users/savalideshmukh/anaconda3/lib/python3.11/site-packages/pytorch_tabnet/callbacks.py:172: UserWarning: Best weights from best epoch are automatically used!\n",
      "  warnings.warn(wrn_msg)\n",
      "[I 2025-05-10 16:23:29,904] Trial 9 finished with value: 0.8659900091878411 and parameters: {'n_d': 66, 'n_a': 128, 'n_steps': 3, 'gamma': 1.4060710570220851, 'lambda_sparse': 0.00014391913317267195, 'momentum': 0.36629444888595725, 'lr': 0.009840943638340982, 'n_independent': 3, 'n_shared': 3}. Best is trial 7 with value: 0.8760213699780095.\n"
     ]
    },
    {
     "name": "stdout",
     "output_type": "stream",
     "text": [
      "\n",
      "Early stopping occurred at epoch 62 with best_epoch = 32 and best_val_0_auc = 0.87748\n",
      "\n",
      "Early stopping occurred at epoch 98 with best_epoch = 68 and best_val_0_auc = 0.84553\n"
     ]
    },
    {
     "name": "stderr",
     "output_type": "stream",
     "text": [
      "/Users/savalideshmukh/anaconda3/lib/python3.11/site-packages/pytorch_tabnet/callbacks.py:172: UserWarning: Best weights from best epoch are automatically used!\n",
      "  warnings.warn(wrn_msg)\n"
     ]
    },
    {
     "name": "stdout",
     "output_type": "stream",
     "text": [
      "\n",
      "Early stopping occurred at epoch 41 with best_epoch = 11 and best_val_0_auc = 0.85553\n"
     ]
    },
    {
     "name": "stderr",
     "output_type": "stream",
     "text": [
      "/Users/savalideshmukh/anaconda3/lib/python3.11/site-packages/pytorch_tabnet/callbacks.py:172: UserWarning: Best weights from best epoch are automatically used!\n",
      "  warnings.warn(wrn_msg)\n"
     ]
    },
    {
     "name": "stdout",
     "output_type": "stream",
     "text": [
      "\n",
      "Early stopping occurred at epoch 61 with best_epoch = 31 and best_val_0_auc = 0.88085\n"
     ]
    },
    {
     "name": "stderr",
     "output_type": "stream",
     "text": [
      "/Users/savalideshmukh/anaconda3/lib/python3.11/site-packages/pytorch_tabnet/callbacks.py:172: UserWarning: Best weights from best epoch are automatically used!\n",
      "  warnings.warn(wrn_msg)\n"
     ]
    },
    {
     "name": "stdout",
     "output_type": "stream",
     "text": [
      "\n",
      "Early stopping occurred at epoch 43 with best_epoch = 13 and best_val_0_auc = 0.83277\n"
     ]
    },
    {
     "name": "stderr",
     "output_type": "stream",
     "text": [
      "/Users/savalideshmukh/anaconda3/lib/python3.11/site-packages/pytorch_tabnet/callbacks.py:172: UserWarning: Best weights from best epoch are automatically used!\n",
      "  warnings.warn(wrn_msg)\n",
      "/Users/savalideshmukh/anaconda3/lib/python3.11/site-packages/pytorch_tabnet/callbacks.py:172: UserWarning: Best weights from best epoch are automatically used!\n",
      "  warnings.warn(wrn_msg)\n",
      "[I 2025-05-10 16:24:05,872] Trial 10 finished with value: 0.8585815068199892 and parameters: {'n_d': 35, 'n_a': 32, 'n_steps': 4, 'gamma': 1.6894535153307548, 'lambda_sparse': 0.000967230979114174, 'momentum': 0.018839398682213918, 'lr': 0.08861726506767194, 'n_independent': 2, 'n_shared': 2}. Best is trial 7 with value: 0.8760213699780095.\n"
     ]
    },
    {
     "name": "stdout",
     "output_type": "stream",
     "text": [
      "\n",
      "Early stopping occurred at epoch 80 with best_epoch = 50 and best_val_0_auc = 0.87823\n",
      "\n",
      "Early stopping occurred at epoch 50 with best_epoch = 20 and best_val_0_auc = 0.85717\n"
     ]
    },
    {
     "name": "stderr",
     "output_type": "stream",
     "text": [
      "/Users/savalideshmukh/anaconda3/lib/python3.11/site-packages/pytorch_tabnet/callbacks.py:172: UserWarning: Best weights from best epoch are automatically used!\n",
      "  warnings.warn(wrn_msg)\n"
     ]
    },
    {
     "name": "stdout",
     "output_type": "stream",
     "text": [
      "\n",
      "Early stopping occurred at epoch 55 with best_epoch = 25 and best_val_0_auc = 0.83865\n"
     ]
    },
    {
     "name": "stderr",
     "output_type": "stream",
     "text": [
      "/Users/savalideshmukh/anaconda3/lib/python3.11/site-packages/pytorch_tabnet/callbacks.py:172: UserWarning: Best weights from best epoch are automatically used!\n",
      "  warnings.warn(wrn_msg)\n"
     ]
    },
    {
     "name": "stdout",
     "output_type": "stream",
     "text": [
      "\n",
      "Early stopping occurred at epoch 58 with best_epoch = 28 and best_val_0_auc = 0.88066\n"
     ]
    },
    {
     "name": "stderr",
     "output_type": "stream",
     "text": [
      "/Users/savalideshmukh/anaconda3/lib/python3.11/site-packages/pytorch_tabnet/callbacks.py:172: UserWarning: Best weights from best epoch are automatically used!\n",
      "  warnings.warn(wrn_msg)\n"
     ]
    },
    {
     "name": "stdout",
     "output_type": "stream",
     "text": [
      "\n",
      "Early stopping occurred at epoch 54 with best_epoch = 24 and best_val_0_auc = 0.85784\n"
     ]
    },
    {
     "name": "stderr",
     "output_type": "stream",
     "text": [
      "/Users/savalideshmukh/anaconda3/lib/python3.11/site-packages/pytorch_tabnet/callbacks.py:172: UserWarning: Best weights from best epoch are automatically used!\n",
      "  warnings.warn(wrn_msg)\n",
      "/Users/savalideshmukh/anaconda3/lib/python3.11/site-packages/pytorch_tabnet/callbacks.py:172: UserWarning: Best weights from best epoch are automatically used!\n",
      "  warnings.warn(wrn_msg)\n",
      "[I 2025-05-10 16:24:39,590] Trial 11 finished with value: 0.8656881861488908 and parameters: {'n_d': 78, 'n_a': 88, 'n_steps': 5, 'gamma': 1.309231001843934, 'lambda_sparse': 0.0003833272783207919, 'momentum': 0.10508913957792529, 'lr': 0.03987961415934967, 'n_independent': 1, 'n_shared': 2}. Best is trial 7 with value: 0.8760213699780095.\n"
     ]
    },
    {
     "name": "stdout",
     "output_type": "stream",
     "text": [
      "\n",
      "Early stopping occurred at epoch 51 with best_epoch = 21 and best_val_0_auc = 0.89413\n",
      "\n",
      "Early stopping occurred at epoch 39 with best_epoch = 9 and best_val_0_auc = 0.85384\n"
     ]
    },
    {
     "name": "stderr",
     "output_type": "stream",
     "text": [
      "/Users/savalideshmukh/anaconda3/lib/python3.11/site-packages/pytorch_tabnet/callbacks.py:172: UserWarning: Best weights from best epoch are automatically used!\n",
      "  warnings.warn(wrn_msg)\n"
     ]
    },
    {
     "name": "stdout",
     "output_type": "stream",
     "text": [
      "\n",
      "Early stopping occurred at epoch 94 with best_epoch = 64 and best_val_0_auc = 0.84597\n"
     ]
    },
    {
     "name": "stderr",
     "output_type": "stream",
     "text": [
      "/Users/savalideshmukh/anaconda3/lib/python3.11/site-packages/pytorch_tabnet/callbacks.py:172: UserWarning: Best weights from best epoch are automatically used!\n",
      "  warnings.warn(wrn_msg)\n"
     ]
    },
    {
     "name": "stdout",
     "output_type": "stream",
     "text": [
      "\n",
      "Early stopping occurred at epoch 53 with best_epoch = 23 and best_val_0_auc = 0.88515\n"
     ]
    },
    {
     "name": "stderr",
     "output_type": "stream",
     "text": [
      "/Users/savalideshmukh/anaconda3/lib/python3.11/site-packages/pytorch_tabnet/callbacks.py:172: UserWarning: Best weights from best epoch are automatically used!\n",
      "  warnings.warn(wrn_msg)\n"
     ]
    },
    {
     "name": "stdout",
     "output_type": "stream",
     "text": [
      "\n",
      "Early stopping occurred at epoch 40 with best_epoch = 10 and best_val_0_auc = 0.86308\n"
     ]
    },
    {
     "name": "stderr",
     "output_type": "stream",
     "text": [
      "/Users/savalideshmukh/anaconda3/lib/python3.11/site-packages/pytorch_tabnet/callbacks.py:172: UserWarning: Best weights from best epoch are automatically used!\n",
      "  warnings.warn(wrn_msg)\n",
      "/Users/savalideshmukh/anaconda3/lib/python3.11/site-packages/pytorch_tabnet/callbacks.py:172: UserWarning: Best weights from best epoch are automatically used!\n",
      "  warnings.warn(wrn_msg)\n",
      "[I 2025-05-10 16:25:16,141] Trial 12 finished with value: 0.867122401837849 and parameters: {'n_d': 84, 'n_a': 77, 'n_steps': 4, 'gamma': 1.2593936364936364, 'lambda_sparse': 4.9582724819422907e-05, 'momentum': 0.24652467005754955, 'lr': 0.023329969428314654, 'n_independent': 1, 'n_shared': 3}. Best is trial 7 with value: 0.8760213699780095.\n"
     ]
    },
    {
     "name": "stdout",
     "output_type": "stream",
     "text": [
      "\n",
      "Early stopping occurred at epoch 47 with best_epoch = 17 and best_val_0_auc = 0.88758\n",
      "\n",
      "Early stopping occurred at epoch 115 with best_epoch = 85 and best_val_0_auc = 0.85957\n"
     ]
    },
    {
     "name": "stderr",
     "output_type": "stream",
     "text": [
      "/Users/savalideshmukh/anaconda3/lib/python3.11/site-packages/pytorch_tabnet/callbacks.py:172: UserWarning: Best weights from best epoch are automatically used!\n",
      "  warnings.warn(wrn_msg)\n"
     ]
    },
    {
     "name": "stdout",
     "output_type": "stream",
     "text": [
      "\n",
      "Early stopping occurred at epoch 48 with best_epoch = 18 and best_val_0_auc = 0.86023\n"
     ]
    },
    {
     "name": "stderr",
     "output_type": "stream",
     "text": [
      "/Users/savalideshmukh/anaconda3/lib/python3.11/site-packages/pytorch_tabnet/callbacks.py:172: UserWarning: Best weights from best epoch are automatically used!\n",
      "  warnings.warn(wrn_msg)\n"
     ]
    },
    {
     "name": "stdout",
     "output_type": "stream",
     "text": [
      "\n",
      "Early stopping occurred at epoch 82 with best_epoch = 52 and best_val_0_auc = 0.88384\n"
     ]
    },
    {
     "name": "stderr",
     "output_type": "stream",
     "text": [
      "/Users/savalideshmukh/anaconda3/lib/python3.11/site-packages/pytorch_tabnet/callbacks.py:172: UserWarning: Best weights from best epoch are automatically used!\n",
      "  warnings.warn(wrn_msg)\n"
     ]
    },
    {
     "name": "stdout",
     "output_type": "stream",
     "text": [
      "\n",
      "Early stopping occurred at epoch 86 with best_epoch = 56 and best_val_0_auc = 0.87935\n"
     ]
    },
    {
     "name": "stderr",
     "output_type": "stream",
     "text": [
      "/Users/savalideshmukh/anaconda3/lib/python3.11/site-packages/pytorch_tabnet/callbacks.py:172: UserWarning: Best weights from best epoch are automatically used!\n",
      "  warnings.warn(wrn_msg)\n",
      "/Users/savalideshmukh/anaconda3/lib/python3.11/site-packages/pytorch_tabnet/callbacks.py:172: UserWarning: Best weights from best epoch are automatically used!\n",
      "  warnings.warn(wrn_msg)\n",
      "[I 2025-05-10 16:26:50,436] Trial 13 finished with value: 0.8748609014191671 and parameters: {'n_d': 70, 'n_a': 55, 'n_steps': 8, 'gamma': 1.6147989112217216, 'lambda_sparse': 6.923636757383399e-05, 'momentum': 0.09079469652937557, 'lr': 0.036617083200598435, 'n_independent': 2, 'n_shared': 2}. Best is trial 7 with value: 0.8760213699780095.\n"
     ]
    },
    {
     "name": "stdout",
     "output_type": "stream",
     "text": [
      "\n",
      "Early stopping occurred at epoch 58 with best_epoch = 28 and best_val_0_auc = 0.89132\n",
      "\n",
      "Early stopping occurred at epoch 55 with best_epoch = 25 and best_val_0_auc = 0.85403\n"
     ]
    },
    {
     "name": "stderr",
     "output_type": "stream",
     "text": [
      "/Users/savalideshmukh/anaconda3/lib/python3.11/site-packages/pytorch_tabnet/callbacks.py:172: UserWarning: Best weights from best epoch are automatically used!\n",
      "  warnings.warn(wrn_msg)\n"
     ]
    },
    {
     "name": "stdout",
     "output_type": "stream",
     "text": [
      "\n",
      "Early stopping occurred at epoch 56 with best_epoch = 26 and best_val_0_auc = 0.82083\n"
     ]
    },
    {
     "name": "stderr",
     "output_type": "stream",
     "text": [
      "/Users/savalideshmukh/anaconda3/lib/python3.11/site-packages/pytorch_tabnet/callbacks.py:172: UserWarning: Best weights from best epoch are automatically used!\n",
      "  warnings.warn(wrn_msg)\n"
     ]
    },
    {
     "name": "stdout",
     "output_type": "stream",
     "text": [
      "\n",
      "Early stopping occurred at epoch 61 with best_epoch = 31 and best_val_0_auc = 0.86326\n"
     ]
    },
    {
     "name": "stderr",
     "output_type": "stream",
     "text": [
      "/Users/savalideshmukh/anaconda3/lib/python3.11/site-packages/pytorch_tabnet/callbacks.py:172: UserWarning: Best weights from best epoch are automatically used!\n",
      "  warnings.warn(wrn_msg)\n"
     ]
    },
    {
     "name": "stdout",
     "output_type": "stream",
     "text": [
      "\n",
      "Early stopping occurred at epoch 79 with best_epoch = 49 and best_val_0_auc = 0.85709\n"
     ]
    },
    {
     "name": "stderr",
     "output_type": "stream",
     "text": [
      "/Users/savalideshmukh/anaconda3/lib/python3.11/site-packages/pytorch_tabnet/callbacks.py:172: UserWarning: Best weights from best epoch are automatically used!\n",
      "  warnings.warn(wrn_msg)\n",
      "/Users/savalideshmukh/anaconda3/lib/python3.11/site-packages/pytorch_tabnet/callbacks.py:172: UserWarning: Best weights from best epoch are automatically used!\n",
      "  warnings.warn(wrn_msg)\n",
      "[I 2025-05-10 16:28:07,756] Trial 14 finished with value: 0.850533758121834 and parameters: {'n_d': 93, 'n_a': 42, 'n_steps': 8, 'gamma': 1.6714346338187522, 'lambda_sparse': 6.621222903806677e-05, 'momentum': 0.0796453689694403, 'lr': 0.009309288012045235, 'n_independent': 2, 'n_shared': 2}. Best is trial 7 with value: 0.8760213699780095.\n"
     ]
    },
    {
     "name": "stdout",
     "output_type": "stream",
     "text": [
      "\n",
      "Early stopping occurred at epoch 51 with best_epoch = 21 and best_val_0_auc = 0.85746\n",
      "\n",
      "Early stopping occurred at epoch 39 with best_epoch = 9 and best_val_0_auc = 0.86696\n"
     ]
    },
    {
     "name": "stderr",
     "output_type": "stream",
     "text": [
      "/Users/savalideshmukh/anaconda3/lib/python3.11/site-packages/pytorch_tabnet/callbacks.py:172: UserWarning: Best weights from best epoch are automatically used!\n",
      "  warnings.warn(wrn_msg)\n"
     ]
    },
    {
     "name": "stdout",
     "output_type": "stream",
     "text": [
      "\n",
      "Early stopping occurred at epoch 48 with best_epoch = 18 and best_val_0_auc = 0.82852\n"
     ]
    },
    {
     "name": "stderr",
     "output_type": "stream",
     "text": [
      "/Users/savalideshmukh/anaconda3/lib/python3.11/site-packages/pytorch_tabnet/callbacks.py:172: UserWarning: Best weights from best epoch are automatically used!\n",
      "  warnings.warn(wrn_msg)\n"
     ]
    },
    {
     "name": "stdout",
     "output_type": "stream",
     "text": [
      "\n",
      "Early stopping occurred at epoch 75 with best_epoch = 45 and best_val_0_auc = 0.89787\n"
     ]
    },
    {
     "name": "stderr",
     "output_type": "stream",
     "text": [
      "/Users/savalideshmukh/anaconda3/lib/python3.11/site-packages/pytorch_tabnet/callbacks.py:172: UserWarning: Best weights from best epoch are automatically used!\n",
      "  warnings.warn(wrn_msg)\n"
     ]
    },
    {
     "name": "stdout",
     "output_type": "stream",
     "text": [
      "\n",
      "Early stopping occurred at epoch 40 with best_epoch = 10 and best_val_0_auc = 0.88103\n"
     ]
    },
    {
     "name": "stderr",
     "output_type": "stream",
     "text": [
      "/Users/savalideshmukh/anaconda3/lib/python3.11/site-packages/pytorch_tabnet/callbacks.py:172: UserWarning: Best weights from best epoch are automatically used!\n",
      "  warnings.warn(wrn_msg)\n",
      "/Users/savalideshmukh/anaconda3/lib/python3.11/site-packages/pytorch_tabnet/callbacks.py:172: UserWarning: Best weights from best epoch are automatically used!\n",
      "  warnings.warn(wrn_msg)\n",
      "[I 2025-05-10 16:28:49,062] Trial 15 finished with value: 0.8732524045261172 and parameters: {'n_d': 123, 'n_a': 53, 'n_steps': 4, 'gamma': 1.562933741407027, 'lambda_sparse': 2.997931049036241e-05, 'momentum': 0.07868593795768657, 'lr': 0.07362935574401527, 'n_independent': 3, 'n_shared': 1}. Best is trial 7 with value: 0.8760213699780095.\n"
     ]
    },
    {
     "name": "stdout",
     "output_type": "stream",
     "text": [
      "\n",
      "Early stopping occurred at epoch 43 with best_epoch = 13 and best_val_0_auc = 0.89188\n",
      "\n",
      "Early stopping occurred at epoch 42 with best_epoch = 12 and best_val_0_auc = 0.84331\n"
     ]
    },
    {
     "name": "stderr",
     "output_type": "stream",
     "text": [
      "/Users/savalideshmukh/anaconda3/lib/python3.11/site-packages/pytorch_tabnet/callbacks.py:172: UserWarning: Best weights from best epoch are automatically used!\n",
      "  warnings.warn(wrn_msg)\n"
     ]
    },
    {
     "name": "stdout",
     "output_type": "stream",
     "text": [
      "\n",
      "Early stopping occurred at epoch 59 with best_epoch = 29 and best_val_0_auc = 0.85235\n"
     ]
    },
    {
     "name": "stderr",
     "output_type": "stream",
     "text": [
      "/Users/savalideshmukh/anaconda3/lib/python3.11/site-packages/pytorch_tabnet/callbacks.py:172: UserWarning: Best weights from best epoch are automatically used!\n",
      "  warnings.warn(wrn_msg)\n"
     ]
    },
    {
     "name": "stdout",
     "output_type": "stream",
     "text": [
      "\n",
      "Early stopping occurred at epoch 83 with best_epoch = 53 and best_val_0_auc = 0.88234\n"
     ]
    },
    {
     "name": "stderr",
     "output_type": "stream",
     "text": [
      "/Users/savalideshmukh/anaconda3/lib/python3.11/site-packages/pytorch_tabnet/callbacks.py:172: UserWarning: Best weights from best epoch are automatically used!\n",
      "  warnings.warn(wrn_msg)\n"
     ]
    },
    {
     "name": "stdout",
     "output_type": "stream",
     "text": [
      "\n",
      "Early stopping occurred at epoch 41 with best_epoch = 11 and best_val_0_auc = 0.86551\n"
     ]
    },
    {
     "name": "stderr",
     "output_type": "stream",
     "text": [
      "/Users/savalideshmukh/anaconda3/lib/python3.11/site-packages/pytorch_tabnet/callbacks.py:172: UserWarning: Best weights from best epoch are automatically used!\n",
      "  warnings.warn(wrn_msg)\n",
      "/Users/savalideshmukh/anaconda3/lib/python3.11/site-packages/pytorch_tabnet/callbacks.py:172: UserWarning: Best weights from best epoch are automatically used!\n",
      "  warnings.warn(wrn_msg)\n",
      "[I 2025-05-10 16:29:37,467] Trial 16 finished with value: 0.8646830896695394 and parameters: {'n_d': 65, 'n_a': 85, 'n_steps': 5, 'gamma': 1.7583842002261318, 'lambda_sparse': 8.739527986521519e-05, 'momentum': 0.15780689989186367, 'lr': 0.023204000130119373, 'n_independent': 2, 'n_shared': 2}. Best is trial 7 with value: 0.8760213699780095.\n"
     ]
    },
    {
     "name": "stdout",
     "output_type": "stream",
     "text": [
      "\n",
      "Early stopping occurred at epoch 58 with best_epoch = 28 and best_val_0_auc = 0.87991\n",
      "\n",
      "Early stopping occurred at epoch 35 with best_epoch = 5 and best_val_0_auc = 0.83518\n"
     ]
    },
    {
     "name": "stderr",
     "output_type": "stream",
     "text": [
      "/Users/savalideshmukh/anaconda3/lib/python3.11/site-packages/pytorch_tabnet/callbacks.py:172: UserWarning: Best weights from best epoch are automatically used!\n",
      "  warnings.warn(wrn_msg)\n"
     ]
    },
    {
     "name": "stdout",
     "output_type": "stream",
     "text": [
      "\n",
      "Early stopping occurred at epoch 87 with best_epoch = 57 and best_val_0_auc = 0.87129\n"
     ]
    },
    {
     "name": "stderr",
     "output_type": "stream",
     "text": [
      "/Users/savalideshmukh/anaconda3/lib/python3.11/site-packages/pytorch_tabnet/callbacks.py:172: UserWarning: Best weights from best epoch are automatically used!\n",
      "  warnings.warn(wrn_msg)\n"
     ]
    },
    {
     "name": "stdout",
     "output_type": "stream",
     "text": [
      "\n",
      "Early stopping occurred at epoch 36 with best_epoch = 6 and best_val_0_auc = 0.85877\n"
     ]
    },
    {
     "name": "stderr",
     "output_type": "stream",
     "text": [
      "/Users/savalideshmukh/anaconda3/lib/python3.11/site-packages/pytorch_tabnet/callbacks.py:172: UserWarning: Best weights from best epoch are automatically used!\n",
      "  warnings.warn(wrn_msg)\n"
     ]
    },
    {
     "name": "stdout",
     "output_type": "stream",
     "text": [
      "\n",
      "Early stopping occurred at epoch 53 with best_epoch = 23 and best_val_0_auc = 0.88197\n"
     ]
    },
    {
     "name": "stderr",
     "output_type": "stream",
     "text": [
      "/Users/savalideshmukh/anaconda3/lib/python3.11/site-packages/pytorch_tabnet/callbacks.py:172: UserWarning: Best weights from best epoch are automatically used!\n",
      "  warnings.warn(wrn_msg)\n",
      "/Users/savalideshmukh/anaconda3/lib/python3.11/site-packages/pytorch_tabnet/callbacks.py:172: UserWarning: Best weights from best epoch are automatically used!\n",
      "  warnings.warn(wrn_msg)\n",
      "[I 2025-05-10 16:30:36,124] Trial 17 finished with value: 0.8614597366900888 and parameters: {'n_d': 33, 'n_a': 108, 'n_steps': 6, 'gamma': 1.5227135312141837, 'lambda_sparse': 1.0274482890914997e-05, 'momentum': 0.11415261057231171, 'lr': 0.005591632673904645, 'n_independent': 3, 'n_shared': 2}. Best is trial 7 with value: 0.8760213699780095.\n"
     ]
    },
    {
     "name": "stdout",
     "output_type": "stream",
     "text": [
      "\n",
      "Early stopping occurred at epoch 38 with best_epoch = 8 and best_val_0_auc = 0.86008\n",
      "\n",
      "Early stopping occurred at epoch 51 with best_epoch = 21 and best_val_0_auc = 0.86955\n"
     ]
    },
    {
     "name": "stderr",
     "output_type": "stream",
     "text": [
      "/Users/savalideshmukh/anaconda3/lib/python3.11/site-packages/pytorch_tabnet/callbacks.py:172: UserWarning: Best weights from best epoch are automatically used!\n",
      "  warnings.warn(wrn_msg)\n"
     ]
    },
    {
     "name": "stdout",
     "output_type": "stream",
     "text": [
      "\n",
      "Early stopping occurred at epoch 56 with best_epoch = 26 and best_val_0_auc = 0.83002\n"
     ]
    },
    {
     "name": "stderr",
     "output_type": "stream",
     "text": [
      "/Users/savalideshmukh/anaconda3/lib/python3.11/site-packages/pytorch_tabnet/callbacks.py:172: UserWarning: Best weights from best epoch are automatically used!\n",
      "  warnings.warn(wrn_msg)\n"
     ]
    },
    {
     "name": "stdout",
     "output_type": "stream",
     "text": [
      "\n",
      "Early stopping occurred at epoch 60 with best_epoch = 30 and best_val_0_auc = 0.89282\n"
     ]
    },
    {
     "name": "stderr",
     "output_type": "stream",
     "text": [
      "/Users/savalideshmukh/anaconda3/lib/python3.11/site-packages/pytorch_tabnet/callbacks.py:172: UserWarning: Best weights from best epoch are automatically used!\n",
      "  warnings.warn(wrn_msg)\n"
     ]
    },
    {
     "name": "stdout",
     "output_type": "stream",
     "text": [
      "\n",
      "Early stopping occurred at epoch 41 with best_epoch = 11 and best_val_0_auc = 0.86102\n"
     ]
    },
    {
     "name": "stderr",
     "output_type": "stream",
     "text": [
      "/Users/savalideshmukh/anaconda3/lib/python3.11/site-packages/pytorch_tabnet/callbacks.py:172: UserWarning: Best weights from best epoch are automatically used!\n",
      "  warnings.warn(wrn_msg)\n",
      "/Users/savalideshmukh/anaconda3/lib/python3.11/site-packages/pytorch_tabnet/callbacks.py:172: UserWarning: Best weights from best epoch are automatically used!\n",
      "  warnings.warn(wrn_msg)\n",
      "[I 2025-05-10 16:30:59,868] Trial 18 finished with value: 0.8701417903585924 and parameters: {'n_d': 74, 'n_a': 77, 'n_steps': 3, 'gamma': 1.3014183653876954, 'lambda_sparse': 9.606802007296003e-05, 'momentum': 0.0525536158316373, 'lr': 0.0503488241126616, 'n_independent': 2, 'n_shared': 1}. Best is trial 7 with value: 0.8760213699780095.\n"
     ]
    },
    {
     "name": "stdout",
     "output_type": "stream",
     "text": [
      "\n",
      "Early stopping occurred at epoch 39 with best_epoch = 9 and best_val_0_auc = 0.89731\n",
      "\n",
      "Early stopping occurred at epoch 37 with best_epoch = 7 and best_val_0_auc = 0.85421\n"
     ]
    },
    {
     "name": "stderr",
     "output_type": "stream",
     "text": [
      "/Users/savalideshmukh/anaconda3/lib/python3.11/site-packages/pytorch_tabnet/callbacks.py:172: UserWarning: Best weights from best epoch are automatically used!\n",
      "  warnings.warn(wrn_msg)\n"
     ]
    },
    {
     "name": "stdout",
     "output_type": "stream",
     "text": [
      "\n",
      "Early stopping occurred at epoch 81 with best_epoch = 51 and best_val_0_auc = 0.8531\n"
     ]
    },
    {
     "name": "stderr",
     "output_type": "stream",
     "text": [
      "/Users/savalideshmukh/anaconda3/lib/python3.11/site-packages/pytorch_tabnet/callbacks.py:172: UserWarning: Best weights from best epoch are automatically used!\n",
      "  warnings.warn(wrn_msg)\n"
     ]
    },
    {
     "name": "stdout",
     "output_type": "stream",
     "text": [
      "\n",
      "Early stopping occurred at epoch 61 with best_epoch = 31 and best_val_0_auc = 0.88253\n"
     ]
    },
    {
     "name": "stderr",
     "output_type": "stream",
     "text": [
      "/Users/savalideshmukh/anaconda3/lib/python3.11/site-packages/pytorch_tabnet/callbacks.py:172: UserWarning: Best weights from best epoch are automatically used!\n",
      "  warnings.warn(wrn_msg)\n"
     ]
    },
    {
     "name": "stdout",
     "output_type": "stream",
     "text": [
      "\n",
      "Early stopping occurred at epoch 50 with best_epoch = 20 and best_val_0_auc = 0.8627\n"
     ]
    },
    {
     "name": "stderr",
     "output_type": "stream",
     "text": [
      "/Users/savalideshmukh/anaconda3/lib/python3.11/site-packages/pytorch_tabnet/callbacks.py:172: UserWarning: Best weights from best epoch are automatically used!\n",
      "  warnings.warn(wrn_msg)\n",
      "/Users/savalideshmukh/anaconda3/lib/python3.11/site-packages/pytorch_tabnet/callbacks.py:172: UserWarning: Best weights from best epoch are automatically used!\n",
      "  warnings.warn(wrn_msg)\n",
      "[I 2025-05-10 16:32:07,012] Trial 19 finished with value: 0.8695574815629016 and parameters: {'n_d': 95, 'n_a': 57, 'n_steps': 8, 'gamma': 1.6494945562944148, 'lambda_sparse': 0.00025004896359015775, 'momentum': 0.17604904365380364, 'lr': 0.015510718528347482, 'n_independent': 2, 'n_shared': 2}. Best is trial 7 with value: 0.8760213699780095.\n"
     ]
    },
    {
     "name": "stdout",
     "output_type": "stream",
     "text": [
      "\n",
      "Early stopping occurred at epoch 42 with best_epoch = 12 and best_val_0_auc = 0.89525\n",
      "\n",
      "Early stopping occurred at epoch 37 with best_epoch = 7 and best_val_0_auc = 0.81578\n"
     ]
    },
    {
     "name": "stderr",
     "output_type": "stream",
     "text": [
      "/Users/savalideshmukh/anaconda3/lib/python3.11/site-packages/pytorch_tabnet/callbacks.py:172: UserWarning: Best weights from best epoch are automatically used!\n",
      "  warnings.warn(wrn_msg)\n"
     ]
    },
    {
     "name": "stdout",
     "output_type": "stream",
     "text": [
      "\n",
      "Early stopping occurred at epoch 47 with best_epoch = 17 and best_val_0_auc = 0.81745\n"
     ]
    },
    {
     "name": "stderr",
     "output_type": "stream",
     "text": [
      "/Users/savalideshmukh/anaconda3/lib/python3.11/site-packages/pytorch_tabnet/callbacks.py:172: UserWarning: Best weights from best epoch are automatically used!\n",
      "  warnings.warn(wrn_msg)\n"
     ]
    },
    {
     "name": "stdout",
     "output_type": "stream",
     "text": [
      "\n",
      "Early stopping occurred at epoch 113 with best_epoch = 83 and best_val_0_auc = 0.88964\n"
     ]
    },
    {
     "name": "stderr",
     "output_type": "stream",
     "text": [
      "/Users/savalideshmukh/anaconda3/lib/python3.11/site-packages/pytorch_tabnet/callbacks.py:172: UserWarning: Best weights from best epoch are automatically used!\n",
      "  warnings.warn(wrn_msg)\n"
     ]
    },
    {
     "name": "stdout",
     "output_type": "stream",
     "text": [
      "\n",
      "Early stopping occurred at epoch 81 with best_epoch = 51 and best_val_0_auc = 0.8382\n"
     ]
    },
    {
     "name": "stderr",
     "output_type": "stream",
     "text": [
      "/Users/savalideshmukh/anaconda3/lib/python3.11/site-packages/pytorch_tabnet/callbacks.py:172: UserWarning: Best weights from best epoch are automatically used!\n",
      "  warnings.warn(wrn_msg)\n",
      "/Users/savalideshmukh/anaconda3/lib/python3.11/site-packages/pytorch_tabnet/callbacks.py:172: UserWarning: Best weights from best epoch are automatically used!\n",
      "  warnings.warn(wrn_msg)\n",
      "[I 2025-05-10 16:33:19,160] Trial 20 finished with value: 0.8413669177354814 and parameters: {'n_d': 58, 'n_a': 94, 'n_steps': 6, 'gamma': 1.8117283303448994, 'lambda_sparse': 3.3428434469155754e-05, 'momentum': 0.013920152982765971, 'lr': 0.006102566204519497, 'n_independent': 3, 'n_shared': 2}. Best is trial 7 with value: 0.8760213699780095.\n"
     ]
    },
    {
     "name": "stdout",
     "output_type": "stream",
     "text": [
      "\n",
      "Early stopping occurred at epoch 40 with best_epoch = 10 and best_val_0_auc = 0.84577\n",
      "\n",
      "Early stopping occurred at epoch 99 with best_epoch = 69 and best_val_0_auc = 0.86567\n"
     ]
    },
    {
     "name": "stderr",
     "output_type": "stream",
     "text": [
      "/Users/savalideshmukh/anaconda3/lib/python3.11/site-packages/pytorch_tabnet/callbacks.py:172: UserWarning: Best weights from best epoch are automatically used!\n",
      "  warnings.warn(wrn_msg)\n"
     ]
    },
    {
     "name": "stdout",
     "output_type": "stream",
     "text": [
      "\n",
      "Early stopping occurred at epoch 38 with best_epoch = 8 and best_val_0_auc = 0.85891\n"
     ]
    },
    {
     "name": "stderr",
     "output_type": "stream",
     "text": [
      "/Users/savalideshmukh/anaconda3/lib/python3.11/site-packages/pytorch_tabnet/callbacks.py:172: UserWarning: Best weights from best epoch are automatically used!\n",
      "  warnings.warn(wrn_msg)\n"
     ]
    },
    {
     "name": "stdout",
     "output_type": "stream",
     "text": [
      "\n",
      "Early stopping occurred at epoch 38 with best_epoch = 8 and best_val_0_auc = 0.89263\n"
     ]
    },
    {
     "name": "stderr",
     "output_type": "stream",
     "text": [
      "/Users/savalideshmukh/anaconda3/lib/python3.11/site-packages/pytorch_tabnet/callbacks.py:172: UserWarning: Best weights from best epoch are automatically used!\n",
      "  warnings.warn(wrn_msg)\n"
     ]
    },
    {
     "name": "stdout",
     "output_type": "stream",
     "text": [
      "\n",
      "Early stopping occurred at epoch 47 with best_epoch = 17 and best_val_0_auc = 0.844\n"
     ]
    },
    {
     "name": "stderr",
     "output_type": "stream",
     "text": [
      "/Users/savalideshmukh/anaconda3/lib/python3.11/site-packages/pytorch_tabnet/callbacks.py:172: UserWarning: Best weights from best epoch are automatically used!\n",
      "  warnings.warn(wrn_msg)\n",
      "/Users/savalideshmukh/anaconda3/lib/python3.11/site-packages/pytorch_tabnet/callbacks.py:172: UserWarning: Best weights from best epoch are automatically used!\n",
      "  warnings.warn(wrn_msg)\n",
      "[I 2025-05-10 16:34:00,729] Trial 21 finished with value: 0.8702808994678912 and parameters: {'n_d': 125, 'n_a': 51, 'n_steps': 4, 'gamma': 1.5566778795133966, 'lambda_sparse': 1.950868005011773e-05, 'momentum': 0.07997549988409988, 'lr': 0.09230359161662494, 'n_independent': 3, 'n_shared': 1}. Best is trial 7 with value: 0.8760213699780095.\n"
     ]
    },
    {
     "name": "stdout",
     "output_type": "stream",
     "text": [
      "\n",
      "Early stopping occurred at epoch 73 with best_epoch = 43 and best_val_0_auc = 0.8902\n",
      "\n",
      "Early stopping occurred at epoch 41 with best_epoch = 11 and best_val_0_auc = 0.87398\n"
     ]
    },
    {
     "name": "stderr",
     "output_type": "stream",
     "text": [
      "/Users/savalideshmukh/anaconda3/lib/python3.11/site-packages/pytorch_tabnet/callbacks.py:172: UserWarning: Best weights from best epoch are automatically used!\n",
      "  warnings.warn(wrn_msg)\n"
     ]
    },
    {
     "name": "stdout",
     "output_type": "stream",
     "text": [
      "\n",
      "Early stopping occurred at epoch 54 with best_epoch = 24 and best_val_0_auc = 0.85235\n"
     ]
    },
    {
     "name": "stderr",
     "output_type": "stream",
     "text": [
      "/Users/savalideshmukh/anaconda3/lib/python3.11/site-packages/pytorch_tabnet/callbacks.py:172: UserWarning: Best weights from best epoch are automatically used!\n",
      "  warnings.warn(wrn_msg)\n"
     ]
    },
    {
     "name": "stdout",
     "output_type": "stream",
     "text": [
      "\n",
      "Early stopping occurred at epoch 45 with best_epoch = 15 and best_val_0_auc = 0.89955\n"
     ]
    },
    {
     "name": "stderr",
     "output_type": "stream",
     "text": [
      "/Users/savalideshmukh/anaconda3/lib/python3.11/site-packages/pytorch_tabnet/callbacks.py:172: UserWarning: Best weights from best epoch are automatically used!\n",
      "  warnings.warn(wrn_msg)\n"
     ]
    },
    {
     "name": "stdout",
     "output_type": "stream",
     "text": [
      "\n",
      "Early stopping occurred at epoch 38 with best_epoch = 8 and best_val_0_auc = 0.83745\n"
     ]
    },
    {
     "name": "stderr",
     "output_type": "stream",
     "text": [
      "/Users/savalideshmukh/anaconda3/lib/python3.11/site-packages/pytorch_tabnet/callbacks.py:172: UserWarning: Best weights from best epoch are automatically used!\n",
      "  warnings.warn(wrn_msg)\n",
      "/Users/savalideshmukh/anaconda3/lib/python3.11/site-packages/pytorch_tabnet/callbacks.py:172: UserWarning: Best weights from best epoch are automatically used!\n",
      "  warnings.warn(wrn_msg)\n",
      "[I 2025-05-10 16:34:31,545] Trial 22 finished with value: 0.8699197379956187 and parameters: {'n_d': 123, 'n_a': 37, 'n_steps': 4, 'gamma': 1.438363573943589, 'lambda_sparse': 3.0065088824885897e-05, 'momentum': 0.10811002250154397, 'lr': 0.062457616440797184, 'n_independent': 3, 'n_shared': 1}. Best is trial 7 with value: 0.8760213699780095.\n"
     ]
    },
    {
     "name": "stdout",
     "output_type": "stream",
     "text": [
      "\n",
      "Early stopping occurred at epoch 41 with best_epoch = 11 and best_val_0_auc = 0.88627\n",
      "\n",
      "Early stopping occurred at epoch 65 with best_epoch = 35 and best_val_0_auc = 0.8762\n"
     ]
    },
    {
     "name": "stderr",
     "output_type": "stream",
     "text": [
      "/Users/savalideshmukh/anaconda3/lib/python3.11/site-packages/pytorch_tabnet/callbacks.py:172: UserWarning: Best weights from best epoch are automatically used!\n",
      "  warnings.warn(wrn_msg)\n"
     ]
    },
    {
     "name": "stdout",
     "output_type": "stream",
     "text": [
      "\n",
      "Early stopping occurred at epoch 45 with best_epoch = 15 and best_val_0_auc = 0.85497\n"
     ]
    },
    {
     "name": "stderr",
     "output_type": "stream",
     "text": [
      "/Users/savalideshmukh/anaconda3/lib/python3.11/site-packages/pytorch_tabnet/callbacks.py:172: UserWarning: Best weights from best epoch are automatically used!\n",
      "  warnings.warn(wrn_msg)\n"
     ]
    },
    {
     "name": "stdout",
     "output_type": "stream",
     "text": [
      "\n",
      "Early stopping occurred at epoch 63 with best_epoch = 33 and best_val_0_auc = 0.88459\n"
     ]
    },
    {
     "name": "stderr",
     "output_type": "stream",
     "text": [
      "/Users/savalideshmukh/anaconda3/lib/python3.11/site-packages/pytorch_tabnet/callbacks.py:172: UserWarning: Best weights from best epoch are automatically used!\n",
      "  warnings.warn(wrn_msg)\n"
     ]
    },
    {
     "name": "stdout",
     "output_type": "stream",
     "text": [
      "\n",
      "Early stopping occurred at epoch 73 with best_epoch = 43 and best_val_0_auc = 0.86813\n"
     ]
    },
    {
     "name": "stderr",
     "output_type": "stream",
     "text": [
      "/Users/savalideshmukh/anaconda3/lib/python3.11/site-packages/pytorch_tabnet/callbacks.py:172: UserWarning: Best weights from best epoch are automatically used!\n",
      "  warnings.warn(wrn_msg)\n",
      "/Users/savalideshmukh/anaconda3/lib/python3.11/site-packages/pytorch_tabnet/callbacks.py:172: UserWarning: Best weights from best epoch are automatically used!\n",
      "  warnings.warn(wrn_msg)\n",
      "[I 2025-05-10 16:35:20,450] Trial 23 finished with value: 0.8766124310297752 and parameters: {'n_d': 44, 'n_a': 53, 'n_steps': 5, 'gamma': 1.599546027957836, 'lambda_sparse': 7.244853860385952e-05, 'momentum': 0.06661509480673933, 'lr': 0.028878346721484826, 'n_independent': 3, 'n_shared': 1}. Best is trial 23 with value: 0.8766124310297752.\n"
     ]
    },
    {
     "name": "stdout",
     "output_type": "stream",
     "text": [
      "\n",
      "Early stopping occurred at epoch 71 with best_epoch = 41 and best_val_0_auc = 0.89918\n",
      "\n",
      "Early stopping occurred at epoch 55 with best_epoch = 25 and best_val_0_auc = 0.86401\n"
     ]
    },
    {
     "name": "stderr",
     "output_type": "stream",
     "text": [
      "/Users/savalideshmukh/anaconda3/lib/python3.11/site-packages/pytorch_tabnet/callbacks.py:172: UserWarning: Best weights from best epoch are automatically used!\n",
      "  warnings.warn(wrn_msg)\n"
     ]
    },
    {
     "name": "stdout",
     "output_type": "stream",
     "text": [
      "\n",
      "Early stopping occurred at epoch 44 with best_epoch = 14 and best_val_0_auc = 0.85629\n"
     ]
    },
    {
     "name": "stderr",
     "output_type": "stream",
     "text": [
      "/Users/savalideshmukh/anaconda3/lib/python3.11/site-packages/pytorch_tabnet/callbacks.py:172: UserWarning: Best weights from best epoch are automatically used!\n",
      "  warnings.warn(wrn_msg)\n"
     ]
    },
    {
     "name": "stdout",
     "output_type": "stream",
     "text": [
      "\n",
      "Early stopping occurred at epoch 65 with best_epoch = 35 and best_val_0_auc = 0.89207\n"
     ]
    },
    {
     "name": "stderr",
     "output_type": "stream",
     "text": [
      "/Users/savalideshmukh/anaconda3/lib/python3.11/site-packages/pytorch_tabnet/callbacks.py:172: UserWarning: Best weights from best epoch are automatically used!\n",
      "  warnings.warn(wrn_msg)\n"
     ]
    },
    {
     "name": "stdout",
     "output_type": "stream",
     "text": [
      "\n",
      "Early stopping occurred at epoch 47 with best_epoch = 17 and best_val_0_auc = 0.86831\n"
     ]
    },
    {
     "name": "stderr",
     "output_type": "stream",
     "text": [
      "/Users/savalideshmukh/anaconda3/lib/python3.11/site-packages/pytorch_tabnet/callbacks.py:172: UserWarning: Best weights from best epoch are automatically used!\n",
      "  warnings.warn(wrn_msg)\n",
      "/Users/savalideshmukh/anaconda3/lib/python3.11/site-packages/pytorch_tabnet/callbacks.py:172: UserWarning: Best weights from best epoch are automatically used!\n",
      "  warnings.warn(wrn_msg)\n",
      "[I 2025-05-10 16:35:57,732] Trial 24 finished with value: 0.8751842937750796 and parameters: {'n_d': 41, 'n_a': 62, 'n_steps': 5, 'gamma': 1.6191443761413116, 'lambda_sparse': 6.89458470710376e-05, 'momentum': 0.13079853407988, 'lr': 0.02289286412768115, 'n_independent': 2, 'n_shared': 1}. Best is trial 23 with value: 0.8766124310297752.\n"
     ]
    },
    {
     "name": "stdout",
     "output_type": "stream",
     "text": [
      "\n",
      "Early stopping occurred at epoch 76 with best_epoch = 46 and best_val_0_auc = 0.89525\n",
      "\n",
      "Early stopping occurred at epoch 68 with best_epoch = 38 and best_val_0_auc = 0.84442\n"
     ]
    },
    {
     "name": "stderr",
     "output_type": "stream",
     "text": [
      "/Users/savalideshmukh/anaconda3/lib/python3.11/site-packages/pytorch_tabnet/callbacks.py:172: UserWarning: Best weights from best epoch are automatically used!\n",
      "  warnings.warn(wrn_msg)\n"
     ]
    },
    {
     "name": "stdout",
     "output_type": "stream",
     "text": [
      "\n",
      "Early stopping occurred at epoch 50 with best_epoch = 20 and best_val_0_auc = 0.84878\n"
     ]
    },
    {
     "name": "stderr",
     "output_type": "stream",
     "text": [
      "/Users/savalideshmukh/anaconda3/lib/python3.11/site-packages/pytorch_tabnet/callbacks.py:172: UserWarning: Best weights from best epoch are automatically used!\n",
      "  warnings.warn(wrn_msg)\n"
     ]
    },
    {
     "name": "stdout",
     "output_type": "stream",
     "text": [
      "\n",
      "Early stopping occurred at epoch 69 with best_epoch = 39 and best_val_0_auc = 0.88926\n"
     ]
    },
    {
     "name": "stderr",
     "output_type": "stream",
     "text": [
      "/Users/savalideshmukh/anaconda3/lib/python3.11/site-packages/pytorch_tabnet/callbacks.py:172: UserWarning: Best weights from best epoch are automatically used!\n",
      "  warnings.warn(wrn_msg)\n"
     ]
    },
    {
     "name": "stdout",
     "output_type": "stream",
     "text": [
      "\n",
      "Early stopping occurred at epoch 86 with best_epoch = 56 and best_val_0_auc = 0.8569\n"
     ]
    },
    {
     "name": "stderr",
     "output_type": "stream",
     "text": [
      "/Users/savalideshmukh/anaconda3/lib/python3.11/site-packages/pytorch_tabnet/callbacks.py:172: UserWarning: Best weights from best epoch are automatically used!\n",
      "  warnings.warn(wrn_msg)\n",
      "/Users/savalideshmukh/anaconda3/lib/python3.11/site-packages/pytorch_tabnet/callbacks.py:172: UserWarning: Best weights from best epoch are automatically used!\n",
      "  warnings.warn(wrn_msg)\n",
      "[I 2025-05-10 16:36:37,667] Trial 25 finished with value: 0.866586187073992 and parameters: {'n_d': 42, 'n_a': 63, 'n_steps': 5, 'gamma': 1.7688963600048266, 'lambda_sparse': 0.00012463678490096732, 'momentum': 0.13452359180004708, 'lr': 0.02001517102727037, 'n_independent': 2, 'n_shared': 1}. Best is trial 23 with value: 0.8766124310297752.\n"
     ]
    },
    {
     "name": "stdout",
     "output_type": "stream",
     "text": [
      "\n",
      "Early stopping occurred at epoch 44 with best_epoch = 14 and best_val_0_auc = 0.89357\n",
      "\n",
      "Early stopping occurred at epoch 49 with best_epoch = 19 and best_val_0_auc = 0.8677\n"
     ]
    },
    {
     "name": "stderr",
     "output_type": "stream",
     "text": [
      "/Users/savalideshmukh/anaconda3/lib/python3.11/site-packages/pytorch_tabnet/callbacks.py:172: UserWarning: Best weights from best epoch are automatically used!\n",
      "  warnings.warn(wrn_msg)\n"
     ]
    },
    {
     "name": "stdout",
     "output_type": "stream",
     "text": [
      "\n",
      "Early stopping occurred at epoch 95 with best_epoch = 65 and best_val_0_auc = 0.8439\n"
     ]
    },
    {
     "name": "stderr",
     "output_type": "stream",
     "text": [
      "/Users/savalideshmukh/anaconda3/lib/python3.11/site-packages/pytorch_tabnet/callbacks.py:172: UserWarning: Best weights from best epoch are automatically used!\n",
      "  warnings.warn(wrn_msg)\n"
     ]
    },
    {
     "name": "stdout",
     "output_type": "stream",
     "text": [
      "\n",
      "Early stopping occurred at epoch 31 with best_epoch = 1 and best_val_0_auc = 0.85372\n"
     ]
    },
    {
     "name": "stderr",
     "output_type": "stream",
     "text": [
      "/Users/savalideshmukh/anaconda3/lib/python3.11/site-packages/pytorch_tabnet/callbacks.py:172: UserWarning: Best weights from best epoch are automatically used!\n",
      "  warnings.warn(wrn_msg)\n"
     ]
    },
    {
     "name": "stdout",
     "output_type": "stream",
     "text": [
      "\n",
      "Early stopping occurred at epoch 83 with best_epoch = 53 and best_val_0_auc = 0.88421\n"
     ]
    },
    {
     "name": "stderr",
     "output_type": "stream",
     "text": [
      "/Users/savalideshmukh/anaconda3/lib/python3.11/site-packages/pytorch_tabnet/callbacks.py:172: UserWarning: Best weights from best epoch are automatically used!\n",
      "  warnings.warn(wrn_msg)\n",
      "/Users/savalideshmukh/anaconda3/lib/python3.11/site-packages/pytorch_tabnet/callbacks.py:172: UserWarning: Best weights from best epoch are automatically used!\n",
      "  warnings.warn(wrn_msg)\n",
      "[I 2025-05-10 16:37:14,352] Trial 26 finished with value: 0.8632710118346975 and parameters: {'n_d': 43, 'n_a': 73, 'n_steps': 5, 'gamma': 1.476643300988969, 'lambda_sparse': 6.167061434501885e-05, 'momentum': 0.0507518213631894, 'lr': 0.014959107515331185, 'n_independent': 2, 'n_shared': 1}. Best is trial 23 with value: 0.8766124310297752.\n"
     ]
    },
    {
     "name": "stdout",
     "output_type": "stream",
     "text": [
      "\n",
      "Early stopping occurred at epoch 31 with best_epoch = 1 and best_val_0_auc = 0.86682\n",
      "\n",
      "Early stopping occurred at epoch 37 with best_epoch = 7 and best_val_0_auc = 0.83758\n"
     ]
    },
    {
     "name": "stderr",
     "output_type": "stream",
     "text": [
      "/Users/savalideshmukh/anaconda3/lib/python3.11/site-packages/pytorch_tabnet/callbacks.py:172: UserWarning: Best weights from best epoch are automatically used!\n",
      "  warnings.warn(wrn_msg)\n"
     ]
    },
    {
     "name": "stdout",
     "output_type": "stream",
     "text": [
      "\n",
      "Early stopping occurred at epoch 40 with best_epoch = 10 and best_val_0_auc = 0.86116\n"
     ]
    },
    {
     "name": "stderr",
     "output_type": "stream",
     "text": [
      "/Users/savalideshmukh/anaconda3/lib/python3.11/site-packages/pytorch_tabnet/callbacks.py:172: UserWarning: Best weights from best epoch are automatically used!\n",
      "  warnings.warn(wrn_msg)\n"
     ]
    },
    {
     "name": "stdout",
     "output_type": "stream",
     "text": [
      "\n",
      "Early stopping occurred at epoch 49 with best_epoch = 19 and best_val_0_auc = 0.89113\n"
     ]
    },
    {
     "name": "stderr",
     "output_type": "stream",
     "text": [
      "/Users/savalideshmukh/anaconda3/lib/python3.11/site-packages/pytorch_tabnet/callbacks.py:172: UserWarning: Best weights from best epoch are automatically used!\n",
      "  warnings.warn(wrn_msg)\n"
     ]
    },
    {
     "name": "stdout",
     "output_type": "stream",
     "text": [
      "\n",
      "Early stopping occurred at epoch 39 with best_epoch = 9 and best_val_0_auc = 0.87897\n"
     ]
    },
    {
     "name": "stderr",
     "output_type": "stream",
     "text": [
      "/Users/savalideshmukh/anaconda3/lib/python3.11/site-packages/pytorch_tabnet/callbacks.py:172: UserWarning: Best weights from best epoch are automatically used!\n",
      "  warnings.warn(wrn_msg)\n",
      "/Users/savalideshmukh/anaconda3/lib/python3.11/site-packages/pytorch_tabnet/callbacks.py:172: UserWarning: Best weights from best epoch are automatically used!\n",
      "  warnings.warn(wrn_msg)\n",
      "[I 2025-05-10 16:37:32,646] Trial 27 finished with value: 0.867321291576034 and parameters: {'n_d': 40, 'n_a': 86, 'n_steps': 5, 'gamma': 1.3686085372580161, 'lambda_sparse': 0.00010132254138907618, 'momentum': 0.19791307667197938, 'lr': 0.027294919322166655, 'n_independent': 1, 'n_shared': 1}. Best is trial 23 with value: 0.8766124310297752.\n"
     ]
    },
    {
     "name": "stdout",
     "output_type": "stream",
     "text": [
      "\n",
      "Early stopping occurred at epoch 34 with best_epoch = 4 and best_val_0_auc = 0.86775\n",
      "\n",
      "Early stopping occurred at epoch 58 with best_epoch = 28 and best_val_0_auc = 0.85698\n"
     ]
    },
    {
     "name": "stderr",
     "output_type": "stream",
     "text": [
      "/Users/savalideshmukh/anaconda3/lib/python3.11/site-packages/pytorch_tabnet/callbacks.py:172: UserWarning: Best weights from best epoch are automatically used!\n",
      "  warnings.warn(wrn_msg)\n"
     ]
    },
    {
     "name": "stdout",
     "output_type": "stream",
     "text": [
      "\n",
      "Early stopping occurred at epoch 31 with best_epoch = 1 and best_val_0_auc = 0.81107\n"
     ]
    },
    {
     "name": "stderr",
     "output_type": "stream",
     "text": [
      "/Users/savalideshmukh/anaconda3/lib/python3.11/site-packages/pytorch_tabnet/callbacks.py:172: UserWarning: Best weights from best epoch are automatically used!\n",
      "  warnings.warn(wrn_msg)\n"
     ]
    },
    {
     "name": "stdout",
     "output_type": "stream",
     "text": [
      "\n",
      "Early stopping occurred at epoch 73 with best_epoch = 43 and best_val_0_auc = 0.88365\n"
     ]
    },
    {
     "name": "stderr",
     "output_type": "stream",
     "text": [
      "/Users/savalideshmukh/anaconda3/lib/python3.11/site-packages/pytorch_tabnet/callbacks.py:172: UserWarning: Best weights from best epoch are automatically used!\n",
      "  warnings.warn(wrn_msg)\n"
     ]
    },
    {
     "name": "stdout",
     "output_type": "stream",
     "text": [
      "\n",
      "Early stopping occurred at epoch 61 with best_epoch = 31 and best_val_0_auc = 0.8612\n"
     ]
    },
    {
     "name": "stderr",
     "output_type": "stream",
     "text": [
      "/Users/savalideshmukh/anaconda3/lib/python3.11/site-packages/pytorch_tabnet/callbacks.py:172: UserWarning: Best weights from best epoch are automatically used!\n",
      "  warnings.warn(wrn_msg)\n",
      "/Users/savalideshmukh/anaconda3/lib/python3.11/site-packages/pytorch_tabnet/callbacks.py:172: UserWarning: Best weights from best epoch are automatically used!\n",
      "  warnings.warn(wrn_msg)\n",
      "[I 2025-05-10 16:38:22,710] Trial 28 finished with value: 0.8632029979455453 and parameters: {'n_d': 59, 'n_a': 46, 'n_steps': 6, 'gamma': 1.1929322525410986, 'lambda_sparse': 0.0001893447739679847, 'momentum': 0.12342561912416265, 'lr': 0.017456632409294463, 'n_independent': 3, 'n_shared': 1}. Best is trial 23 with value: 0.8766124310297752.\n"
     ]
    },
    {
     "name": "stdout",
     "output_type": "stream",
     "text": [
      "\n",
      "Early stopping occurred at epoch 57 with best_epoch = 27 and best_val_0_auc = 0.90311\n",
      "\n",
      "Early stopping occurred at epoch 32 with best_epoch = 2 and best_val_0_auc = 0.82945\n"
     ]
    },
    {
     "name": "stderr",
     "output_type": "stream",
     "text": [
      "/Users/savalideshmukh/anaconda3/lib/python3.11/site-packages/pytorch_tabnet/callbacks.py:172: UserWarning: Best weights from best epoch are automatically used!\n",
      "  warnings.warn(wrn_msg)\n"
     ]
    },
    {
     "name": "stdout",
     "output_type": "stream",
     "text": [
      "\n",
      "Early stopping occurred at epoch 63 with best_epoch = 33 and best_val_0_auc = 0.85891\n"
     ]
    },
    {
     "name": "stderr",
     "output_type": "stream",
     "text": [
      "/Users/savalideshmukh/anaconda3/lib/python3.11/site-packages/pytorch_tabnet/callbacks.py:172: UserWarning: Best weights from best epoch are automatically used!\n",
      "  warnings.warn(wrn_msg)\n"
     ]
    },
    {
     "name": "stdout",
     "output_type": "stream",
     "text": [
      "\n",
      "Early stopping occurred at epoch 51 with best_epoch = 21 and best_val_0_auc = 0.88066\n"
     ]
    },
    {
     "name": "stderr",
     "output_type": "stream",
     "text": [
      "/Users/savalideshmukh/anaconda3/lib/python3.11/site-packages/pytorch_tabnet/callbacks.py:172: UserWarning: Best weights from best epoch are automatically used!\n",
      "  warnings.warn(wrn_msg)\n"
     ]
    },
    {
     "name": "stdout",
     "output_type": "stream",
     "text": [
      "\n",
      "Early stopping occurred at epoch 62 with best_epoch = 32 and best_val_0_auc = 0.8165\n"
     ]
    },
    {
     "name": "stderr",
     "output_type": "stream",
     "text": [
      "/Users/savalideshmukh/anaconda3/lib/python3.11/site-packages/pytorch_tabnet/callbacks.py:172: UserWarning: Best weights from best epoch are automatically used!\n",
      "  warnings.warn(wrn_msg)\n",
      "/Users/savalideshmukh/anaconda3/lib/python3.11/site-packages/pytorch_tabnet/callbacks.py:172: UserWarning: Best weights from best epoch are automatically used!\n",
      "  warnings.warn(wrn_msg)\n",
      "[I 2025-05-10 16:38:46,288] Trial 29 finished with value: 0.8540216493333024 and parameters: {'n_d': 48, 'n_a': 111, 'n_steps': 5, 'gamma': 1.9986150825291031, 'lambda_sparse': 0.0003295960864856568, 'momentum': 0.22794122737626996, 'lr': 0.006982616184224196, 'n_independent': 1, 'n_shared': 1}. Best is trial 23 with value: 0.8766124310297752.\n"
     ]
    },
    {
     "name": "stdout",
     "output_type": "stream",
     "text": [
      "\n",
      "Early stopping occurred at epoch 33 with best_epoch = 3 and best_val_0_auc = 0.88459\n",
      "\n",
      "Early stopping occurred at epoch 77 with best_epoch = 47 and best_val_0_auc = 0.88304\n"
     ]
    },
    {
     "name": "stderr",
     "output_type": "stream",
     "text": [
      "/Users/savalideshmukh/anaconda3/lib/python3.11/site-packages/pytorch_tabnet/callbacks.py:172: UserWarning: Best weights from best epoch are automatically used!\n",
      "  warnings.warn(wrn_msg)\n"
     ]
    },
    {
     "name": "stdout",
     "output_type": "stream",
     "text": [
      "\n",
      "Early stopping occurred at epoch 44 with best_epoch = 14 and best_val_0_auc = 0.8743\n"
     ]
    },
    {
     "name": "stderr",
     "output_type": "stream",
     "text": [
      "/Users/savalideshmukh/anaconda3/lib/python3.11/site-packages/pytorch_tabnet/callbacks.py:172: UserWarning: Best weights from best epoch are automatically used!\n",
      "  warnings.warn(wrn_msg)\n"
     ]
    },
    {
     "name": "stdout",
     "output_type": "stream",
     "text": [
      "\n",
      "Early stopping occurred at epoch 48 with best_epoch = 18 and best_val_0_auc = 0.90049\n"
     ]
    },
    {
     "name": "stderr",
     "output_type": "stream",
     "text": [
      "/Users/savalideshmukh/anaconda3/lib/python3.11/site-packages/pytorch_tabnet/callbacks.py:172: UserWarning: Best weights from best epoch are automatically used!\n",
      "  warnings.warn(wrn_msg)\n"
     ]
    },
    {
     "name": "stdout",
     "output_type": "stream",
     "text": [
      "\n",
      "Early stopping occurred at epoch 68 with best_epoch = 38 and best_val_0_auc = 0.82398\n"
     ]
    },
    {
     "name": "stderr",
     "output_type": "stream",
     "text": [
      "/Users/savalideshmukh/anaconda3/lib/python3.11/site-packages/pytorch_tabnet/callbacks.py:172: UserWarning: Best weights from best epoch are automatically used!\n",
      "  warnings.warn(wrn_msg)\n",
      "/Users/savalideshmukh/anaconda3/lib/python3.11/site-packages/pytorch_tabnet/callbacks.py:172: UserWarning: Best weights from best epoch are automatically used!\n",
      "  warnings.warn(wrn_msg)\n",
      "[I 2025-05-10 16:39:39,534] Trial 30 finished with value: 0.8770934625948177 and parameters: {'n_d': 61, 'n_a': 62, 'n_steps': 4, 'gamma': 1.7193370395501062, 'lambda_sparse': 4.511027199039756e-05, 'momentum': 0.17499993899825866, 'lr': 0.048765009320005034, 'n_independent': 3, 'n_shared': 3}. Best is trial 30 with value: 0.8770934625948177.\n"
     ]
    },
    {
     "name": "stdout",
     "output_type": "stream",
     "text": [
      "\n",
      "Early stopping occurred at epoch 55 with best_epoch = 25 and best_val_0_auc = 0.90367\n",
      "\n",
      "Early stopping occurred at epoch 34 with best_epoch = 4 and best_val_0_auc = 0.87066\n"
     ]
    },
    {
     "name": "stderr",
     "output_type": "stream",
     "text": [
      "/Users/savalideshmukh/anaconda3/lib/python3.11/site-packages/pytorch_tabnet/callbacks.py:172: UserWarning: Best weights from best epoch are automatically used!\n",
      "  warnings.warn(wrn_msg)\n"
     ]
    },
    {
     "name": "stdout",
     "output_type": "stream",
     "text": [
      "\n",
      "Early stopping occurred at epoch 56 with best_epoch = 26 and best_val_0_auc = 0.84709\n"
     ]
    },
    {
     "name": "stderr",
     "output_type": "stream",
     "text": [
      "/Users/savalideshmukh/anaconda3/lib/python3.11/site-packages/pytorch_tabnet/callbacks.py:172: UserWarning: Best weights from best epoch are automatically used!\n",
      "  warnings.warn(wrn_msg)\n"
     ]
    },
    {
     "name": "stdout",
     "output_type": "stream",
     "text": [
      "\n",
      "Early stopping occurred at epoch 40 with best_epoch = 10 and best_val_0_auc = 0.87692\n"
     ]
    },
    {
     "name": "stderr",
     "output_type": "stream",
     "text": [
      "/Users/savalideshmukh/anaconda3/lib/python3.11/site-packages/pytorch_tabnet/callbacks.py:172: UserWarning: Best weights from best epoch are automatically used!\n",
      "  warnings.warn(wrn_msg)\n"
     ]
    },
    {
     "name": "stdout",
     "output_type": "stream",
     "text": [
      "\n",
      "Early stopping occurred at epoch 80 with best_epoch = 50 and best_val_0_auc = 0.87149\n"
     ]
    },
    {
     "name": "stderr",
     "output_type": "stream",
     "text": [
      "/Users/savalideshmukh/anaconda3/lib/python3.11/site-packages/pytorch_tabnet/callbacks.py:172: UserWarning: Best weights from best epoch are automatically used!\n",
      "  warnings.warn(wrn_msg)\n",
      "/Users/savalideshmukh/anaconda3/lib/python3.11/site-packages/pytorch_tabnet/callbacks.py:172: UserWarning: Best weights from best epoch are automatically used!\n",
      "  warnings.warn(wrn_msg)\n",
      "[I 2025-05-10 16:40:27,186] Trial 31 finished with value: 0.8743019100742677 and parameters: {'n_d': 59, 'n_a': 61, 'n_steps': 4, 'gamma': 1.7162349531582224, 'lambda_sparse': 4.12012728522723e-05, 'momentum': 0.1617652211821812, 'lr': 0.046112660293800976, 'n_independent': 3, 'n_shared': 3}. Best is trial 30 with value: 0.8770934625948177.\n"
     ]
    },
    {
     "name": "stdout",
     "output_type": "stream",
     "text": [
      "\n",
      "Early stopping occurred at epoch 43 with best_epoch = 13 and best_val_0_auc = 0.90535\n",
      "\n",
      "Early stopping occurred at epoch 35 with best_epoch = 5 and best_val_0_auc = 0.86826\n"
     ]
    },
    {
     "name": "stderr",
     "output_type": "stream",
     "text": [
      "/Users/savalideshmukh/anaconda3/lib/python3.11/site-packages/pytorch_tabnet/callbacks.py:172: UserWarning: Best weights from best epoch are automatically used!\n",
      "  warnings.warn(wrn_msg)\n"
     ]
    },
    {
     "name": "stdout",
     "output_type": "stream",
     "text": [
      "\n",
      "Early stopping occurred at epoch 55 with best_epoch = 25 and best_val_0_auc = 0.85141\n"
     ]
    },
    {
     "name": "stderr",
     "output_type": "stream",
     "text": [
      "/Users/savalideshmukh/anaconda3/lib/python3.11/site-packages/pytorch_tabnet/callbacks.py:172: UserWarning: Best weights from best epoch are automatically used!\n",
      "  warnings.warn(wrn_msg)\n"
     ]
    },
    {
     "name": "stdout",
     "output_type": "stream",
     "text": [
      "\n",
      "Early stopping occurred at epoch 49 with best_epoch = 19 and best_val_0_auc = 0.88215\n"
     ]
    },
    {
     "name": "stderr",
     "output_type": "stream",
     "text": [
      "/Users/savalideshmukh/anaconda3/lib/python3.11/site-packages/pytorch_tabnet/callbacks.py:172: UserWarning: Best weights from best epoch are automatically used!\n",
      "  warnings.warn(wrn_msg)\n"
     ]
    },
    {
     "name": "stdout",
     "output_type": "stream",
     "text": [
      "\n",
      "Early stopping occurred at epoch 50 with best_epoch = 20 and best_val_0_auc = 0.85279\n"
     ]
    },
    {
     "name": "stderr",
     "output_type": "stream",
     "text": [
      "/Users/savalideshmukh/anaconda3/lib/python3.11/site-packages/pytorch_tabnet/callbacks.py:172: UserWarning: Best weights from best epoch are automatically used!\n",
      "  warnings.warn(wrn_msg)\n",
      "/Users/savalideshmukh/anaconda3/lib/python3.11/site-packages/pytorch_tabnet/callbacks.py:172: UserWarning: Best weights from best epoch are automatically used!\n",
      "  warnings.warn(wrn_msg)\n",
      "[I 2025-05-10 16:41:02,981] Trial 32 finished with value: 0.8671648947258704 and parameters: {'n_d': 49, 'n_a': 71, 'n_steps': 3, 'gamma': 1.8866836443367472, 'lambda_sparse': 8.347487972333035e-05, 'momentum': 0.1858157910142265, 'lr': 0.028569881577516196, 'n_independent': 3, 'n_shared': 3}. Best is trial 30 with value: 0.8770934625948177.\n"
     ]
    },
    {
     "name": "stdout",
     "output_type": "stream",
     "text": [
      "\n",
      "Early stopping occurred at epoch 38 with best_epoch = 8 and best_val_0_auc = 0.88122\n",
      "\n",
      "Early stopping occurred at epoch 33 with best_epoch = 3 and best_val_0_auc = 0.84516\n"
     ]
    },
    {
     "name": "stderr",
     "output_type": "stream",
     "text": [
      "/Users/savalideshmukh/anaconda3/lib/python3.11/site-packages/pytorch_tabnet/callbacks.py:172: UserWarning: Best weights from best epoch are automatically used!\n",
      "  warnings.warn(wrn_msg)\n"
     ]
    },
    {
     "name": "stdout",
     "output_type": "stream",
     "text": [
      "\n",
      "Early stopping occurred at epoch 38 with best_epoch = 8 and best_val_0_auc = 0.84221\n"
     ]
    },
    {
     "name": "stderr",
     "output_type": "stream",
     "text": [
      "/Users/savalideshmukh/anaconda3/lib/python3.11/site-packages/pytorch_tabnet/callbacks.py:172: UserWarning: Best weights from best epoch are automatically used!\n",
      "  warnings.warn(wrn_msg)\n"
     ]
    },
    {
     "name": "stdout",
     "output_type": "stream",
     "text": [
      "\n",
      "Early stopping occurred at epoch 64 with best_epoch = 34 and best_val_0_auc = 0.87785\n"
     ]
    },
    {
     "name": "stderr",
     "output_type": "stream",
     "text": [
      "/Users/savalideshmukh/anaconda3/lib/python3.11/site-packages/pytorch_tabnet/callbacks.py:172: UserWarning: Best weights from best epoch are automatically used!\n",
      "  warnings.warn(wrn_msg)\n"
     ]
    },
    {
     "name": "stdout",
     "output_type": "stream",
     "text": [
      "\n",
      "Early stopping occurred at epoch 82 with best_epoch = 52 and best_val_0_auc = 0.87579\n"
     ]
    },
    {
     "name": "stderr",
     "output_type": "stream",
     "text": [
      "/Users/savalideshmukh/anaconda3/lib/python3.11/site-packages/pytorch_tabnet/callbacks.py:172: UserWarning: Best weights from best epoch are automatically used!\n",
      "  warnings.warn(wrn_msg)\n",
      "/Users/savalideshmukh/anaconda3/lib/python3.11/site-packages/pytorch_tabnet/callbacks.py:172: UserWarning: Best weights from best epoch are automatically used!\n",
      "  warnings.warn(wrn_msg)\n",
      "[I 2025-05-10 16:42:02,016] Trial 33 finished with value: 0.864148706858734 and parameters: {'n_d': 38, 'n_a': 49, 'n_steps': 5, 'gamma': 1.6208116639865757, 'lambda_sparse': 4.993962282765158e-05, 'momentum': 0.14163759381634708, 'lr': 0.05512746219375024, 'n_independent': 3, 'n_shared': 3}. Best is trial 30 with value: 0.8770934625948177.\n"
     ]
    },
    {
     "name": "stdout",
     "output_type": "stream",
     "text": [
      "\n",
      "Early stopping occurred at epoch 69 with best_epoch = 39 and best_val_0_auc = 0.87972\n",
      "\n",
      "Early stopping occurred at epoch 52 with best_epoch = 22 and best_val_0_auc = 0.85144\n"
     ]
    },
    {
     "name": "stderr",
     "output_type": "stream",
     "text": [
      "/Users/savalideshmukh/anaconda3/lib/python3.11/site-packages/pytorch_tabnet/callbacks.py:172: UserWarning: Best weights from best epoch are automatically used!\n",
      "  warnings.warn(wrn_msg)\n"
     ]
    },
    {
     "name": "stdout",
     "output_type": "stream",
     "text": [
      "\n",
      "Early stopping occurred at epoch 32 with best_epoch = 2 and best_val_0_auc = 0.85591\n"
     ]
    },
    {
     "name": "stderr",
     "output_type": "stream",
     "text": [
      "/Users/savalideshmukh/anaconda3/lib/python3.11/site-packages/pytorch_tabnet/callbacks.py:172: UserWarning: Best weights from best epoch are automatically used!\n",
      "  warnings.warn(wrn_msg)\n"
     ]
    },
    {
     "name": "stdout",
     "output_type": "stream",
     "text": [
      "\n",
      "Early stopping occurred at epoch 63 with best_epoch = 33 and best_val_0_auc = 0.87729\n"
     ]
    },
    {
     "name": "stderr",
     "output_type": "stream",
     "text": [
      "/Users/savalideshmukh/anaconda3/lib/python3.11/site-packages/pytorch_tabnet/callbacks.py:172: UserWarning: Best weights from best epoch are automatically used!\n",
      "  warnings.warn(wrn_msg)\n"
     ]
    },
    {
     "name": "stdout",
     "output_type": "stream",
     "text": [
      "\n",
      "Early stopping occurred at epoch 68 with best_epoch = 38 and best_val_0_auc = 0.86401\n"
     ]
    },
    {
     "name": "stderr",
     "output_type": "stream",
     "text": [
      "/Users/savalideshmukh/anaconda3/lib/python3.11/site-packages/pytorch_tabnet/callbacks.py:172: UserWarning: Best weights from best epoch are automatically used!\n",
      "  warnings.warn(wrn_msg)\n",
      "/Users/savalideshmukh/anaconda3/lib/python3.11/site-packages/pytorch_tabnet/callbacks.py:172: UserWarning: Best weights from best epoch are automatically used!\n",
      "  warnings.warn(wrn_msg)\n",
      "[I 2025-05-10 16:42:45,354] Trial 34 finished with value: 0.8661990062532068 and parameters: {'n_d': 61, 'n_a': 81, 'n_steps': 4, 'gamma': 1.4852628257734435, 'lambda_sparse': 0.0001162367118167108, 'momentum': 0.22174723512859612, 'lr': 0.012101962434962314, 'n_independent': 2, 'n_shared': 3}. Best is trial 30 with value: 0.8770934625948177.\n"
     ]
    },
    {
     "name": "stdout",
     "output_type": "stream",
     "text": [
      "\n",
      "Early stopping occurred at epoch 49 with best_epoch = 19 and best_val_0_auc = 0.88234\n",
      "\n",
      "Early stopping occurred at epoch 59 with best_epoch = 29 and best_val_0_auc = 0.86475\n"
     ]
    },
    {
     "name": "stderr",
     "output_type": "stream",
     "text": [
      "/Users/savalideshmukh/anaconda3/lib/python3.11/site-packages/pytorch_tabnet/callbacks.py:172: UserWarning: Best weights from best epoch are automatically used!\n",
      "  warnings.warn(wrn_msg)\n"
     ]
    },
    {
     "name": "stdout",
     "output_type": "stream",
     "text": [
      "\n",
      "Early stopping occurred at epoch 74 with best_epoch = 44 and best_val_0_auc = 0.85009\n"
     ]
    },
    {
     "name": "stderr",
     "output_type": "stream",
     "text": [
      "/Users/savalideshmukh/anaconda3/lib/python3.11/site-packages/pytorch_tabnet/callbacks.py:172: UserWarning: Best weights from best epoch are automatically used!\n",
      "  warnings.warn(wrn_msg)\n"
     ]
    },
    {
     "name": "stdout",
     "output_type": "stream",
     "text": [
      "\n",
      "Early stopping occurred at epoch 41 with best_epoch = 11 and best_val_0_auc = 0.88309\n"
     ]
    },
    {
     "name": "stderr",
     "output_type": "stream",
     "text": [
      "/Users/savalideshmukh/anaconda3/lib/python3.11/site-packages/pytorch_tabnet/callbacks.py:172: UserWarning: Best weights from best epoch are automatically used!\n",
      "  warnings.warn(wrn_msg)\n"
     ]
    },
    {
     "name": "stdout",
     "output_type": "stream",
     "text": [
      "\n",
      "Early stopping occurred at epoch 48 with best_epoch = 18 and best_val_0_auc = 0.87037\n"
     ]
    },
    {
     "name": "stderr",
     "output_type": "stream",
     "text": [
      "/Users/savalideshmukh/anaconda3/lib/python3.11/site-packages/pytorch_tabnet/callbacks.py:172: UserWarning: Best weights from best epoch are automatically used!\n",
      "  warnings.warn(wrn_msg)\n",
      "/Users/savalideshmukh/anaconda3/lib/python3.11/site-packages/pytorch_tabnet/callbacks.py:172: UserWarning: Best weights from best epoch are automatically used!\n",
      "  warnings.warn(wrn_msg)\n",
      "[I 2025-05-10 16:43:53,677] Trial 35 finished with value: 0.8690059233148663 and parameters: {'n_d': 52, 'n_a': 70, 'n_steps': 6, 'gamma': 1.5952856911454363, 'lambda_sparse': 2.3661572106477602e-05, 'momentum': 0.058231450234425795, 'lr': 0.0319508731371013, 'n_independent': 3, 'n_shared': 3}. Best is trial 30 with value: 0.8770934625948177.\n"
     ]
    },
    {
     "name": "stdout",
     "output_type": "stream",
     "text": [
      "\n",
      "Early stopping occurred at epoch 43 with best_epoch = 13 and best_val_0_auc = 0.87673\n",
      "\n",
      "Early stopping occurred at epoch 51 with best_epoch = 21 and best_val_0_auc = 0.84775\n"
     ]
    },
    {
     "name": "stderr",
     "output_type": "stream",
     "text": [
      "/Users/savalideshmukh/anaconda3/lib/python3.11/site-packages/pytorch_tabnet/callbacks.py:172: UserWarning: Best weights from best epoch are automatically used!\n",
      "  warnings.warn(wrn_msg)\n"
     ]
    },
    {
     "name": "stdout",
     "output_type": "stream",
     "text": [
      "\n",
      "Early stopping occurred at epoch 33 with best_epoch = 3 and best_val_0_auc = 0.84184\n"
     ]
    },
    {
     "name": "stderr",
     "output_type": "stream",
     "text": [
      "/Users/savalideshmukh/anaconda3/lib/python3.11/site-packages/pytorch_tabnet/callbacks.py:172: UserWarning: Best weights from best epoch are automatically used!\n",
      "  warnings.warn(wrn_msg)\n"
     ]
    },
    {
     "name": "stdout",
     "output_type": "stream",
     "text": [
      "\n",
      "Early stopping occurred at epoch 51 with best_epoch = 21 and best_val_0_auc = 0.8801\n"
     ]
    },
    {
     "name": "stderr",
     "output_type": "stream",
     "text": [
      "/Users/savalideshmukh/anaconda3/lib/python3.11/site-packages/pytorch_tabnet/callbacks.py:172: UserWarning: Best weights from best epoch are automatically used!\n",
      "  warnings.warn(wrn_msg)\n"
     ]
    },
    {
     "name": "stdout",
     "output_type": "stream",
     "text": [
      "\n",
      "Early stopping occurred at epoch 36 with best_epoch = 6 and best_val_0_auc = 0.83782\n"
     ]
    },
    {
     "name": "stderr",
     "output_type": "stream",
     "text": [
      "/Users/savalideshmukh/anaconda3/lib/python3.11/site-packages/pytorch_tabnet/callbacks.py:172: UserWarning: Best weights from best epoch are automatically used!\n",
      "  warnings.warn(wrn_msg)\n",
      "/Users/savalideshmukh/anaconda3/lib/python3.11/site-packages/pytorch_tabnet/callbacks.py:172: UserWarning: Best weights from best epoch are automatically used!\n",
      "  warnings.warn(wrn_msg)\n",
      "[I 2025-05-10 16:44:37,048] Trial 36 finished with value: 0.8572584436541076 and parameters: {'n_d': 46, 'n_a': 41, 'n_steps': 5, 'gamma': 1.737463056317024, 'lambda_sparse': 1.1909713640126764e-05, 'momentum': 0.14238437671407278, 'lr': 0.020791977095755254, 'n_independent': 2, 'n_shared': 3}. Best is trial 30 with value: 0.8770934625948177.\n"
     ]
    },
    {
     "name": "stdout",
     "output_type": "stream",
     "text": [
      "\n",
      "Early stopping occurred at epoch 69 with best_epoch = 39 and best_val_0_auc = 0.87879\n",
      "\n",
      "Early stopping occurred at epoch 64 with best_epoch = 34 and best_val_0_auc = 0.85403\n"
     ]
    },
    {
     "name": "stderr",
     "output_type": "stream",
     "text": [
      "/Users/savalideshmukh/anaconda3/lib/python3.11/site-packages/pytorch_tabnet/callbacks.py:172: UserWarning: Best weights from best epoch are automatically used!\n",
      "  warnings.warn(wrn_msg)\n"
     ]
    },
    {
     "name": "stdout",
     "output_type": "stream",
     "text": [
      "\n",
      "Early stopping occurred at epoch 56 with best_epoch = 26 and best_val_0_auc = 0.8546\n"
     ]
    },
    {
     "name": "stderr",
     "output_type": "stream",
     "text": [
      "/Users/savalideshmukh/anaconda3/lib/python3.11/site-packages/pytorch_tabnet/callbacks.py:172: UserWarning: Best weights from best epoch are automatically used!\n",
      "  warnings.warn(wrn_msg)\n"
     ]
    },
    {
     "name": "stdout",
     "output_type": "stream",
     "text": [
      "\n",
      "Early stopping occurred at epoch 86 with best_epoch = 56 and best_val_0_auc = 0.86476\n"
     ]
    },
    {
     "name": "stderr",
     "output_type": "stream",
     "text": [
      "/Users/savalideshmukh/anaconda3/lib/python3.11/site-packages/pytorch_tabnet/callbacks.py:172: UserWarning: Best weights from best epoch are automatically used!\n",
      "  warnings.warn(wrn_msg)\n"
     ]
    },
    {
     "name": "stdout",
     "output_type": "stream",
     "text": [
      "\n",
      "Early stopping occurred at epoch 42 with best_epoch = 12 and best_val_0_auc = 0.83109\n"
     ]
    },
    {
     "name": "stderr",
     "output_type": "stream",
     "text": [
      "/Users/savalideshmukh/anaconda3/lib/python3.11/site-packages/pytorch_tabnet/callbacks.py:172: UserWarning: Best weights from best epoch are automatically used!\n",
      "  warnings.warn(wrn_msg)\n",
      "/Users/savalideshmukh/anaconda3/lib/python3.11/site-packages/pytorch_tabnet/callbacks.py:172: UserWarning: Best weights from best epoch are automatically used!\n",
      "  warnings.warn(wrn_msg)\n",
      "[I 2025-05-10 16:44:59,069] Trial 37 finished with value: 0.858185847074736 and parameters: {'n_d': 55, 'n_a': 64, 'n_steps': 4, 'gamma': 1.5186847105706933, 'lambda_sparse': 5.9248045560499986e-05, 'momentum': 0.03717795059635505, 'lr': 0.03983232658874914, 'n_independent': 1, 'n_shared': 1}. Best is trial 30 with value: 0.8770934625948177.\n"
     ]
    },
    {
     "name": "stdout",
     "output_type": "stream",
     "text": [
      "\n",
      "Early stopping occurred at epoch 42 with best_epoch = 12 and best_val_0_auc = 0.88646\n",
      "\n",
      "✅ Best Hyperparameters Found:\n",
      "n_d: 61\n",
      "n_a: 62\n",
      "n_steps: 4\n",
      "gamma: 1.7193370395501062\n",
      "lambda_sparse: 4.511027199039756e-05\n",
      "momentum: 0.17499993899825866\n",
      "lr: 0.048765009320005034\n",
      "n_independent: 3\n",
      "n_shared: 3\n"
     ]
    },
    {
     "name": "stderr",
     "output_type": "stream",
     "text": [
      "/Users/savalideshmukh/anaconda3/lib/python3.11/site-packages/pytorch_tabnet/abstract_model.py:82: UserWarning: Device used : cpu\n",
      "  warnings.warn(f\"Device used : {self.device}\")\n"
     ]
    },
    {
     "name": "stdout",
     "output_type": "stream",
     "text": [
      "epoch 0  | loss: 1.55833 | val_0_auc: 0.6574  |  0:00:00s\n",
      "epoch 1  | loss: 0.91919 | val_0_auc: 0.83375 |  0:00:00s\n",
      "epoch 2  | loss: 0.70383 | val_0_auc: 0.76626 |  0:00:00s\n",
      "epoch 3  | loss: 0.60083 | val_0_auc: 0.82508 |  0:00:00s\n",
      "epoch 4  | loss: 0.54666 | val_0_auc: 0.85725 |  0:00:01s\n",
      "epoch 5  | loss: 0.50282 | val_0_auc: 0.84768 |  0:00:01s\n",
      "epoch 6  | loss: 0.51263 | val_0_auc: 0.85342 |  0:00:01s\n",
      "epoch 7  | loss: 0.49411 | val_0_auc: 0.86143 |  0:00:01s\n",
      "epoch 8  | loss: 0.46969 | val_0_auc: 0.87829 |  0:00:01s\n",
      "epoch 9  | loss: 0.45801 | val_0_auc: 0.88271 |  0:00:02s\n",
      "epoch 10 | loss: 0.44245 | val_0_auc: 0.87769 |  0:00:02s\n",
      "epoch 11 | loss: 0.44012 | val_0_auc: 0.87243 |  0:00:02s\n",
      "epoch 12 | loss: 0.45155 | val_0_auc: 0.8692  |  0:00:02s\n",
      "epoch 13 | loss: 0.42552 | val_0_auc: 0.85964 |  0:00:02s\n",
      "epoch 14 | loss: 0.42485 | val_0_auc: 0.84923 |  0:00:03s\n",
      "epoch 15 | loss: 0.44834 | val_0_auc: 0.85438 |  0:00:03s\n",
      "epoch 16 | loss: 0.43591 | val_0_auc: 0.86633 |  0:00:03s\n",
      "epoch 17 | loss: 0.44585 | val_0_auc: 0.88008 |  0:00:03s\n",
      "epoch 18 | loss: 0.4217  | val_0_auc: 0.88319 |  0:00:03s\n",
      "epoch 19 | loss: 0.44565 | val_0_auc: 0.88594 |  0:00:04s\n",
      "epoch 20 | loss: 0.43018 | val_0_auc: 0.88893 |  0:00:04s\n",
      "epoch 21 | loss: 0.42973 | val_0_auc: 0.89168 |  0:00:04s\n",
      "epoch 22 | loss: 0.42585 | val_0_auc: 0.88534 |  0:00:04s\n",
      "epoch 23 | loss: 0.41769 | val_0_auc: 0.8961  |  0:00:04s\n",
      "epoch 24 | loss: 0.42185 | val_0_auc: 0.88498 |  0:00:05s\n",
      "epoch 25 | loss: 0.43074 | val_0_auc: 0.89766 |  0:00:05s\n",
      "epoch 26 | loss: 0.43002 | val_0_auc: 0.89825 |  0:00:05s\n",
      "epoch 27 | loss: 0.42715 | val_0_auc: 0.89431 |  0:00:05s\n",
      "epoch 28 | loss: 0.43174 | val_0_auc: 0.8973  |  0:00:05s\n",
      "epoch 29 | loss: 0.41574 | val_0_auc: 0.89467 |  0:00:06s\n",
      "epoch 30 | loss: 0.41105 | val_0_auc: 0.89574 |  0:00:06s\n",
      "epoch 31 | loss: 0.40376 | val_0_auc: 0.90184 |  0:00:06s\n",
      "epoch 32 | loss: 0.39572 | val_0_auc: 0.89993 |  0:00:06s\n",
      "epoch 33 | loss: 0.4034  | val_0_auc: 0.89646 |  0:00:07s\n",
      "epoch 34 | loss: 0.39981 | val_0_auc: 0.89766 |  0:00:07s\n",
      "epoch 35 | loss: 0.39504 | val_0_auc: 0.9028  |  0:00:07s\n",
      "epoch 36 | loss: 0.39    | val_0_auc: 0.89981 |  0:00:07s\n",
      "epoch 37 | loss: 0.39223 | val_0_auc: 0.90591 |  0:00:07s\n",
      "epoch 38 | loss: 0.39327 | val_0_auc: 0.90806 |  0:00:08s\n",
      "epoch 39 | loss: 0.40133 | val_0_auc: 0.91033 |  0:00:08s\n",
      "epoch 40 | loss: 0.41105 | val_0_auc: 0.90196 |  0:00:08s\n",
      "epoch 41 | loss: 0.39039 | val_0_auc: 0.89909 |  0:00:08s\n",
      "epoch 42 | loss: 0.39361 | val_0_auc: 0.90148 |  0:00:09s\n",
      "epoch 43 | loss: 0.38403 | val_0_auc: 0.88809 |  0:00:09s\n",
      "epoch 44 | loss: 0.39223 | val_0_auc: 0.89586 |  0:00:09s\n",
      "epoch 45 | loss: 0.40175 | val_0_auc: 0.88761 |  0:00:09s\n",
      "epoch 46 | loss: 0.39435 | val_0_auc: 0.88594 |  0:00:09s\n",
      "epoch 47 | loss: 0.40219 | val_0_auc: 0.88618 |  0:00:10s\n",
      "epoch 48 | loss: 0.40351 | val_0_auc: 0.87398 |  0:00:10s\n",
      "epoch 49 | loss: 0.37885 | val_0_auc: 0.87518 |  0:00:10s\n",
      "epoch 50 | loss: 0.38859 | val_0_auc: 0.86896 |  0:00:10s\n",
      "epoch 51 | loss: 0.38081 | val_0_auc: 0.87386 |  0:00:10s\n",
      "epoch 52 | loss: 0.39865 | val_0_auc: 0.87303 |  0:00:11s\n",
      "epoch 53 | loss: 0.39092 | val_0_auc: 0.87339 |  0:00:11s\n",
      "epoch 54 | loss: 0.37927 | val_0_auc: 0.87637 |  0:00:11s\n",
      "epoch 55 | loss: 0.38044 | val_0_auc: 0.87327 |  0:00:11s\n",
      "epoch 56 | loss: 0.39716 | val_0_auc: 0.8741  |  0:00:12s\n",
      "epoch 57 | loss: 0.39402 | val_0_auc: 0.87374 |  0:00:12s\n",
      "epoch 58 | loss: 0.39708 | val_0_auc: 0.87602 |  0:00:12s\n",
      "epoch 59 | loss: 0.38626 | val_0_auc: 0.8808  |  0:00:12s\n",
      "epoch 60 | loss: 0.4034  | val_0_auc: 0.88355 |  0:00:12s\n",
      "epoch 61 | loss: 0.38606 | val_0_auc: 0.88116 |  0:00:13s\n",
      "epoch 62 | loss: 0.39426 | val_0_auc: 0.88116 |  0:00:13s\n",
      "epoch 63 | loss: 0.40433 | val_0_auc: 0.88008 |  0:00:13s\n",
      "epoch 64 | loss: 0.39979 | val_0_auc: 0.87709 |  0:00:13s\n",
      "epoch 65 | loss: 0.38006 | val_0_auc: 0.87901 |  0:00:13s\n",
      "epoch 66 | loss: 0.39213 | val_0_auc: 0.87626 |  0:00:14s\n",
      "epoch 67 | loss: 0.37699 | val_0_auc: 0.87649 |  0:00:14s\n",
      "epoch 68 | loss: 0.35848 | val_0_auc: 0.87554 |  0:00:14s\n",
      "epoch 69 | loss: 0.37393 | val_0_auc: 0.87661 |  0:00:14s\n",
      "\n",
      "Early stopping occurred at epoch 69 with best_epoch = 39 and best_val_0_auc = 0.91033\n"
     ]
    },
    {
     "name": "stderr",
     "output_type": "stream",
     "text": [
      "/Users/savalideshmukh/anaconda3/lib/python3.11/site-packages/pytorch_tabnet/callbacks.py:172: UserWarning: Best weights from best epoch are automatically used!\n",
      "  warnings.warn(wrn_msg)\n"
     ]
    }
   ],
   "source": [
    "# Run Optuna with Pruning to speed up\n",
    "study = optuna.create_study(direction=\"maximize\", sampler=optuna.samplers.TPESampler(), pruner=optuna.pruners.MedianPruner())\n",
    "study.optimize(objective, n_trials=50, timeout=1800)  # Try for 50 trials or 30 minutes\n",
    "\n",
    "best_params = study.best_params\n",
    "print(\"\\n✅ Best Hyperparameters Found:\")\n",
    "for k, v in best_params.items():\n",
    "    print(f\"{k}: {v}\")\n",
    "\n",
    "# Final Model Training with Best Hyperparameters\n",
    "final_tabnet = TabNetClassifier(\n",
    "    n_d=best_params['n_d'],\n",
    "    n_a=best_params['n_a'],\n",
    "    n_steps=best_params['n_steps'],\n",
    "    gamma=best_params['gamma'],\n",
    "    lambda_sparse=best_params['lambda_sparse'],\n",
    "    momentum=best_params['momentum'],\n",
    "    n_independent=best_params['n_independent'],\n",
    "    n_shared=best_params['n_shared'],\n",
    "    optimizer_fn=torch.optim.Adam,\n",
    "    optimizer_params={'lr': best_params['lr']},\n",
    "    scheduler_params={\"step_size\": 10, \"gamma\": 0.9},\n",
    "    scheduler_fn=torch.optim.lr_scheduler.StepLR,\n",
    "    verbose=1,\n",
    "    seed=42\n",
    ")\n",
    "\n",
    "final_tabnet.fit(\n",
    "    X_train, y_train,\n",
    "    eval_set=[(X_test, y_test)],\n",
    "    eval_metric=[\"auc\"],\n",
    "    max_epochs=300,\n",
    "    patience=30,\n",
    "    batch_size=256,\n",
    "    virtual_batch_size=128,\n",
    "    num_workers=0,\n",
    "    drop_last=False\n",
    ")\n"
   ]
  },
  {
   "cell_type": "code",
   "execution_count": 5,
   "id": "f232f977",
   "metadata": {},
   "outputs": [
    {
     "name": "stdout",
     "output_type": "stream",
     "text": [
      "\n",
      "📊 Final Evaluation Metrics for TabNet (Advanced):\n",
      "Model: TabNet (Advanced Tuned)\n",
      "Accuracy: 0.8261\n",
      "F1 Score: 0.8431\n",
      "Precision: 0.8431\n",
      "Recall: 0.8431\n",
      "ROC AUC: 0.9103\n"
     ]
    }
   ],
   "source": [
    "# Final Evaluation with Optimal Threshold\n",
    "y_pred_proba = final_tabnet.predict_proba(X_test)[:, 1]\n",
    "best_threshold = 0.5  # You can optimize this further if needed\n",
    "y_pred = (y_pred_proba > best_threshold).astype(int)\n",
    "\n",
    "results = {\n",
    "    'Model': \"TabNet (Advanced Tuned)\",\n",
    "    'Accuracy': accuracy_score(y_test, y_pred),\n",
    "    'F1 Score': f1_score(y_test, y_pred),\n",
    "    'Precision': precision_score(y_test, y_pred),\n",
    "    'Recall': recall_score(y_test, y_pred),\n",
    "    'ROC AUC': roc_auc_score(y_test, y_pred_proba)\n",
    "}\n",
    "\n",
    "print(\"\\n📊 Final Evaluation Metrics for TabNet (Advanced):\")\n",
    "for k, v in results.items():\n",
    "    print(f\"{k}: {v:.4f}\" if isinstance(v, float) else f\"{k}: {v}\")"
   ]
  },
  {
   "cell_type": "code",
   "execution_count": null,
   "id": "2dddbcea",
   "metadata": {},
   "outputs": [],
   "source": []
  }
 ],
 "metadata": {
  "kernelspec": {
   "display_name": "Python 3 (ipykernel)",
   "language": "python",
   "name": "python3"
  },
  "language_info": {
   "codemirror_mode": {
    "name": "ipython",
    "version": 3
   },
   "file_extension": ".py",
   "mimetype": "text/x-python",
   "name": "python",
   "nbconvert_exporter": "python",
   "pygments_lexer": "ipython3",
   "version": "3.11.5"
  }
 },
 "nbformat": 4,
 "nbformat_minor": 5
}
